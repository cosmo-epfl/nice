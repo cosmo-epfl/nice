{
 "cells": [
  {
   "cell_type": "code",
   "execution_count": null,
   "metadata": {},
   "outputs": [],
   "source": [
    "import numpy as np\n",
    "import sys\n",
    "sys.path.insert(0, './collecting_standard_features/cleaned/')\n",
    "import pyximport; pyximport.install()\n",
    "import nice_utilities\n",
    "import naive, radial_basis, spherical_coefficients, spherical_harmonics, convert_rascal_coefficients\n",
    "import unrolling_pca\n",
    "from unrolling_pca import UnrollingPCA\n",
    "from convert_rascal_coefficients import convert_rascal_coefficients, normalize_by_ps\n",
    "import ClebschGordan, test_utilities"
   ]
  },
  {
   "cell_type": "code",
   "execution_count": 2,
   "metadata": {},
   "outputs": [],
   "source": [
    "coefficients = np.zeros([5, 10, 3, 5])\n",
    "for i in range(5):\n",
    "    for j in range(10):\n",
    "        for l in range(3):\n",
    "            for m in range(2 * l + 1):\n",
    "                coefficients[i, j, l, m] = np.random.rand()"
   ]
  },
  {
   "cell_type": "code",
   "execution_count": 3,
   "metadata": {},
   "outputs": [
    {
     "name": "stdout",
     "output_type": "stream",
     "text": [
      "(45, 10)\n"
     ]
    }
   ],
   "source": [
    "packed = unrolling_pca.pack_dense(coefficients)\n",
    "print(packed.shape)"
   ]
  },
  {
   "cell_type": "code",
   "execution_count": 4,
   "metadata": {},
   "outputs": [
    {
     "name": "stdout",
     "output_type": "stream",
     "text": [
      "(5, 7, 3, 5)\n"
     ]
    }
   ],
   "source": [
    "restored = unrolling_pca.unpack_dense(packed[:, 0:7], 5, 2)\n",
    "print(restored.shape)"
   ]
  },
  {
   "cell_type": "code",
   "execution_count": 5,
   "metadata": {},
   "outputs": [
    {
     "name": "stdout",
     "output_type": "stream",
     "text": [
      "0.0\n"
     ]
    }
   ],
   "source": [
    "total = 0.0\n",
    "for i in range(5):\n",
    "    for j in range(7):\n",
    "        for l in range(3):\n",
    "            for m in range(2 * l + 1):\n",
    "                now = np.abs(coefficients[i, j, l, m] - restored[i, j, l, m])\n",
    "                total += now\n",
    "print(total)\n"
   ]
  },
  {
   "cell_type": "code",
   "execution_count": 6,
   "metadata": {},
   "outputs": [],
   "source": [
    "pca = UnrollingPCA(n_components = 5)"
   ]
  },
  {
   "cell_type": "code",
   "execution_count": 7,
   "metadata": {},
   "outputs": [
    {
     "name": "stdout",
     "output_type": "stream",
     "text": [
      "(5, 5, 3, 5)\n"
     ]
    }
   ],
   "source": [
    "print(pca.fit_transform(coefficients).shape)"
   ]
  },
  {
   "cell_type": "code",
   "execution_count": 8,
   "metadata": {},
   "outputs": [
    {
     "name": "stdout",
     "output_type": "stream",
     "text": [
      "(5, 8, 3, 5)\n"
     ]
    }
   ],
   "source": [
    "pca = UnrollingPCA(n_components = 8)\n",
    "pca.fit(coefficients)\n",
    "print(pca.transform(coefficients).shape)"
   ]
  },
  {
   "cell_type": "code",
   "execution_count": null,
   "metadata": {},
   "outputs": [],
   "source": []
  }
 ],
 "metadata": {
  "kernelspec": {
   "display_name": "Python 3",
   "language": "python",
   "name": "python3"
  },
  "language_info": {
   "codemirror_mode": {
    "name": "ipython",
    "version": 3
   },
   "file_extension": ".py",
   "mimetype": "text/x-python",
   "name": "python",
   "nbconvert_exporter": "python",
   "pygments_lexer": "ipython3",
   "version": "3.6.9"
  }
 },
 "nbformat": 4,
 "nbformat_minor": 4
}
