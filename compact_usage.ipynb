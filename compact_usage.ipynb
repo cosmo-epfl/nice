{
 "cells": [
  {
   "cell_type": "code",
   "execution_count": 1,
   "metadata": {},
   "outputs": [],
   "source": [
    "import numpy as np\n",
    "import ase.io as ase_io\n",
    "from ase import Atoms\n",
    "import tqdm\n",
    "import time\n",
    "import nice\n",
    "from nice.transformers import *\n",
    "from nice.rascal_coefficients import get_rascal_coefficients_parallelized\n",
    "\n",
    "from matplotlib import pyplot as plt"
   ]
  },
  {
   "cell_type": "code",
   "execution_count": 2,
   "metadata": {},
   "outputs": [],
   "source": [
    "def process_structures(structures, shift):\n",
    "    for structure in structures: \n",
    "        structure.cell = [2 * shift, 2 * shift, 2 * shift]\n",
    "        structure.positions += np.asarray((shift, shift, shift))\n",
    "        structure.pbc=True\n",
    "        structure.wrap()"
   ]
  },
  {
   "cell_type": "code",
   "execution_count": 3,
   "metadata": {},
   "outputs": [],
   "source": [
    "structures = ase_io.read('structures.xyz', \n",
    "                         index = '0:5000')\n",
    "\n",
    "process_structures(structures, 100)\n",
    "\n",
    "#process_structures(structures_val)\n"
   ]
  },
  {
   "cell_type": "code",
   "execution_count": 4,
   "metadata": {},
   "outputs": [
    {
     "name": "stderr",
     "output_type": "stream",
     "text": [
      "100%|██████████| 5/5 [00:00<00:00, 52.62it/s]\n",
      "100%|██████████| 2/2 [00:00<00:00, 230.65it/s]"
     ]
    },
    {
     "name": "stdout",
     "output_type": "stream",
     "text": [
      "(2000, 10, 6, 11)\n"
     ]
    },
    {
     "name": "stderr",
     "output_type": "stream",
     "text": [
      "\n"
     ]
    }
   ],
   "source": [
    "HYPERS = {\n",
    "'interaction_cutoff': 6.3,\n",
    "'max_radial': 5,\n",
    "'max_angular': 5,\n",
    "'gaussian_sigma_type': 'Constant',\n",
    "'gaussian_sigma_constant': 0.05,\n",
    "'cutoff_smooth_width': 0.3,\n",
    "'radial_basis': 'GTO'\n",
    "}\n",
    "coefficients = get_rascal_coefficients_parallelized(structures, HYPERS)    \n",
    "print(coefficients[1].shape)"
   ]
  },
  {
   "cell_type": "code",
   "execution_count": 5,
   "metadata": {},
   "outputs": [],
   "source": [
    "def normalize_coefficients(coefficients):\n",
    "    for key in coefficients.keys():\n",
    "        coefficients[key] = coefficients[key] / np.sqrt(np.sum(coefficients[key][:, :, 0, 0] ** 2, axis = 1))[:, np.newaxis, np.newaxis, np.newaxis]"
   ]
  },
  {
   "cell_type": "code",
   "execution_count": 6,
   "metadata": {},
   "outputs": [
    {
     "name": "stdout",
     "output_type": "stream",
     "text": [
      "5.733729249697946e-06\n",
      "0.06221528852748573\n"
     ]
    }
   ],
   "source": [
    "print(coefficients[6][0, 0, 0, 0])\n",
    "normalize_coefficients(coefficients)\n",
    "print(coefficients[6][0, 0, 0, 0])"
   ]
  },
  {
   "cell_type": "code",
   "execution_count": 7,
   "metadata": {},
   "outputs": [],
   "source": [
    "c_trans = StandardSequence([StandardBlock(ThresholdExpansioner(),\n",
    "                                              CovariantsPurifierBoth(max_take = 50),\n",
    "                                                  IndividualLambdaPCAsBoth(500),\n",
    "                                                 None,\n",
    "                                                 None,\n",
    "                                                  None),\n",
    "                            StandardBlock(ThresholdExpansioner(num_expand = 5000),\n",
    "                                              CovariantsPurifierBoth(max_take = 50),\n",
    "                                                  IndividualLambdaPCAsBoth(500),\n",
    "                                                  ThresholdExpansioner(num_expand = 10000, mode = 'invariants'),\n",
    "                                              InvariantsPurifier(max_take = 500),\n",
    "                                                 ),\n",
    "                             StandardBlock(ThresholdExpansioner(num_expand = 5000),\n",
    "                                             CovariantsPurifierBoth(max_take = 50),\n",
    "                                                  IndividualLambdaPCAsBoth(500),\n",
    "                                                  ThresholdExpansioner(num_expand = 10000, mode = 'invariants'),\n",
    "                                              InvariantsPurifier(max_take = 50),\n",
    "                                                  )\n",
    "                                   ])"
   ]
  },
  {
   "cell_type": "code",
   "execution_count": 8,
   "metadata": {},
   "outputs": [
    {
     "name": "stdout",
     "output_type": "stream",
     "text": [
      "5.803102254867554\n"
     ]
    }
   ],
   "source": [
    "begin = time.time()\n",
    "c_trans.fit(coefficients[6][0:5000])\n",
    "print(time.time() - begin)"
   ]
  },
  {
   "cell_type": "code",
   "execution_count": 9,
   "metadata": {},
   "outputs": [],
   "source": [
    "begin = time.time()\n",
    "invariants_even = c_trans.transform(coefficients[6][0:1000], return_only_invariants = True)\n",
    "print(time.time() - begin)"
   ]
  },
  {
   "cell_type": "code",
   "execution_count": 10,
   "metadata": {},
   "outputs": [
    {
     "name": "stdout",
     "output_type": "stream",
     "text": [
      "shape of invariants for nu = 1 : (500, 10)\n",
      "shape of invariants for nu = 2 : (500, 65)\n"
     ]
    }
   ],
   "source": [
    "for nu in invariants_even.keys():\n",
    "    print(\"shape of invariants for nu = {} : {}\".format(nu, invariants_even[nu].shape))"
   ]
  },
  {
   "cell_type": "code",
   "execution_count": 11,
   "metadata": {},
   "outputs": [
    {
     "name": "stdout",
     "output_type": "stream",
     "text": [
      "nu:  1\n"
     ]
    },
    {
     "data": {
      "image/png": "[encoded data removed]",
      "text/plain": [
       "<Figure size 432x288 with 1 Axes>"
      ]
     },
     "metadata": {
      "needs_background": "light"
     },
     "output_type": "display_data"
    },
    {
     "name": "stderr",
     "output_type": "stream",
     "text": [
      "No handles with labels found to put in legend.\n"
     ]
    },
    {
     "name": "stdout",
     "output_type": "stream",
     "text": [
      "nu:  2\n"
     ]
    },
    {
     "data": {
      "image/png": "[encoded data removed]",
      "text/plain": [
       "<Figure size 432x288 with 1 Axes>"
      ]
     },
     "metadata": {
      "needs_background": "light"
     },
     "output_type": "display_data"
    }
   ],
   "source": [
    "colors = ['r', 'g', 'b', 'orange', 'yellow', 'purple']\n",
    "\n",
    "print(\"nu: \", 1)\n",
    "for i in range(6):\n",
    "    if (c_trans.initial_pca_ is not None):\n",
    "        if (c_trans.initial_pca_.even_pca_.pcas_[i] is not None):\n",
    "            plt.plot(c_trans.initial_pca_.even_pca_.pcas_[i].importances_, color = colors[i], label = \"lambda = {}\".format(i))\n",
    "\n",
    "\n",
    "for i in range(6):\n",
    "    if (c_trans.initial_pca_ is not None):\n",
    "        if (c_trans.initial_pca_.odd_pca_.pcas_[i] is not None):\n",
    "            plt.plot(c_trans.initial_pca_.odd_pca_.pcas_[i].importances_, '--', color = colors[i], label = \"lambda = {}\".format(i))\n",
    "\n",
    "plt.yscale('log')\n",
    "plt.xscale('log')\n",
    "plt.legend()\n",
    "plt.show()\n",
    "    \n",
    "for nu in range(len(c_trans.blocks_)):\n",
    "    print(\"nu: \", nu + 2)\n",
    "    for i in range(6):\n",
    "        if (c_trans.blocks_[nu].covariants_pca_ is not None):\n",
    "            if (c_trans.blocks_[nu].covariants_pca_.even_pca_.pcas_[i] is not None):\n",
    "                plt.plot(c_trans.blocks_[nu].covariants_pca_.even_pca_.pcas_[i].importances_, color = colors[i], label = \"lambda = {}\".format(i))\n",
    "        \n",
    "    \n",
    "    for i in range(6):\n",
    "        if (c_trans.blocks_[nu].covariants_pca_ is not None):\n",
    "            if (c_trans.blocks_[nu].covariants_pca_.odd_pca_.pcas_[i] is not None):\n",
    "                plt.plot(c_trans.blocks_[nu].covariants_pca_.odd_pca_.pcas_[i].importances_, '--', color = colors[i])\n",
    "    \n",
    "    plt.yscale('log')\n",
    "    plt.xscale('log')\n",
    "    plt.legend()\n",
    "    plt.show()"
   ]
  },
  {
   "cell_type": "code",
   "execution_count": 12,
   "metadata": {},
   "outputs": [],
   "source": [
    "intermediate_shapes = c_trans.get_intermediate_shapes()"
   ]
  },
  {
   "cell_type": "code",
   "execution_count": 13,
   "metadata": {},
   "outputs": [
    {
     "name": "stdout",
     "output_type": "stream",
     "text": [
      "after initial transformer : [[10, 0, 10, 0, 10, 0], [0, 10, 0, 10, 0, 10]]\n",
      "\n",
      "\n",
      "after initial pca : [[10, 0, 10, 0, 10, 0], [0, 10, 0, 10, 0, 10]]\n",
      "\n",
      "\n",
      "block nu = 1 -> nu = 2 : {'after covariants expansioner': [[65, 59, 149, 116, 162, 107], [0, 114, 94, 164, 118, 138]]}\n",
      "\n",
      "\n"
     ]
    }
   ],
   "source": [
    "for key in intermediate_shapes.keys():\n",
    "    print(key, ':',  intermediate_shapes[key], end = '\\n\\n\\n')"
   ]
  },
  {
   "cell_type": "code",
   "execution_count": 14,
   "metadata": {},
   "outputs": [
    {
     "name": "stdout",
     "output_type": "stream",
     "text": [
      "(94, 4)\n"
     ]
    }
   ],
   "source": [
    "print(c_trans.blocks_[0].covariants_expansioner_.task_even_even_[0].shape)"
   ]
  },
  {
   "cell_type": "code",
   "execution_count": 15,
   "metadata": {},
   "outputs": [
    {
     "name": "stdout",
     "output_type": "stream",
     "text": [
      "(102, 4)\n"
     ]
    }
   ],
   "source": [
    "print(c_trans.blocks_[0].covariants_expansioner_.task_even_odd_[0].shape)"
   ]
  },
  {
   "cell_type": "code",
   "execution_count": null,
   "metadata": {},
   "outputs": [],
   "source": []
  }
 ],
 "metadata": {
  "kernelspec": {
   "display_name": "Python 3",
   "language": "python",
   "name": "python3"
  },
  "language_info": {
   "codemirror_mode": {
    "name": "ipython",
    "version": 3
   },
   "file_extension": ".py",
   "mimetype": "text/x-python",
   "name": "python",
   "nbconvert_exporter": "python",
   "pygments_lexer": "ipython3",
   "version": "3.6.9"
  }
 },
 "nbformat": 4,
 "nbformat_minor": 4
}
