{
 "cells": [
  {
   "cell_type": "code",
   "execution_count": 1,
   "metadata": {},
   "outputs": [],
   "source": [
    "'''import sys\n",
    "sys.path.insert(0, 'nice')\n",
    "'''\n",
    "#os.environ['OMP_NUM_THREADS'] = '24'\n",
    "\n",
    "import numpy as np\n",
    "import ase.io as ase_io\n",
    "from ase import Atoms\n",
    "import tqdm\n",
    "import time\n",
    "import copy\n",
    "from sklearn.linear_model import BayesianRidge\n",
    "\n",
    "import nice\n",
    "from nice.blocks import *\n",
    "from nice.unrolling_individual_pca import UnrollingIndividualPCA\n",
    "\n",
    "from matplotlib import pyplot as plt\n"
   ]
  },
  {
   "cell_type": "code",
   "execution_count": 2,
   "metadata": {},
   "outputs": [],
   "source": [
    "a = np.random.rand(100, 50, 11)"
   ]
  },
  {
   "cell_type": "code",
   "execution_count": 3,
   "metadata": {},
   "outputs": [],
   "source": [
    "pca = UnrollingIndividualPCA(n_components = 30, random_state = 0)"
   ]
  },
  {
   "cell_type": "code",
   "execution_count": 4,
   "metadata": {},
   "outputs": [],
   "source": [
    "pca.fit(a, 50, 5)"
   ]
  },
  {
   "cell_type": "code",
   "execution_count": 5,
   "metadata": {},
   "outputs": [
    {
     "name": "stdout",
     "output_type": "stream",
     "text": [
      "(100, 30, 11)\n"
     ]
    }
   ],
   "source": [
    "b1 = pca.transform(a, 50, 5, method = 'serial')\n",
    "print(b1.shape)"
   ]
  },
  {
   "cell_type": "code",
   "execution_count": 6,
   "metadata": {},
   "outputs": [
    {
     "name": "stdout",
     "output_type": "stream",
     "text": [
      "(100, 30, 11)\n"
     ]
    }
   ],
   "source": [
    "b2 = pca.transform(a, 50, 5, method = 'parallel')\n",
    "print(b2.shape)"
   ]
  },
  {
   "cell_type": "code",
   "execution_count": 7,
   "metadata": {},
   "outputs": [
    {
     "name": "stdout",
     "output_type": "stream",
     "text": [
      "[[[ 3.44272636e+00  3.31322184e+00  3.82826946e+00]\n",
      "  [-1.36836857e-01  6.11519794e-01 -7.05117776e-01]\n",
      "  [-3.22424771e-01 -1.45226017e-03  5.57996801e-02]]\n",
      "\n",
      " [[ 3.33531980e+00  3.68597352e+00  3.15352950e+00]\n",
      "  [ 1.84450121e-01 -5.36372801e-01 -7.51219714e-01]\n",
      "  [ 4.83694429e-01 -1.11344982e-01 -4.87227842e-01]]\n",
      "\n",
      " [[ 3.91558330e+00  3.63739334e+00  3.35873110e+00]\n",
      "  [ 2.74298661e-02 -6.14011123e-01 -2.97356058e-01]\n",
      "  [-1.01254015e-01  5.12425037e-01  6.81570726e-01]]]\n"
     ]
    }
   ],
   "source": [
    "print(b1[0:3, 0:3, 0:3])\n"
   ]
  },
  {
   "cell_type": "code",
   "execution_count": 8,
   "metadata": {},
   "outputs": [
    {
     "name": "stdout",
     "output_type": "stream",
     "text": [
      "[[[ 3.44272636e+00  3.31322184e+00  3.82826946e+00]\n",
      "  [-1.36836857e-01  6.11519794e-01 -7.05117776e-01]\n",
      "  [-3.22424771e-01 -1.45226017e-03  5.57996801e-02]]\n",
      "\n",
      " [[ 3.33531980e+00  3.68597352e+00  3.15352950e+00]\n",
      "  [ 1.84450121e-01 -5.36372801e-01 -7.51219714e-01]\n",
      "  [ 4.83694429e-01 -1.11344982e-01 -4.87227842e-01]]\n",
      "\n",
      " [[ 3.91558330e+00  3.63739334e+00  3.35873110e+00]\n",
      "  [ 2.74298661e-02 -6.14011123e-01 -2.97356058e-01]\n",
      "  [-1.01254015e-01  5.12425037e-01  6.81570726e-01]]]\n"
     ]
    }
   ],
   "source": [
    "print(b2[0:3, 0:3, 0:3])"
   ]
  },
  {
   "cell_type": "code",
   "execution_count": 9,
   "metadata": {},
   "outputs": [
    {
     "name": "stdout",
     "output_type": "stream",
     "text": [
      "2.3910765860633626e-12\n"
     ]
    }
   ],
   "source": [
    "pca = UnrollingIndividualPCA(n_components = 30, random_state = 0)\n",
    "pca.fit(a, 50, 5)\n",
    "b1 = pca.transform(a, 50, 5)\n",
    "\n",
    "pca = UnrollingIndividualPCA(n_components = 30, random_state = 0)\n",
    "b2 = pca.fit_transform(a, 50, 5)\n",
    "print(np.sum(np.abs(b1 - b2)))"
   ]
  },
  {
   "cell_type": "code",
   "execution_count": 10,
   "metadata": {},
   "outputs": [
    {
     "name": "stdout",
     "output_type": "stream",
     "text": [
      "[0.82160374 0.00774548 0.00746329 0.00737247 0.00719865 0.00714609\n",
      " 0.00695957 0.00683902 0.00674993 0.00664486]\n"
     ]
    }
   ],
   "source": [
    "print(pca.importances_[0:10])"
   ]
  },
  {
   "cell_type": "code",
   "execution_count": 11,
   "metadata": {},
   "outputs": [
    {
     "name": "stdout",
     "output_type": "stream",
     "text": [
      "[12.69656682  0.11969402  0.11533321  0.11392963  0.11124352  0.11043136\n",
      "  0.10754903  0.10568615  0.10430938  0.10268563]\n"
     ]
    }
   ],
   "source": [
    "pca2 = UnrollingIndividualPCA(n_components = 30, random_state = 0, normalize_importances = False)\n",
    "b2 = pca2.fit_transform(a, 50, 5)\n",
    "print(pca2.importances_[0:10])"
   ]
  },
  {
   "cell_type": "code",
   "execution_count": 13,
   "metadata": {},
   "outputs": [
    {
     "name": "stdout",
     "output_type": "stream",
     "text": [
      "[0.0647107 0.0647107 0.0647107 0.0647107 0.0647107 0.0647107 0.0647107\n",
      " 0.0647107 0.0647107 0.0647107 0.0647107 0.0647107 0.0647107 0.0647107\n",
      " 0.0647107 0.0647107 0.0647107 0.0647107 0.0647107 0.0647107 0.0647107\n",
      " 0.0647107 0.0647107 0.0647107 0.0647107 0.0647107 0.0647107 0.0647107\n",
      " 0.0647107 0.0647107]\n"
     ]
    }
   ],
   "source": [
    "print(pca.importances_ / pca2.importances_)"
   ]
  },
  {
   "cell_type": "code",
   "execution_count": null,
   "metadata": {},
   "outputs": [],
   "source": []
  }
 ],
 "metadata": {
  "kernelspec": {
   "display_name": "Python 3",
   "language": "python",
   "name": "python3"
  },
  "language_info": {
   "codemirror_mode": {
    "name": "ipython",
    "version": 3
   },
   "file_extension": ".py",
   "mimetype": "text/x-python",
   "name": "python",
   "nbconvert_exporter": "python",
   "pygments_lexer": "ipython3",
   "version": "3.6.10"
  }
 },
 "nbformat": 4,
 "nbformat_minor": 4
}
