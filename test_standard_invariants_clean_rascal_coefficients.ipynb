{
 "cells": [
  {
   "cell_type": "markdown",
   "metadata": {},
   "source": [
    "The purpose of this notebook is mainly to check the correctness of new real values spherical harmonics\n"
   ]
  },
  {
   "cell_type": "code",
   "execution_count": 1,
   "metadata": {},
   "outputs": [
    {
     "name": "stderr",
     "output_type": "stream",
     "text": [
      "/home/pozdn/.local/lib/python3.6/site-packages/Cython/Compiler/Main.py:369: FutureWarning: Cython directive 'language_level' not set, using 2 for now (Py2). This will change in a later release! File: /home/pozdn/methane_nice/collecting_standard_features/cleaned/convert_rascal_coefficients.pyx\n",
      "  tree = Parsing.p_module(s, pxd, full_module_name)\n"
     ]
    }
   ],
   "source": [
    "import sys\n",
    "sys.path.insert(0, '../')\n",
    "import numpy as np\n",
    "import ase.io as ase_io\n",
    "from ase import Atoms\n",
    "\n",
    "import pyximport; pyximport.install()\n",
    "import nice_utilities\n",
    "import naive, radial_basis, spherical_coefficients, spherical_harmonics, convert_rascal_coefficients\n",
    "from convert_rascal_coefficients import convert_rascal_coefficients, normalize_by_ps\n",
    "import ClebschGordan, test_utilities"
   ]
  },
  {
   "cell_type": "code",
   "execution_count": 2,
   "metadata": {},
   "outputs": [],
   "source": [
    "import rascal\n",
    "from rascal.representations import SphericalInvariants as SOAP\n",
    "from rascal.representations import SphericalExpansion as SPH\n",
    "from rascal.neighbourlist.structure_manager import (\n",
    "        mask_center_atoms_by_species, mask_center_atoms_by_id)"
   ]
  },
  {
   "cell_type": "code",
   "execution_count": 3,
   "metadata": {},
   "outputs": [],
   "source": [
    "def get_rascal_coefficients(structures, r_cut, n_max, l_max, n_types, normalize = True):\n",
    "    HYPERS = {\n",
    "    'interaction_cutoff': r_cut,\n",
    "    'max_radial': n_max,\n",
    "    'max_angular': l_max,\n",
    "    #'gaussian_sigma_constant': 0.05,\n",
    "    'gaussian_sigma_type': 'Constant',\n",
    "    'cutoff_smooth_width': 0.3,\n",
    "    'radial_basis': 'GTO',\n",
    "    #'expansion_by_species_method' : 'environment wise'\n",
    "    }\n",
    "    \n",
    "    nat=[]\n",
    "    y=[]\n",
    "    for structure in structures: \n",
    "        structure.cell =[120, 120, 120]\n",
    "        structure.positions += np.asarray((60,60,60))\n",
    "        structure.pbc=True\n",
    "        nat.append(5)\n",
    "        structure.wrap()\n",
    "    nat = np.asarray(nat)\n",
    "    n_envs = nat.sum()\n",
    "   \n",
    "    \n",
    "    sph = SPH(**HYPERS)\n",
    "    feat = sph.transform(structures).get_features(sph)\n",
    "    res = convert_rascal_coefficients(feat, n_max, n_types, l_max)\n",
    "    \n",
    "    if (normalize):\n",
    "        normalize_by_ps(res)\n",
    "    return np.array(res)"
   ]
  },
  {
   "cell_type": "code",
   "execution_count": 4,
   "metadata": {},
   "outputs": [],
   "source": [
    "structure = ase_io.read('../structures.xyz', index = '0:1')[0]"
   ]
  },
  {
   "cell_type": "code",
   "execution_count": 5,
   "metadata": {},
   "outputs": [
    {
     "name": "stdout",
     "output_type": "stream",
     "text": [
      "[[ 1.1957718   0.69582632 -1.5377768 ]\n",
      " [-0.07590599  1.04620262  1.95058034]\n",
      " [-1.10813614  1.91728119  1.81155538]\n",
      " [ 1.39764218 -0.98903322 -0.05350022]]\n"
     ]
    }
   ],
   "source": [
    "env = structure.positions[1:]\n",
    "print(env)"
   ]
  },
  {
   "cell_type": "code",
   "execution_count": 6,
   "metadata": {},
   "outputs": [
    {
     "name": "stdout",
     "output_type": "stream",
     "text": [
      "(5, 10, 6, 11)\n",
      "(10, 6, 11)\n"
     ]
    }
   ],
   "source": [
    "coefs = get_rascal_coefficients([structure], 6.3, 5, 5, 2, normalize = True)\n",
    "print(coefs.shape)\n",
    "coefs = coefs[0]\n",
    "print(coefs.shape)"
   ]
  },
  {
   "cell_type": "code",
   "execution_count": 7,
   "metadata": {},
   "outputs": [
    {
     "name": "stdout",
     "output_type": "stream",
     "text": [
      "(330,)\n",
      "5.035966559525711\n",
      "1.0000000000000004\n",
      "[0.01122829 0.01681375 0.01668307 0.02553262 0.0266217  0.02523632\n",
      " 0.04755694 0.03686422 0.03286326 0.08741215]\n"
     ]
    }
   ],
   "source": [
    "ps = np.array(naive.compute_powerspectrum(coefs, 5))\n",
    "print(ps.shape)\n",
    "print(np.sum(np.abs(ps)))\n",
    "print(np.sum(ps * ps))\n",
    "print(ps[0:10])"
   ]
  },
  {
   "cell_type": "code",
   "execution_count": 8,
   "metadata": {},
   "outputs": [
    {
     "name": "stdout",
     "output_type": "stream",
     "text": [
      "7.822681220105493e-14\n",
      "4.966014748128845e-14\n",
      "6.685064133526595e-14\n",
      "9.156143928440962e-14\n",
      "5.69159951848276e-14\n",
      "6.625172890221791e-14\n",
      "8.348958968563882e-14\n",
      "5.694156880357111e-14\n",
      "1.0019392728547382e-13\n",
      "7.833846639009609e-14\n"
     ]
    }
   ],
   "source": [
    "for _ in range(10):\n",
    "    rotated = Atoms(structure)\n",
    "    rotated.positions = test_utilities.rotate_env(structure.positions)\n",
    "    coefs_rotated = get_rascal_coefficients([rotated], 6.3, 5, 5, 2)[0]\n",
    "    ps_new = naive.compute_powerspectrum(coefs_rotated, 5)\n",
    "    print(np.sum(np.abs(ps - ps_new)))"
   ]
  },
  {
   "cell_type": "code",
   "execution_count": 9,
   "metadata": {},
   "outputs": [],
   "source": [
    "clebsch = ClebschGordan.ClebschGordan(5)"
   ]
  },
  {
   "cell_type": "code",
   "execution_count": 10,
   "metadata": {},
   "outputs": [
    {
     "name": "stdout",
     "output_type": "stream",
     "text": [
      "(24420,)\n",
      "16.737135598915504\n",
      "1.2313432094855783\n",
      "[ 1.68261838e-03  2.51962885e-03  2.50004579e-03  3.82619643e-03\n",
      "  3.98940103e-03  3.78179474e-03  2.51962885e-03 -1.45470839e-03\n",
      "  0.00000000e+00  2.30623460e-03 -1.78640164e-03  6.77626358e-21\n",
      "  2.46548177e-03 -2.08371241e-03 -2.71050543e-20  3.16518514e-03\n",
      " -2.79143091e-03 -2.71050543e-20  3.26152950e-03 -2.95016443e-03]\n"
     ]
    }
   ],
   "source": [
    "bs = np.array(naive.compute_bispectrum(clebsch.precomputed, coefs, 5, False))\n",
    "\n",
    "print(bs.shape)\n",
    "print(np.sum(np.abs(bs)))\n",
    "print(np.sum(bs * bs))\n",
    "print(bs[0:20])"
   ]
  },
  {
   "cell_type": "code",
   "execution_count": 11,
   "metadata": {},
   "outputs": [
    {
     "name": "stdout",
     "output_type": "stream",
     "text": [
      "7.494982072376525e-13\n",
      "6.47394999817382e-13\n",
      "5.223973906134527e-13\n",
      "3.68859935186583e-13\n",
      "3.8122878521148325e-13\n",
      "8.004296983315355e-13\n",
      "8.948619329229781e-13\n",
      "6.065529424280475e-13\n",
      "3.3378328965133683e-13\n",
      "4.1213026903759484e-13\n"
     ]
    }
   ],
   "source": [
    "for _ in range(10):\n",
    "    bs = naive.compute_bispectrum(clebsch.precomputed, coefs, 5, False)\n",
    "    bs = np.array(bs)\n",
    "    rotated = Atoms(structure)\n",
    "    rotated.positions = test_utilities.rotate_env(structure.positions)\n",
    "    coefs_rotated = get_rascal_coefficients([rotated], 6.3, 5, 5, 2)[0]\n",
    "   \n",
    "    bs_new = naive.compute_bispectrum(clebsch.precomputed, coefs_rotated, 5, False)\n",
    "    bs_new = np.array(bs_new)\n",
    "    print(np.sum(np.abs(bs - bs_new)))\n",
    "    "
   ]
  },
  {
   "cell_type": "code",
   "execution_count": 12,
   "metadata": {},
   "outputs": [
    {
     "name": "stdout",
     "output_type": "stream",
     "text": [
      "[-0.10492458 -0.00221463 -0.04264645  0.04169768  0.04595199  0.\n",
      "  0.          0.          0.          0.          0.        ]\n"
     ]
    }
   ],
   "source": [
    "print(coefs[0][2])"
   ]
  },
  {
   "cell_type": "code",
   "execution_count": 13,
   "metadata": {},
   "outputs": [
    {
     "name": "stdout",
     "output_type": "stream",
     "text": [
      "[ 0.02404831  0.09207597  0.03848061  0.06878598 -0.03760985  0.\n",
      "  0.          0.          0.          0.          0.        ]\n"
     ]
    }
   ],
   "source": [
    "print(coefs_rotated[0][2])"
   ]
  },
  {
   "cell_type": "code",
   "execution_count": null,
   "metadata": {},
   "outputs": [],
   "source": []
  }
 ],
 "metadata": {
  "kernelspec": {
   "display_name": "Python 3",
   "language": "python",
   "name": "python3"
  },
  "language_info": {
   "codemirror_mode": {
    "name": "ipython",
    "version": 3
   },
   "file_extension": ".py",
   "mimetype": "text/x-python",
   "name": "python",
   "nbconvert_exporter": "python",
   "pygments_lexer": "ipython3",
   "version": "3.6.9"
  }
 },
 "nbformat": 4,
 "nbformat_minor": 4
}
