{
 "cells": [
  {
   "cell_type": "code",
   "execution_count": 1,
   "metadata": {},
   "outputs": [],
   "source": [
    "'''import sys\n",
    "sys.path.insert(0, 'nice')\n",
    "'''\n",
    "#os.environ['OMP_NUM_THREADS'] = '24'\n",
    "\n",
    "import numpy as np\n",
    "import ase.io as ase_io\n",
    "from ase import Atoms\n",
    "import tqdm\n",
    "import time\n",
    "import copy\n",
    "from sklearn.linear_model import BayesianRidge\n",
    "\n",
    "import nice\n",
    "from nice.blocks import *\n",
    "\n",
    "\n",
    "from matplotlib import pyplot as plt\n"
   ]
  },
  {
   "cell_type": "code",
   "execution_count": 3,
   "metadata": {},
   "outputs": [],
   "source": [
    "def process_structures(structures):\n",
    "    for structure in structures: \n",
    "        structure.cell =[120, 120, 120]\n",
    "        structure.positions += np.asarray((60,60,60))\n",
    "        structure.pbc=True\n",
    "        structure.wrap()"
   ]
  },
  {
   "cell_type": "code",
   "execution_count": 4,
   "metadata": {},
   "outputs": [
    {
     "data": {
      "text/plain": [
       "\"structures_val = ase_io.read('../../collecting_standard_features/cleaned/structures.xyz', \\n                         index = '100:200')\""
      ]
     },
     "execution_count": 4,
     "metadata": {},
     "output_type": "execute_result"
    }
   ],
   "source": [
    "structures_train = ase_io.read('../../collecting_standard_features/cleaned/structures.xyz', \n",
    "                         index = '0:100000')\n",
    "\n",
    "process_structures(structures_train)\n",
    "\n",
    "'''structures_val = ase_io.read('../../collecting_standard_features/cleaned/structures.xyz', \n",
    "                         index = '100:200')'''\n",
    "\n",
    "#process_structures(structures_val)\n"
   ]
  },
  {
   "cell_type": "code",
   "execution_count": 5,
   "metadata": {},
   "outputs": [
    {
     "name": "stdout",
     "output_type": "stream",
     "text": [
      "(1000,)\n",
      "(1000,)\n"
     ]
    }
   ],
   "source": [
    "energies = np.load('../../collecting_standard_features/cleaned/energies.npy')\n",
    "energies = energies - np.mean(energies)\n",
    "energies = energies / np.sqrt(np.mean(energies * energies))\n",
    "energies_train = energies[0:1000]\n",
    "energies_val = energies[1000:2000]\n",
    "print(energies_train.shape)\n",
    "print(energies_val.shape)"
   ]
  },
  {
   "cell_type": "code",
   "execution_count": 6,
   "metadata": {},
   "outputs": [],
   "source": [
    "HYPERS = {\n",
    "'interaction_cutoff': 6.3,\n",
    "'max_radial': 5,\n",
    "'max_angular': 5,\n",
    "'gaussian_sigma_type': 'Constant',\n",
    "'gaussian_sigma_constant': 0.05,\n",
    "'cutoff_smooth_width': 0.3,\n",
    "'radial_basis': 'GTO',\n",
    "}\n",
    "    "
   ]
  },
  {
   "cell_type": "code",
   "execution_count": 7,
   "metadata": {},
   "outputs": [],
   "source": [
    "p = Pool(40)"
   ]
  },
  {
   "cell_type": "code",
   "execution_count": 8,
   "metadata": {},
   "outputs": [
    {
     "name": "stdout",
     "output_type": "stream",
     "text": [
      "100000\n"
     ]
    }
   ],
   "source": [
    "print(len(structures_train))"
   ]
  },
  {
   "cell_type": "code",
   "execution_count": 9,
   "metadata": {},
   "outputs": [
    {
     "name": "stderr",
     "output_type": "stream",
     "text": [
      "100%|██████████| 1000/1000 [00:32<00:00, 30.70it/s]\n"
     ]
    },
    {
     "name": "stdout",
     "output_type": "stream",
     "text": [
      "(500000, 10, 6, 11)\n",
      "(100000, 5, 10, 6, 11)\n"
     ]
    }
   ],
   "source": [
    "coefficients = get_rascal_coefficients_parallelized(p, structures_train, HYPERS, 2)\n",
    "print(coefficients.shape)\n",
    "coefficients = coefficients.reshape([len(structures_train), 5, coefficients.shape[1], \n",
    "                                     coefficients.shape[2], coefficients.shape[3]])\n",
    "\n",
    "print(coefficients.shape)"
   ]
  },
  {
   "cell_type": "code",
   "execution_count": 10,
   "metadata": {},
   "outputs": [
    {
     "data": {
      "text/plain": [
       "'def concatenate_data(datas):\\n    covariants = [datas[i].covariants_ for i in range(len(datas))]\\n    actual_sizes = [datas[i].actual_sizes_ for i in range(len(datas))]\\n    \\n    return Data(covariants, actual_sizes, datas[0].importances_, datas[0].raw_importances_)\\n\\ndef transform_parallelized(transformer, *args, task_size = 100):\\n    \\n    tasks = []\\n    for i in range(0, coefficients.shape[0], task_size):\\n        now = []\\n        for j in range(len(args)):\\n            now.append(args[j][i : i + task_size])\\n        tasks.append(now)\\n    \\n    \\n    result = [res for res in tqdm.tqdm(p.imap(transformer.transform, tasks), total = len(tasks))]\\n    ans = []\\n    for i in range(len(result[0])):\\n        now = [result[j][i] for j in range(len(result))]\\n        ans.append(concatenate_data(now))\\n        \\n    return ans\\n'"
      ]
     },
     "execution_count": 10,
     "metadata": {},
     "output_type": "execute_result"
    }
   ],
   "source": [
    "'''def concatenate_data(datas):\n",
    "    covariants = [datas[i].covariants_ for i in range(len(datas))]\n",
    "    actual_sizes = [datas[i].actual_sizes_ for i in range(len(datas))]\n",
    "    \n",
    "    return Data(covariants, actual_sizes, datas[0].importances_, datas[0].raw_importances_)\n",
    "\n",
    "def transform_parallelized(transformer, *args, task_size = 100):\n",
    "    \n",
    "    tasks = []\n",
    "    for i in range(0, coefficients.shape[0], task_size):\n",
    "        now = []\n",
    "        for j in range(len(args)):\n",
    "            now.append(args[j][i : i + task_size])\n",
    "        tasks.append(now)\n",
    "    \n",
    "    \n",
    "    result = [res for res in tqdm.tqdm(p.imap(transformer.transform, tasks), total = len(tasks))]\n",
    "    ans = []\n",
    "    for i in range(len(result[0])):\n",
    "        now = [result[j][i] for j in range(len(result))]\n",
    "        ans.append(concatenate_data(now))\n",
    "        \n",
    "    return ans\n",
    "'''"
   ]
  },
  {
   "cell_type": "code",
   "execution_count": 11,
   "metadata": {},
   "outputs": [],
   "source": [
    "class TSTransformer():\n",
    "    def __init__(self):\n",
    "        self.initial_ = InitialTransformer()\n",
    "        self.pca_0_ = IndividualLambdaPCAsBoth()\n",
    "        self.expansioner_1_ = ThresholdExpansioner()\n",
    "        '''self.pca_1_ = IndividualLambdaPCAsBoth()\n",
    "        self.expansioner_2_invariants_ = ThresholdExpansioner(num_expand = 100000, mode = 'invariants')\n",
    "        self.pca_2_ = IndividualLambdaPCAsBoth(3000)\n",
    "        self.expansioner_2_ = ThresholdExpansioner(num_expand = 20000)\n",
    "        self.expansioner_3 = ThresholdExpansioner(num_expand = 100000, mode = 'invariants')'''\n",
    "        '''self.pca_1_ = IndividualLambdaPCAsBoth(10)\n",
    "        self.expansioner_2_invariants_ = ThresholdExpansioner(num_expand = 10, mode = 'invariants')\n",
    "        self.pca_2_ = IndividualLambdaPCAsBoth(10)\n",
    "        self.expansioner_2_ = ThresholdExpansioner(num_expand = 10)\n",
    "        self.expansioner_3_ = ThresholdExpansioner(num_expand = 10, mode = 'invariants')'''\n",
    "        \n",
    "        self.pca_1_ = IndividualLambdaPCAsBoth(1000)\n",
    "        self.expansioner_2_invariants_ = ThresholdExpansioner(num_expand = 20000, mode = 'invariants')\n",
    "        self.pca_2_ = IndividualLambdaPCAsBoth(1000)\n",
    "        self.expansioner_2_ = ThresholdExpansioner(num_expand = 4000)\n",
    "        self.expansioner_3_ = ThresholdExpansioner(num_expand = 20000, mode = 'invariants')\n",
    "        \n",
    "        \n",
    "        \n",
    "    def fit(self, coefficients):\n",
    "        data_even_0, data_odd_0 = self.initial_.transform(coefficients)\n",
    "        self.pca_0_.fit(data_even_0, data_odd_0)\n",
    "        data_even_0, data_odd_0 = self.pca_0_.transform(data_even_0, data_odd_0)\n",
    "        #print(data_even_0.covariants_.shape[0])\n",
    "        self.expansioner_1_.fit(data_even_0, data_odd_0, data_even_0, data_odd_0)\n",
    "        data_even_1, data_odd_1 = self.expansioner_1_.transform(data_even_0, data_odd_0, data_even_0, data_odd_0)\n",
    "        self.pca_1_.fit(data_even_1, data_odd_1)\n",
    "        data_even_1, data_odd_1 = self.pca_1_.transform(data_even_1, data_odd_1)\n",
    "        self.expansioner_2_invariants_.fit(data_even_1, data_odd_1, data_even_0, data_odd_0)\n",
    "        self.expansioner_2_.fit(data_even_1, data_odd_1, data_even_0, data_odd_0)\n",
    "        data_even_2, data_odd_2 = self.expansioner_2_.transform(data_even_1, data_odd_1, data_even_0, data_odd_0)\n",
    "        self.pca_2_.fit(data_even_2, data_odd_2)\n",
    "        data_even_2, data_odd_2 = self.pca_2_.transform(data_even_2, data_odd_2)\n",
    "        self.expansioner_3_.fit(data_even_2, data_odd_2, data_even_0, data_odd_0)\n",
    "        \n",
    "    def transform(self, coefficients):                \n",
    "        data_even_0, data_odd_0 = self.initial_.transform(coefficients)\n",
    "        data_even_0_t, data_odd_0_t = self.pca_0_.transform(data_even_0, data_odd_0)\n",
    "        data_even_1, data_odd_1 = self.expansioner_1_.transform(data_even_0_t, data_odd_0_t,\n",
    "                                                                data_even_0_t, data_odd_0_t)\n",
    "        data_even_1_t, data_odd_1_t = self.pca_1_.transform(data_even_1, data_odd_1)\n",
    "        invariants_even_2, _ = self.expansioner_2_invariants_.transform(data_even_1_t, data_odd_1_t, \n",
    "                                                             data_even_0_t, data_odd_0_t)\n",
    "        \n",
    "        data_even_2, data_odd_2 = self.expansioner_2_.transform(data_even_1, data_odd_1, data_even_0, data_odd_0)\n",
    "        data_even_2_t, data_odd_2_t = self.pca_2_.transform(data_even_2, data_odd_2)\n",
    "        \n",
    "        invariants_even_3, _ = self.expansioner_3_.transform(data_even_2_t, data_odd_2_t, \n",
    "                                                             data_even_0_t, data_odd_0_t)\n",
    "        \n",
    "        return [data_even_0.covariants_[:, :data_even_0.actual_sizes_[0], 0, 0], \n",
    "                data_even_1.covariants_[:, :data_even_1.actual_sizes_[0], 0, 0],\n",
    "                invariants_even_2, invariants_even_3]\n",
    "        "
   ]
  },
  {
   "cell_type": "code",
   "execution_count": 12,
   "metadata": {},
   "outputs": [],
   "source": [
    "def split_coefficients(coefficients):\n",
    "    c_coefficients = coefficients[:, 0]\n",
    "    h_coefficients = coefficients[:, 1:]\n",
    "   \n",
    "    h_coefficients = np.reshape(h_coefficients, [coefficients.shape[0] * 4, \n",
    "                                              coefficients.shape[2], coefficients.shape[3],\n",
    "                                              coefficients.shape[4]])\n",
    "    return c_coefficients, h_coefficients"
   ]
  },
  {
   "cell_type": "code",
   "execution_count": 13,
   "metadata": {},
   "outputs": [
    {
     "name": "stdout",
     "output_type": "stream",
     "text": [
      "(100000, 10, 6, 11)\n"
     ]
    }
   ],
   "source": [
    "c_coefficients, h_coefficients = split_coefficients(coefficients)\n",
    "print(c_coefficients.shape)"
   ]
  },
  {
   "cell_type": "code",
   "execution_count": 14,
   "metadata": {},
   "outputs": [
    {
     "data": {
      "text/plain": [
       "'begin = time.time()\\npst = BSTransformer()\\npst.fit(c_coefficients)\\nprint(time.time() - begin)'"
      ]
     },
     "execution_count": 14,
     "metadata": {},
     "output_type": "execute_result"
    }
   ],
   "source": [
    "'''begin = time.time()\n",
    "pst = BSTransformer()\n",
    "pst.fit(c_coefficients)\n",
    "print(time.time() - begin)'''"
   ]
  },
  {
   "cell_type": "code",
   "execution_count": 15,
   "metadata": {},
   "outputs": [
    {
     "data": {
      "text/plain": [
       "'begin = time.time()\\nres = pst.transform(c_coefficients)\\nprint(res[2].shape)\\nprint(time.time() - begin)'"
      ]
     },
     "execution_count": 15,
     "metadata": {},
     "output_type": "execute_result"
    }
   ],
   "source": [
    "'''begin = time.time()\n",
    "res = pst.transform(c_coefficients)\n",
    "print(res[2].shape)\n",
    "print(time.time() - begin)'''"
   ]
  },
  {
   "cell_type": "code",
   "execution_count": 16,
   "metadata": {},
   "outputs": [],
   "source": [
    "def fit(coefficients, num_to_fit):\n",
    "    c_coefficients, h_coefficients = split_coefficients(coefficients)\n",
    "    print(c_coefficients.shape)\n",
    "    begin = time.time()\n",
    "    c_trans = TSTransformer()\n",
    "    c_trans.fit(c_coefficients[:num_to_fit])\n",
    "    print(time.time() - begin)\n",
    "    \n",
    "    begin = time.time()\n",
    "    h_trans = TSTransformer()\n",
    "    h_trans.fit(h_coefficients[:num_to_fit])\n",
    "    print(time.time() - begin)\n",
    "    \n",
    "    return c_trans, h_trans\n",
    "\n"
   ]
  },
  {
   "cell_type": "code",
   "execution_count": 17,
   "metadata": {},
   "outputs": [],
   "source": [
    "c_coefficients, h_coefficients = split_coefficients(coefficients)\n"
   ]
  },
  {
   "cell_type": "code",
   "execution_count": 18,
   "metadata": {},
   "outputs": [
    {
     "name": "stdout",
     "output_type": "stream",
     "text": [
      "(100000, 10, 6, 11)\n",
      "1707.313946723938\n",
      "1546.420652627945\n"
     ]
    }
   ],
   "source": [
    "c_trans, h_trans = fit(coefficients, 2000)\n"
   ]
  },
  {
   "cell_type": "code",
   "execution_count": 19,
   "metadata": {},
   "outputs": [],
   "source": [
    "import pickle\n",
    "with open(\"nu_4_data/transformers\", \"wb\") as f:\n",
    "    pickle.dump([c_trans, h_trans], f, protocol = 4)"
   ]
  },
  {
   "cell_type": "code",
   "execution_count": 20,
   "metadata": {},
   "outputs": [],
   "source": [
    "def transform_full(transformer, coefficients, task_size = 100):\n",
    "    tasks = [coefficients[i : i + task_size]\n",
    "             for i in range(0, coefficients.shape[0], task_size)]  \n",
    "    print(len(tasks))\n",
    "    result = [res for res in tqdm.tqdm(p.imap(transformer.transform, tasks), total = len(tasks))]\n",
    "    ans = []\n",
    "    for i in range(len(result[0])):\n",
    "        now = [result[j][i] for j in range(len(result))]\n",
    "        ans.append(np.concatenate(now, axis = 0))\n",
    "        \n",
    "    return ans"
   ]
  },
  {
   "cell_type": "code",
   "execution_count": 21,
   "metadata": {},
   "outputs": [
    {
     "name": "stderr",
     "output_type": "stream",
     "text": [
      "\r",
      "  0%|          | 0/1000 [00:00<?, ?it/s]"
     ]
    },
    {
     "name": "stdout",
     "output_type": "stream",
     "text": [
      "1000\n"
     ]
    },
    {
     "name": "stderr",
     "output_type": "stream",
     "text": [
      "100%|██████████| 1000/1000 [29:49<00:00,  1.79s/it]\n"
     ]
    },
    {
     "data": {
      "text/plain": [
       "'print(result[0].shape)\\nprint(result[1].shape)\\nprint(result[2].shape)'"
      ]
     },
     "execution_count": 21,
     "metadata": {},
     "output_type": "execute_result"
    }
   ],
   "source": [
    "c_coefficients, h_coefficients = split_coefficients(coefficients)\n",
    "#result = np.concatenate(transform_full(c_trans, c_coefficients), axis = 1)\n",
    "result = transform_full(c_trans, c_coefficients)\n",
    "'''print(result[0].shape)\n",
    "print(result[1].shape)\n",
    "print(result[2].shape)'''\n",
    "#print(result.shape)"
   ]
  },
  {
   "cell_type": "code",
   "execution_count": 22,
   "metadata": {},
   "outputs": [],
   "source": [
    "with open(\"nu_4_data/zpbsts_c\", \"wb\") as f:\n",
    "    pickle.dump(result, f, protocol = 4)"
   ]
  },
  {
   "cell_type": "code",
   "execution_count": 23,
   "metadata": {},
   "outputs": [
    {
     "data": {
      "text/plain": [
       "'import pickle\\nwith open(\"nu_2_data/transformers\", \"rb\") as f:\\n    c_trans, h_trans = pickle.load(f)'"
      ]
     },
     "execution_count": 23,
     "metadata": {},
     "output_type": "execute_result"
    }
   ],
   "source": [
    "'''import pickle\n",
    "with open(\"nu_2_data/transformers\", \"rb\") as f:\n",
    "    c_trans, h_trans = pickle.load(f)'''"
   ]
  },
  {
   "cell_type": "code",
   "execution_count": 24,
   "metadata": {},
   "outputs": [
    {
     "name": "stderr",
     "output_type": "stream",
     "text": [
      "\r",
      "  0%|          | 0/4000 [00:00<?, ?it/s]"
     ]
    },
    {
     "name": "stdout",
     "output_type": "stream",
     "text": [
      "4000\n"
     ]
    },
    {
     "name": "stderr",
     "output_type": "stream",
     "text": [
      "100%|██████████| 4000/4000 [2:03:01<00:00,  1.85s/it]  \n"
     ]
    }
   ],
   "source": [
    "result = transform_full(h_trans, h_coefficients)\n",
    "#print(result.shape)"
   ]
  },
  {
   "cell_type": "code",
   "execution_count": 25,
   "metadata": {},
   "outputs": [],
   "source": [
    "with open(\"nu_4_data/zpbsts_h\", \"wb\") as f:\n",
    "    pickle.dump(result, f, protocol = 4)"
   ]
  },
  {
   "cell_type": "code",
   "execution_count": null,
   "metadata": {},
   "outputs": [],
   "source": []
  },
  {
   "cell_type": "markdown",
   "metadata": {},
   "source": [
    "## "
   ]
  }
 ],
 "metadata": {
  "kernelspec": {
   "display_name": "Python 3",
   "language": "python",
   "name": "python3"
  },
  "language_info": {
   "codemirror_mode": {
    "name": "ipython",
    "version": 3
   },
   "file_extension": ".py",
   "mimetype": "text/x-python",
   "name": "python",
   "nbconvert_exporter": "python",
   "pygments_lexer": "ipython3",
   "version": "3.6.10"
  }
 },
 "nbformat": 4,
 "nbformat_minor": 4
}
