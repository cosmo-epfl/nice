{
 "cells": [
  {
   "cell_type": "code",
   "execution_count": 1,
   "metadata": {},
   "outputs": [],
   "source": [
    "import numpy as np\n",
    "import sys\n",
    "sys.path.insert(0, './collecting_standard_features/cleaned/')\n",
    "import pyximport; pyximport.install()\n",
    "import nice_utilities\n",
    "import naive, radial_basis, spherical_coefficients, spherical_harmonics, convert_rascal_coefficients\n",
    "import unrolling_pca\n",
    "from nice_utilities import do_full_expansion\n",
    "from unrolling_pca import UnrollingPCA\n",
    "from convert_rascal_coefficients import convert_rascal_coefficients, normalize_by_ps\n",
    "import ClebschGordan, test_utilities"
   ]
  },
  {
   "cell_type": "code",
   "execution_count": 2,
   "metadata": {},
   "outputs": [],
   "source": [
    "import numpy as np\n",
    "import ase.io as ase_io\n",
    "from ase import Atoms\n",
    "import tqdm\n",
    "from pathos.multiprocessing import ProcessingPool as Pool\n",
    "\n",
    "\n"
   ]
  },
  {
   "cell_type": "code",
   "execution_count": 3,
   "metadata": {},
   "outputs": [],
   "source": [
    "def process_structures(structures):\n",
    "    for structure in structures: \n",
    "        structure.cell =[120, 120, 120]\n",
    "        structure.positions += np.asarray((60,60,60))\n",
    "        structure.pbc=True\n",
    "        structure.wrap()"
   ]
  },
  {
   "cell_type": "code",
   "execution_count": 4,
   "metadata": {},
   "outputs": [],
   "source": [
    "structures = ase_io.read('collecting_standard_features/cleaned/structures.xyz', index = '0:10')\n",
    "process_structures(structures)"
   ]
  },
  {
   "cell_type": "code",
   "execution_count": 5,
   "metadata": {},
   "outputs": [],
   "source": [
    "R_CUT = 6.3\n",
    "\n",
    "N_MAX = 5\n",
    "L_MAX = 5\n"
   ]
  },
  {
   "cell_type": "code",
   "execution_count": 6,
   "metadata": {},
   "outputs": [],
   "source": [
    "import rascal\n",
    "from rascal.representations import SphericalInvariants as SOAP\n",
    "from rascal.representations import SphericalExpansion as SPH\n",
    "from rascal.neighbourlist.structure_manager import (\n",
    "        mask_center_atoms_by_species, mask_center_atoms_by_id)\n",
    "\n",
    "\n",
    "    \n",
    "    \n",
    "def get_rascal_coefficients(structures, r_cut, n_max, l_max, n_types, normalize = True):\n",
    "    HYPERS = {\n",
    "    'interaction_cutoff': r_cut,\n",
    "    'max_radial': n_max,\n",
    "    'max_angular': l_max,\n",
    "    'gaussian_sigma_constant': 0.05,\n",
    "    'gaussian_sigma_type': 'Constant',\n",
    "    'cutoff_smooth_width': 0.3,\n",
    "    'radial_basis': 'GTO',\n",
    "    #'expansion_by_species_method' : 'environment wise'\n",
    "    }\n",
    "   \n",
    "    \n",
    "    sph = SPH(**HYPERS)\n",
    "    feat = sph.transform(structures).get_features(sph)\n",
    "    res = convert_rascal_coefficients(feat, n_max, n_types, l_max)\n",
    "    \n",
    "    if (normalize):\n",
    "        normalize_by_ps(res)\n",
    "    return np.array(res)"
   ]
  },
  {
   "cell_type": "code",
   "execution_count": 7,
   "metadata": {},
   "outputs": [],
   "source": [
    "def get_rascal_coefficients_parallelized(p, structures, r_cut, n_max, l_max, n_types,\n",
    "                                         normalize = True, task_size = 100):\n",
    "    \n",
    "    tasks = []\n",
    "    for i in range(0, len(structures), task_size):\n",
    "        tasks.append([structures[i : i + task_size], r_cut, n_max, l_max, n_types, normalize])\n",
    "        \n",
    "    def wrapped(task):\n",
    "        return get_rascal_coefficients(*task)\n",
    "    \n",
    "    result = [res for res in tqdm.tqdm(p.imap(wrapped, tasks), total = len(tasks))]\n",
    "    return np.concatenate(result, axis = 0)\n",
    "    "
   ]
  },
  {
   "cell_type": "code",
   "execution_count": 8,
   "metadata": {},
   "outputs": [],
   "source": [
    "p = Pool(45)"
   ]
  },
  {
   "cell_type": "code",
   "execution_count": 9,
   "metadata": {},
   "outputs": [
    {
     "name": "stderr",
     "output_type": "stream",
     "text": [
      "100%|██████████| 1/1 [00:00<00:00, 50.26it/s]"
     ]
    },
    {
     "name": "stdout",
     "output_type": "stream",
     "text": [
      "(50, 10, 6, 11)\n",
      "(10, 5, 10, 6, 11)\n"
     ]
    },
    {
     "name": "stderr",
     "output_type": "stream",
     "text": [
      "\n"
     ]
    }
   ],
   "source": [
    "coefficients = get_rascal_coefficients_parallelized(p, structures, R_CUT, N_MAX, L_MAX, 2)\n",
    "print(coefficients.shape)\n",
    "coefficients = np.reshape(coefficients, [len(structures), -1, coefficients.shape[1],\n",
    "                                         coefficients.shape[2], coefficients.shape[3]])\n",
    "print(coefficients.shape)"
   ]
  },
  {
   "cell_type": "code",
   "execution_count": 10,
   "metadata": {},
   "outputs": [],
   "source": [
    "clebsch = ClebschGordan.ClebschGordan(L_MAX)"
   ]
  },
  {
   "cell_type": "code",
   "execution_count": 11,
   "metadata": {},
   "outputs": [],
   "source": [
    "def get_values(coefficients):\n",
    "    even_mask = np.array(range(coefficients.shape[2])) % 2 == 0\n",
    "   \n",
    "    odd_mask = np.logical_not(even_mask)\n",
    "   \n",
    "    even_1 = np.copy(coefficients)\n",
    "    even_1[:, :, odd_mask, :] = 0.0\n",
    "\n",
    "    odd_1 = np.copy(c_coefficients)\n",
    "    odd_1[:, :, even_mask, :] = 0.0\n",
    "\n",
    "   \n",
    "    \n",
    "    even_2_first, odd_2_first = do_full_expansion(clebsch.precomputed, even_1,\n",
    "                                              coefficients, L_MAX)\n",
    "\n",
    "    odd_2_second, even_2_second = do_full_expansion(clebsch.precomputed, odd_1, \n",
    "                                                coefficients, L_MAX)\n",
    "    \n",
    "    even_2 = np.concatenate([even_2_first, even_2_second], axis = 1)\n",
    "    odd_2 = np.concatenate([odd_2_first, odd_2_second], axis = 1)\n",
    "    \n",
    "    #pca_2_even = UnrollingPCA(n_components = 15, algorithm = 'arpack')\n",
    "    np.random.seed(42)\n",
    "    matrix_even = np.random.rand(even_2.shape[1], 15)\n",
    "    even_2_compressed = np.sum(even_2[:, :, :, :, np.newaxis] * \\\n",
    "                               matrix_even[np.newaxis, :, np.newaxis, np.newaxis, :], axis = 1)\n",
    "    \n",
    "   \n",
    "    np.random.seed(43)\n",
    "    matrix_odd = np.random.rand(odd_2.shape[1], 15)\n",
    "    odd_2_compressed = np.sum(odd_2[:, :, :, :, np.newaxis] * \\\n",
    "                               matrix_odd[np.newaxis, :, np.newaxis, np.newaxis, :], axis = 1)\n",
    "    \n",
    "    \n",
    "    even_3_first, odd_3_first = do_full_expansion(clebsch.precomputed, even_2_compressed,\n",
    "                                              coefficients, L_MAX)\n",
    "\n",
    "    odd_3_second, even_3_second = do_full_expansion(clebsch.precomputed, odd_2_compressed, \n",
    "                                                coefficients, L_MAX)\n",
    "    \n",
    "    even_3 = np.concatenate([even_3_first, even_3_second], axis = 1)\n",
    "    odd_3 = np.concatenate([odd_3_first, odd_3_second], axis = 1)\n",
    "    \n",
    "    \n",
    "    return even_1, odd_1, even_2, odd_2, even_3, odd_3"
   ]
  },
  {
   "cell_type": "code",
   "execution_count": 12,
   "metadata": {},
   "outputs": [],
   "source": [
    "c_coefficients = coefficients[:, 0]\n",
    "even_1, odd_1, even_2, odd_2,  even_3, odd_3 = get_values(c_coefficients)"
   ]
  },
  {
   "cell_type": "code",
   "execution_count": 13,
   "metadata": {},
   "outputs": [
    {
     "name": "stdout",
     "output_type": "stream",
     "text": [
      "(10, 10, 6, 11)\n",
      "(10, 10, 6, 11)\n",
      "(10, 3600, 6, 11)\n",
      "(10, 3600, 6, 11)\n",
      "(10, 2160, 6, 11)\n",
      "(10, 2160, 6, 11)\n"
     ]
    }
   ],
   "source": [
    "print(even_1.shape)\n",
    "print(odd_1.shape)\n",
    "print(even_2.shape)\n",
    "print(odd_2.shape)\n",
    "print(even_3.shape)\n",
    "print(odd_3.shape)"
   ]
  },
  {
   "cell_type": "code",
   "execution_count": 14,
   "metadata": {},
   "outputs": [
    {
     "name": "stderr",
     "output_type": "stream",
     "text": [
      "100%|██████████| 1/1 [00:00<00:00, 41.55it/s]"
     ]
    },
    {
     "name": "stdout",
     "output_type": "stream",
     "text": [
      "(50, 10, 6, 11)\n",
      "(10, 5, 10, 6, 11)\n"
     ]
    },
    {
     "name": "stderr",
     "output_type": "stream",
     "text": [
      "\n"
     ]
    }
   ],
   "source": [
    "for structure in structures:\n",
    "    structure.positions = -structure.positions\n",
    "    \n",
    "process_structures(structures)\n",
    "process_structures(structures)\n",
    "coefficients = get_rascal_coefficients_parallelized(p, structures, R_CUT, N_MAX, L_MAX, 2)\n",
    "print(coefficients.shape)\n",
    "coefficients = np.reshape(coefficients, [len(structures), -1, coefficients.shape[1],\n",
    "                                         coefficients.shape[2], coefficients.shape[3]])\n",
    "print(coefficients.shape)\n",
    "\n",
    "c_coefficients = coefficients[:, 0]\n",
    "even_1_inverted, odd_1_inverted, even_2_inverted, odd_2_inverted,\\\n",
    "even_3_inverted, odd_3_inverted = get_values(c_coefficients)"
   ]
  },
  {
   "cell_type": "code",
   "execution_count": 15,
   "metadata": {},
   "outputs": [
    {
     "name": "stdout",
     "output_type": "stream",
     "text": [
      "64.78717966639871\n",
      "1.6346348704620608e-11\n",
      "848.8162284040923\n",
      "4.12983578043376e-10\n",
      "3450.915115977601\n",
      "1.414861927721419e-09\n"
     ]
    }
   ],
   "source": [
    "print(np.sum(np.abs(even_1)))\n",
    "print(np.sum(np.abs(even_1 - even_1_inverted)))\n",
    "\n",
    "print(np.sum(np.abs(even_2)))\n",
    "print(np.sum(np.abs(even_2 - even_2_inverted)))\n",
    "\n",
    "print(np.sum(np.abs(even_3)))\n",
    "print(np.sum(np.abs(even_3 - even_3_inverted)))"
   ]
  },
  {
   "cell_type": "code",
   "execution_count": 16,
   "metadata": {},
   "outputs": [
    {
     "name": "stdout",
     "output_type": "stream",
     "text": [
      "64.57055069723128\n",
      "2.2043962128229753e-11\n",
      "941.4626608255329\n",
      "4.662877399309857e-10\n",
      "3578.5815643291357\n",
      "1.4169684142788747e-09\n"
     ]
    }
   ],
   "source": [
    "print(np.sum(np.abs(odd_1)))\n",
    "print(np.sum(np.abs(odd_1 + odd_1_inverted)))\n",
    "\n",
    "print(np.sum(np.abs(odd_2)))\n",
    "print(np.sum(np.abs(odd_2 + odd_2_inverted)))\n",
    "\n",
    "print(np.sum(np.abs(odd_3)))\n",
    "print(np.sum(np.abs(odd_3 + odd_3_inverted)))"
   ]
  },
  {
   "cell_type": "code",
   "execution_count": null,
   "metadata": {},
   "outputs": [],
   "source": []
  },
  {
   "cell_type": "code",
   "execution_count": null,
   "metadata": {},
   "outputs": [],
   "source": []
  },
  {
   "cell_type": "code",
   "execution_count": null,
   "metadata": {},
   "outputs": [],
   "source": []
  }
 ],
 "metadata": {
  "kernelspec": {
   "display_name": "Python 3",
   "language": "python",
   "name": "python3"
  },
  "language_info": {
   "codemirror_mode": {
    "name": "ipython",
    "version": 3
   },
   "file_extension": ".py",
   "mimetype": "text/x-python",
   "name": "python",
   "nbconvert_exporter": "python",
   "pygments_lexer": "ipython3",
   "version": "3.6.9"
  }
 },
 "nbformat": 4,
 "nbformat_minor": 4
}
