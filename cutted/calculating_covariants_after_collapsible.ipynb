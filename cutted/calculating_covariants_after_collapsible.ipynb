{
 "cells": [
  {
   "cell_type": "markdown",
   "metadata": {},
   "source": [
    "Now we need to call .transform method with return_only_invariants = False, which is default value:"
   ]
  },
  {
   "cell_type": "code",
   "execution_count": 2,
   "metadata": {},
   "outputs": [],
   "source": [
    "data_even, data_odd, invariants_even = nice[1].transform(train_coefficients[1])"
   ]
  },
  {
   "cell_type": "markdown",
   "metadata": {},
   "source": [
    "result is data_even, data_odd and invariants_even. First two objects are covariants, the last is invariants. \n",
    "\n",
    "There is one another important symmetry in addition to translational and rotational one. Usually atomic properties, such as energy, transform in certain way also with respect to inversion. Particularly, energy is invariant with respect to it. \n",
    "\n",
    "In NICE features are separated in two groups - the ones which are invariant with respect to inversion, and the ones which change their sign. The first are called even, second are called odd. \n",
    "\n",
    "Now let's take a look at the returned objects more closely:"
   ]
  },
  {
   "cell_type": "markdown",
   "metadata": {},
   "source": [
    "invariants is the same object as in the previous tutorial - dictionary, where keys are body order"
   ]
  },
  {
   "cell_type": "code",
   "execution_count": 3,
   "metadata": {},
   "outputs": [
    {
     "name": "stdout",
     "output_type": "stream",
     "text": [
      "(40000, 10)\n",
      "(40000, 200)\n",
      "(40000, 200)\n",
      "(40000, 200)\n"
     ]
    }
   ],
   "source": [
    "for key in invariants_even.keys():\n",
    "    print(invariants_even[key].shape)"
   ]
  },
  {
   "cell_type": "markdown",
   "metadata": {},
   "source": [
    "Returned covariants are covariants after last block, i. e. in our case of body order 4. \n",
    "(functionality to get all covariants of all body order from StandardSequence will be added in the next version of NICE)"
   ]
  },
  {
   "cell_type": "markdown",
   "metadata": {},
   "source": [
    "Even covariants are packed in the class Data, which has two relevant fields - \n",
    ".covariants_ and .actual_sizes_. (getters are also to be added in the next version) First is np.array with covariants themselves. It has following indexing -[environmental_index, feature_index, lambda, m]. But the problem is that for each lambda channel actual number of features is different. Thus, shape of this array doesn't reflect real number of meaningfull entries. Information about actual number of features is stored in .actual_sizes_:"
   ]
  },
  {
   "cell_type": "code",
   "execution_count": 4,
   "metadata": {},
   "outputs": [
    {
     "name": "stdout",
     "output_type": "stream",
     "text": [
      "<class 'nice.nice_utilities.Data'>\n",
      "shape of even covariants array: (40000, 87, 6, 11)\n",
      "actual sizes of even covariants: [22 55 73 83 87 76]\n"
     ]
    }
   ],
   "source": [
    "print(type(data_even))\n",
    "print(\"shape of even covariants array: {}\".format(data_even.covariants_.shape))\n",
    "print(\"actual sizes of even covariants: {}\".format(data_even.actual_sizes_))"
   ]
  },
  {
   "cell_type": "markdown",
   "metadata": {},
   "source": [
    "The same for odd covariants:"
   ]
  },
  {
   "cell_type": "code",
   "execution_count": 5,
   "metadata": {},
   "outputs": [
    {
     "name": "stdout",
     "output_type": "stream",
     "text": [
      "shape of odd covariants array: (40000, 88, 6, 11)\n",
      "actual sizes of odd covariants: [20 54 72 87 88 75]\n"
     ]
    }
   ],
   "source": [
    "print(\"shape of odd covariants array: {}\".format(data_odd.covariants_.shape))\n",
    "print(\"actual sizes of odd covariants: {}\".format(data_odd.actual_sizes_))"
   ]
  },
  {
   "cell_type": "markdown",
   "metadata": {},
   "source": [
    "There is one another point - that for each lambda channel size of covariant vectors is (2 * lambda + 1). These vectors are stored from the beginning. It means that meaningfull entries for each lambda are located in [:, :, lambda, :(2 * lambda + 1)]"
   ]
  },
  {
   "cell_type": "markdown",
   "metadata": {},
   "source": [
    "In the [nice article](https://aip.scitation.org/doi/10.1063/5.0021116) other definition of parity is used. Covariants are splitted into true and pseudo groups. All covariants in true group are transformed with respect to inversion as (-1)^lambda, while all covariants in the pseudo group are transformed as (-1) ^ (lambda + 1). \n",
    "\n",
    "There is special class - ParityDefinitionChanger to switch between these definitions:"
   ]
  },
  {
   "cell_type": "code",
   "execution_count": 6,
   "metadata": {},
   "outputs": [
    {
     "name": "stdout",
     "output_type": "stream",
     "text": [
      "(40000, 87, 6, 11)\n",
      "[22 54 73 87 87 75]\n",
      "(40000, 88, 6, 11)\n",
      "[20 55 72 83 88 76]\n"
     ]
    }
   ],
   "source": [
    "data_true, data_pseudo = ParityDefinitionChanger().transform(\n",
    "    data_even, data_odd)\n",
    "\n",
    "print(data_true.covariants_.shape)\n",
    "print(data_true.actual_sizes_)\n",
    "\n",
    "print(data_pseudo.covariants_.shape)\n",
    "print(data_pseudo.actual_sizes_)"
   ]
  },
  {
   "cell_type": "markdown",
   "metadata": {},
   "source": [
    "This transformation is symmetric, thus, we can use this it once again to go back from true and pseudo covariants to even and odd:"
   ]
  },
  {
   "cell_type": "code",
   "execution_count": 7,
   "metadata": {},
   "outputs": [],
   "source": [
    "data_even, data_odd = ParityDefinitionChanger().transform(\n",
    "    data_true, data_pseudo)"
   ]
  },
  {
   "cell_type": "markdown",
   "metadata": {},
   "source": [
    "There is one another discrepancy - covariants defined in the nice article, are smaller by the factor of (2 * lambda + 1). Thus, the last step to get full compliance is the following:"
   ]
  },
  {
   "cell_type": "code",
   "execution_count": 8,
   "metadata": {},
   "outputs": [],
   "source": [
    "for lambd in range(6):\n",
    "    data_true.covariants_[:, :data_true.actual_sizes_[lambd],\n",
    "                          lambd, :(2 * lambd + 1)] /= (2 * lambd + 1)\n",
    "    data_pseudo.covariants_[:, :data_pseudo.actual_sizes_[lambd],\n",
    "                            lambd, :(2 * lambd + 1)] /= (2 * lambd + 1)"
   ]
  }
 ],
 "metadata": {
  "kernelspec": {
   "display_name": "Python 3",
   "language": "python",
   "name": "python3"
  },
  "language_info": {
   "codemirror_mode": {
    "name": "ipython",
    "version": 3
   },
   "file_extension": ".py",
   "mimetype": "text/x-python",
   "name": "python",
   "nbconvert_exporter": "python",
   "pygments_lexer": "ipython3",
   "version": "3.6.9"
  }
 },
 "nbformat": 4,
 "nbformat_minor": 4
}
