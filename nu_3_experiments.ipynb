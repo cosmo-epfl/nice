{
 "cells": [
  {
   "cell_type": "code",
   "execution_count": 1,
   "metadata": {},
   "outputs": [],
   "source": [
    "'''import sys\n",
    "sys.path.insert(0, 'nice')\n",
    "'''\n",
    "#os.environ['OMP_NUM_THREADS'] = '24'\n",
    "\n",
    "import numpy as np\n",
    "import ase.io as ase_io\n",
    "from ase import Atoms\n",
    "import tqdm\n",
    "import time\n",
    "import copy\n",
    "from sklearn.linear_model import BayesianRidge\n",
    "from pathos.multiprocessing import ProcessingPool as Pool\n",
    "import nice\n",
    "from nice.transformers import *\n",
    "from nice.parallelized import *\n",
    "\n",
    "from matplotlib import pyplot as plt\n"
   ]
  },
  {
   "cell_type": "code",
   "execution_count": 2,
   "metadata": {},
   "outputs": [],
   "source": [
    "def process_structures(structures):\n",
    "    for structure in structures: \n",
    "        structure.cell =[120, 120, 120]\n",
    "        structure.positions += np.asarray((60,60,60))\n",
    "        structure.pbc=True\n",
    "        structure.wrap()"
   ]
  },
  {
   "cell_type": "code",
   "execution_count": 3,
   "metadata": {},
   "outputs": [
    {
     "data": {
      "text/plain": [
       "\"structures_val = ase_io.read('structures.xyz', \\n                         index = '100:200')\""
      ]
     },
     "execution_count": 3,
     "metadata": {},
     "output_type": "execute_result"
    }
   ],
   "source": [
    "structures_train = ase_io.read('structures.xyz', \n",
    "                         index = '0:5000')\n",
    "\n",
    "process_structures(structures_train)\n",
    "\n",
    "'''structures_val = ase_io.read('structures.xyz', \n",
    "                         index = '100:200')'''\n",
    "\n",
    "#process_structures(structures_val)\n"
   ]
  },
  {
   "cell_type": "code",
   "execution_count": 4,
   "metadata": {},
   "outputs": [
    {
     "name": "stdout",
     "output_type": "stream",
     "text": [
      "(1000,)\n",
      "(1000,)\n"
     ]
    }
   ],
   "source": [
    "energies = np.load('energies.npy')\n",
    "energies = energies - np.mean(energies)\n",
    "energies = energies / np.sqrt(np.mean(energies * energies))\n",
    "energies_train = energies[0:1000]\n",
    "energies_val = energies[1000:2000]\n",
    "print(energies_train.shape)\n",
    "print(energies_val.shape)"
   ]
  },
  {
   "cell_type": "code",
   "execution_count": 5,
   "metadata": {},
   "outputs": [],
   "source": [
    "HYPERS = {\n",
    "'interaction_cutoff': 6.3,\n",
    "'max_radial': 5,\n",
    "'max_angular': 5,\n",
    "'gaussian_sigma_type': 'Constant',\n",
    "'gaussian_sigma_constant': 0.05,\n",
    "'cutoff_smooth_width': 0.3,\n",
    "'radial_basis': 'GTO',\n",
    "}\n",
    "    "
   ]
  },
  {
   "cell_type": "code",
   "execution_count": 6,
   "metadata": {},
   "outputs": [],
   "source": [
    "p = Pool(40)"
   ]
  },
  {
   "cell_type": "code",
   "execution_count": 7,
   "metadata": {},
   "outputs": [
    {
     "name": "stdout",
     "output_type": "stream",
     "text": [
      "5000\n"
     ]
    }
   ],
   "source": [
    "print(len(structures_train))"
   ]
  },
  {
   "cell_type": "code",
   "execution_count": 8,
   "metadata": {},
   "outputs": [
    {
     "name": "stderr",
     "output_type": "stream",
     "text": [
      "100%|██████████| 50/50 [00:01<00:00, 27.38it/s]"
     ]
    },
    {
     "name": "stdout",
     "output_type": "stream",
     "text": [
      "(25000, 10, 6, 11)\n",
      "(5000, 5, 10, 6, 11)\n"
     ]
    },
    {
     "name": "stderr",
     "output_type": "stream",
     "text": [
      "\n"
     ]
    }
   ],
   "source": [
    "coefficients = get_rascal_coefficients_parallelized(p, structures_train, HYPERS, 2)\n",
    "print(coefficients.shape)\n",
    "coefficients = coefficients.reshape([len(structures_train), 5, coefficients.shape[1], \n",
    "                                     coefficients.shape[2], coefficients.shape[3]])\n",
    "\n",
    "print(coefficients.shape)"
   ]
  },
  {
   "cell_type": "code",
   "execution_count": 9,
   "metadata": {},
   "outputs": [
    {
     "data": {
      "text/plain": [
       "'def concatenate_data(datas):\\n    covariants = [datas[i].covariants_ for i in range(len(datas))]\\n    covariants = np.concatenate(covariants, axis = 0)\\n    return Data(covariants, datas[0].actual_sizes_, datas[0].importances_, datas[0].raw_importances_)\\n\\ndef transform_parallelized(transformer, *args, task_size = 100):\\n    print(len(args))\\n    tasks = []\\n    for i in range(0, args[0].shape[0], task_size):\\n        now = []\\n        for j in range(len(args)):\\n            now.append(args[j][i : i + task_size])\\n        tasks.append(now)\\n    \\n    def func(task):\\n        return transformer.transform(*task)\\n    \\n    result = [res for res in tqdm.tqdm(p.imap(func, tasks), total = len(tasks))]\\n    ans = []\\n    for i in range(len(result[0])):\\n        now = [result[j][i] for j in range(len(result))]\\n        ans.append(concatenate_data(now))\\n        \\n     print(len(ans))\\n    print(ans[0].shape)\\n    return ans'"
      ]
     },
     "execution_count": 9,
     "metadata": {},
     "output_type": "execute_result"
    }
   ],
   "source": [
    "'''def concatenate_data(datas):\n",
    "    covariants = [datas[i].covariants_ for i in range(len(datas))]\n",
    "    covariants = np.concatenate(covariants, axis = 0)\n",
    "    return Data(covariants, datas[0].actual_sizes_, datas[0].importances_, datas[0].raw_importances_)\n",
    "\n",
    "def transform_parallelized(transformer, *args, task_size = 100):\n",
    "    print(len(args))\n",
    "    tasks = []\n",
    "    for i in range(0, args[0].shape[0], task_size):\n",
    "        now = []\n",
    "        for j in range(len(args)):\n",
    "            now.append(args[j][i : i + task_size])\n",
    "        tasks.append(now)\n",
    "    \n",
    "    def func(task):\n",
    "        return transformer.transform(*task)\n",
    "    \n",
    "    result = [res for res in tqdm.tqdm(p.imap(func, tasks), total = len(tasks))]\n",
    "    ans = []\n",
    "    for i in range(len(result[0])):\n",
    "        now = [result[j][i] for j in range(len(result))]\n",
    "        ans.append(concatenate_data(now))\n",
    "        \n",
    "     print(len(ans))\n",
    "    print(ans[0].shape)\n",
    "    return ans'''"
   ]
  },
  {
   "cell_type": "code",
   "execution_count": 10,
   "metadata": {},
   "outputs": [],
   "source": [
    "def split_coefficients(coefficients):\n",
    "    c_coefficients = coefficients[:, 0]\n",
    "    h_coefficients = coefficients[:, 1:]\n",
    "   \n",
    "    h_coefficients = np.reshape(h_coefficients, [coefficients.shape[0] * 4, \n",
    "                                              coefficients.shape[2], coefficients.shape[3],\n",
    "                                              coefficients.shape[4]])\n",
    "    return c_coefficients, h_coefficients"
   ]
  },
  {
   "cell_type": "code",
   "execution_count": 11,
   "metadata": {},
   "outputs": [
    {
     "name": "stdout",
     "output_type": "stream",
     "text": [
      "(5000, 10, 6, 11)\n"
     ]
    }
   ],
   "source": [
    "c_coefficients, h_coefficients = split_coefficients(coefficients)\n",
    "print(c_coefficients.shape)"
   ]
  },
  {
   "cell_type": "code",
   "execution_count": 12,
   "metadata": {},
   "outputs": [
    {
     "data": {
      "text/plain": [
       "'begin = time.time()\\npst = BSTransformer()\\npst.fit(c_coefficients)\\nprint(time.time() - begin)'"
      ]
     },
     "execution_count": 12,
     "metadata": {},
     "output_type": "execute_result"
    }
   ],
   "source": [
    "'''begin = time.time()\n",
    "pst = BSTransformer()\n",
    "pst.fit(c_coefficients)\n",
    "print(time.time() - begin)'''"
   ]
  },
  {
   "cell_type": "code",
   "execution_count": 13,
   "metadata": {},
   "outputs": [
    {
     "data": {
      "text/plain": [
       "'begin = time.time()\\nres = pst.transform(c_coefficients)\\nprint(res[2].shape)\\nprint(time.time() - begin)'"
      ]
     },
     "execution_count": 13,
     "metadata": {},
     "output_type": "execute_result"
    }
   ],
   "source": [
    "'''begin = time.time()\n",
    "res = pst.transform(c_coefficients)\n",
    "print(res[2].shape)\n",
    "print(time.time() - begin)'''"
   ]
  },
  {
   "cell_type": "code",
   "execution_count": 14,
   "metadata": {},
   "outputs": [],
   "source": [
    "def fit(coefficients, num_to_fit):\n",
    "    c_coefficients, h_coefficients = split_coefficients(coefficients)\n",
    "    print(c_coefficients.shape)\n",
    "    begin = time.time()\n",
    "    c_trans = StandardSequence([StandardBlock(ThresholdExpansioner(num_expand = 10),\n",
    "                                                  IndividualLambdaPCAsBoth(10),\n",
    "                                                  ThresholdExpansioner(num_expand = 20, mode = 'invariants'),\n",
    "                                                  None),\n",
    "                                    StandardBlock(ThresholdExpansioner(num_expand = 10),\n",
    "                                                  IndividualLambdaPCAsBoth(10),\n",
    "                                                  ThresholdExpansioner(num_expand = 20, mode = 'invariants'),\n",
    "                                                  None)\n",
    "                                   ])\n",
    "\n",
    "    c_trans.fit(c_coefficients[:num_to_fit])\n",
    "    print(time.time() - begin)\n",
    "    \n",
    "    begin = time.time()\n",
    "    print(h_coefficients[:num_to_fit].shape)\n",
    "    h_trans = StandardSequence([StandardBlock(ThresholdExpansioner(num_expand = 100),\n",
    "                                                  IndividualLambdaPCAsBoth(100),\n",
    "                                                  ThresholdExpansioner(num_expand = 200, mode = 'invariants'),\n",
    "                                                  None),\n",
    "                                    StandardBlock(ThresholdExpansioner(num_expand = 100),\n",
    "                                                  IndividualLambdaPCAsBoth(100),\n",
    "                                                  ThresholdExpansioner(num_expand = 200, mode = 'invariants'),\n",
    "                                                  None)\n",
    "                                   ])\n",
    "    h_trans.fit(h_coefficients[:num_to_fit])\n",
    "    print(time.time() - begin)\n",
    "    \n",
    "    return c_trans, h_trans\n",
    "\n"
   ]
  },
  {
   "cell_type": "code",
   "execution_count": 15,
   "metadata": {},
   "outputs": [],
   "source": [
    "c_coefficients, h_coefficients = split_coefficients(coefficients)\n"
   ]
  },
  {
   "cell_type": "code",
   "execution_count": 16,
   "metadata": {},
   "outputs": [
    {
     "name": "stdout",
     "output_type": "stream",
     "text": [
      "(5000, 10, 6, 11)\n",
      "10.43751311302185\n",
      "(1000, 10, 6, 11)\n",
      "17.370867252349854\n"
     ]
    }
   ],
   "source": [
    "c_trans, h_trans = fit(coefficients, 1000)"
   ]
  },
  {
   "cell_type": "code",
   "execution_count": 17,
   "metadata": {},
   "outputs": [],
   "source": [
    "import pickle\n",
    "with open(\"nu_3_data/transformers\", \"wb\") as f:\n",
    "    pickle.dump([c_trans, h_trans], f, protocol = 4)"
   ]
  },
  {
   "cell_type": "code",
   "execution_count": 18,
   "metadata": {},
   "outputs": [],
   "source": [
    "def transform_full(transformer, coefficients, task_size = 100):\n",
    "    tasks = [coefficients[i : i + task_size]\n",
    "             for i in range(0, coefficients.shape[0], task_size)]  \n",
    "    print(len(tasks))\n",
    "    def wrapped(task):\n",
    "        return transformer.transform(task, return_only_invariants = True)\n",
    "    result = [res for res in tqdm.tqdm(p.imap(wrapped, tasks), total = len(tasks))]\n",
    "    ans = []\n",
    "    for i in range(len(result[0])):\n",
    "        now = [result[j][i] for j in range(len(result))]\n",
    "        ans.append(np.concatenate(now, axis = 0))\n",
    "        \n",
    "    return ans"
   ]
  },
  {
   "cell_type": "code",
   "execution_count": 19,
   "metadata": {},
   "outputs": [
    {
     "name": "stdout",
     "output_type": "stream",
     "text": [
      "(5000, 10)\n",
      "(5000, 21)\n",
      "(5000, 21)\n"
     ]
    }
   ],
   "source": [
    "result = c_trans.transform(c_coefficients, return_only_invariants = True)\n",
    "for el in result:\n",
    "    print(el.shape)"
   ]
  },
  {
   "cell_type": "code",
   "execution_count": 20,
   "metadata": {},
   "outputs": [
    {
     "name": "stderr",
     "output_type": "stream",
     "text": [
      " 14%|█▍        | 7/50 [00:00<00:00, 67.57it/s]"
     ]
    },
    {
     "name": "stdout",
     "output_type": "stream",
     "text": [
      "50\n"
     ]
    },
    {
     "name": "stderr",
     "output_type": "stream",
     "text": [
      "100%|██████████| 50/50 [00:00<00:00, 78.89it/s]\n"
     ]
    },
    {
     "data": {
      "text/plain": [
       "'print(result[0].shape)\\nprint(result[1].shape)\\nprint(result[2].shape)'"
      ]
     },
     "execution_count": 20,
     "metadata": {},
     "output_type": "execute_result"
    }
   ],
   "source": [
    "c_coefficients, h_coefficients = split_coefficients(coefficients)\n",
    "#result = np.concatenate(transform_full(c_trans, c_coefficients), axis = 1)\n",
    "result = transform_full(c_trans, c_coefficients)\n",
    "'''print(result[0].shape)\n",
    "print(result[1].shape)\n",
    "print(result[2].shape)'''\n",
    "#print(result.shape)"
   ]
  },
  {
   "cell_type": "code",
   "execution_count": 21,
   "metadata": {},
   "outputs": [],
   "source": [
    "with open(\"nu_3_data/zpbs_c\", \"wb\") as f:\n",
    "    pickle.dump(result, f, protocol = 4)"
   ]
  },
  {
   "cell_type": "code",
   "execution_count": 22,
   "metadata": {},
   "outputs": [
    {
     "data": {
      "text/plain": [
       "'import pickle\\nwith open(\"nu_2_data/transformers\", \"rb\") as f:\\n    c_trans, h_trans = pickle.load(f)'"
      ]
     },
     "execution_count": 22,
     "metadata": {},
     "output_type": "execute_result"
    }
   ],
   "source": [
    "'''import pickle\n",
    "with open(\"nu_2_data/transformers\", \"rb\") as f:\n",
    "    c_trans, h_trans = pickle.load(f)'''"
   ]
  },
  {
   "cell_type": "code",
   "execution_count": 23,
   "metadata": {},
   "outputs": [
    {
     "name": "stderr",
     "output_type": "stream",
     "text": [
      "\r",
      "  0%|          | 0/200 [00:00<?, ?it/s]"
     ]
    },
    {
     "name": "stdout",
     "output_type": "stream",
     "text": [
      "200\n"
     ]
    },
    {
     "name": "stderr",
     "output_type": "stream",
     "text": [
      "100%|██████████| 200/200 [00:04<00:00, 46.24it/s]\n"
     ]
    }
   ],
   "source": [
    "result = transform_full(h_trans, h_coefficients)\n",
    "#print(result.shape)"
   ]
  },
  {
   "cell_type": "code",
   "execution_count": 24,
   "metadata": {},
   "outputs": [],
   "source": [
    "with open(\"nu_3_data/zpbs_h\", \"wb\") as f:\n",
    "    pickle.dump(result, f, protocol = 4)"
   ]
  },
  {
   "cell_type": "code",
   "execution_count": 25,
   "metadata": {},
   "outputs": [
    {
     "name": "stdout",
     "output_type": "stream",
     "text": [
      "(20000, 10)\n",
      "(20000, 206)\n",
      "(20000, 208)\n"
     ]
    }
   ],
   "source": [
    "for el in result:\n",
    "    print(el.shape)"
   ]
  },
  {
   "cell_type": "code",
   "execution_count": 26,
   "metadata": {},
   "outputs": [
    {
     "data": {
      "text/plain": [
       "\"class BSTransformer():\\n    def __init__(self):\\n        self.initial_ = InitialTransformer()\\n        self.pca_0_ = IndividualLambdaPCAsBoth()\\n        self.expansioner_1_ = ThresholdExpansioner()\\n        self.pca_1_ = IndividualLambdaPCAsBoth()\\n        self.expansioner_2_ = ThresholdExpansioner(num_expand = 100000, mode = 'invariants')\\n        \\n    def fit(self, coefficients):\\n        data_even_0, data_odd_0 = transform_parallelized(self.initial_, coefficients)\\n        self.pca_0_.fit(data_even_0, data_odd_0)\\n        data_even_0, data_odd_0 = transform_parallelized(self.pca_0_, data_even_0, data_odd_0)\\n        #print(data_even_0.covariants_.shape[0])\\n        self.expansioner_1_.fit(data_even_0, data_odd_0, data_even_0, data_odd_0)\\n        data_even_1, data_odd_1 = transform_parallelized(self.expansioner_1_, data_even_0, data_odd_0, data_even_0, data_odd_0)\\n        self.pca_1_.fit(data_even_1, data_odd_1)\\n        data_even_1, data_odd_1 = transform_parallelized(self.pca_1_, data_even_1, data_odd_1)\\n        self.expansioner_2_.fit(data_even_1, data_odd_1, data_even_0, data_odd_0)\\n        \\n    def transform(self, coefficients):                \\n        data_even_0, data_odd_0 = self.initial_.transform(coefficients)\\n        data_even_0_t, data_odd_0_t = self.pca_0_.transform(data_even_0, data_odd_0)\\n        data_even_1, data_odd_1 = self.expansioner_1_.transform(data_even_0_t, data_odd_0_t,\\n                                                                data_even_0_t, data_odd_0_t)\\n        data_even_1_t, data_odd_1_t = self.pca_1_.transform(data_even_1, data_odd_1)\\n        invariants_even_2, _ = self.expansioner_2_.transform(data_even_1_t, data_odd_1_t, \\n                                                             data_even_0_t, data_odd_0_t)\\n        return [data_even_0.covariants_[:, :data_even_0.actual_sizes_[0], 0, 0], \\n                data_even_1.covariants_[:, :data_even_1.actual_sizes_[0], 0, 0],\\n                invariants_even_2]\\n        \""
      ]
     },
     "execution_count": 26,
     "metadata": {},
     "output_type": "execute_result"
    }
   ],
   "source": [
    "'''class BSTransformer():\n",
    "    def __init__(self):\n",
    "        self.initial_ = InitialTransformer()\n",
    "        self.pca_0_ = IndividualLambdaPCAsBoth()\n",
    "        self.expansioner_1_ = ThresholdExpansioner()\n",
    "        self.pca_1_ = IndividualLambdaPCAsBoth()\n",
    "        self.expansioner_2_ = ThresholdExpansioner(num_expand = 100000, mode = 'invariants')\n",
    "        \n",
    "    def fit(self, coefficients):\n",
    "        data_even_0, data_odd_0 = transform_parallelized(self.initial_, coefficients)\n",
    "        self.pca_0_.fit(data_even_0, data_odd_0)\n",
    "        data_even_0, data_odd_0 = transform_parallelized(self.pca_0_, data_even_0, data_odd_0)\n",
    "        #print(data_even_0.covariants_.shape[0])\n",
    "        self.expansioner_1_.fit(data_even_0, data_odd_0, data_even_0, data_odd_0)\n",
    "        data_even_1, data_odd_1 = transform_parallelized(self.expansioner_1_, data_even_0, data_odd_0, data_even_0, data_odd_0)\n",
    "        self.pca_1_.fit(data_even_1, data_odd_1)\n",
    "        data_even_1, data_odd_1 = transform_parallelized(self.pca_1_, data_even_1, data_odd_1)\n",
    "        self.expansioner_2_.fit(data_even_1, data_odd_1, data_even_0, data_odd_0)\n",
    "        \n",
    "    def transform(self, coefficients):                \n",
    "        data_even_0, data_odd_0 = self.initial_.transform(coefficients)\n",
    "        data_even_0_t, data_odd_0_t = self.pca_0_.transform(data_even_0, data_odd_0)\n",
    "        data_even_1, data_odd_1 = self.expansioner_1_.transform(data_even_0_t, data_odd_0_t,\n",
    "                                                                data_even_0_t, data_odd_0_t)\n",
    "        data_even_1_t, data_odd_1_t = self.pca_1_.transform(data_even_1, data_odd_1)\n",
    "        invariants_even_2, _ = self.expansioner_2_.transform(data_even_1_t, data_odd_1_t, \n",
    "                                                             data_even_0_t, data_odd_0_t)\n",
    "        return [data_even_0.covariants_[:, :data_even_0.actual_sizes_[0], 0, 0], \n",
    "                data_even_1.covariants_[:, :data_even_1.actual_sizes_[0], 0, 0],\n",
    "                invariants_even_2]\n",
    "        '''"
   ]
  },
  {
   "cell_type": "code",
   "execution_count": null,
   "metadata": {},
   "outputs": [],
   "source": []
  },
  {
   "cell_type": "code",
   "execution_count": null,
   "metadata": {},
   "outputs": [],
   "source": []
  }
 ],
 "metadata": {
  "kernelspec": {
   "display_name": "Python 3",
   "language": "python",
   "name": "python3"
  },
  "language_info": {
   "codemirror_mode": {
    "name": "ipython",
    "version": 3
   },
   "file_extension": ".py",
   "mimetype": "text/x-python",
   "name": "python",
   "nbconvert_exporter": "python",
   "pygments_lexer": "ipython3",
   "version": "3.6.9"
  }
 },
 "nbformat": 4,
 "nbformat_minor": 4
}
