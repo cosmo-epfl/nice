{
 "cells": [
  {
   "cell_type": "code",
   "execution_count": 1,
   "metadata": {},
   "outputs": [
    {
     "name": "stdout",
     "output_type": "stream",
     "text": [
      "Will not apply HSTS. The HSTS database must be a regular and non-world-writable file.\n",
      "ERROR: could not open HSTS store at '/home/pozdn/.wget-hsts'. HSTS will be disabled.\n",
      "--2020-09-29 04:53:10--  https://archive.materialscloud.org/record/file?file_id=b612d8e3-58af-4374-96ba-b3551ac5d2f4&filename=methane.extxyz.gz&record_id=528\n",
      "Resolving archive.materialscloud.org (archive.materialscloud.org)... 148.187.96.41\n",
      "Connecting to archive.materialscloud.org (archive.materialscloud.org)|148.187.96.41|:443... connected.\n",
      "HTTP request sent, awaiting response... 302 FOUND\n",
      "Location: https://object.cscs.ch/archive/b6/12/d8e3-58af-4374-96ba-b3551ac5d2f4/data?response-content-type=application%2Foctet-stream&response-content-disposition=attachment%3B%20filename%3Dmethane.extxyz.gz&Expires=1601348050&Signature=UCA8Eibe0YQK%2FbtFHXVYXlH5xvk%3D&AWSAccessKeyId=ee64314446074ed3ab5f375a522a4893 [following]\n",
      "--2020-09-29 04:53:10--  https://object.cscs.ch/archive/b6/12/d8e3-58af-4374-96ba-b3551ac5d2f4/data?response-content-type=application%2Foctet-stream&response-content-disposition=attachment%3B%20filename%3Dmethane.extxyz.gz&Expires=1601348050&Signature=UCA8Eibe0YQK%2FbtFHXVYXlH5xvk%3D&AWSAccessKeyId=ee64314446074ed3ab5f375a522a4893\n",
      "Resolving object.cscs.ch (object.cscs.ch)... 148.187.25.200, 148.187.25.202, 148.187.25.201\n",
      "Connecting to object.cscs.ch (object.cscs.ch)|148.187.25.200|:443... connected.\n",
      "HTTP request sent, awaiting response... 200 OK\n",
      "Length: 1218139661 (1.1G) [application/octet-stream]\n",
      "Saving to: ‘methane.extxyz.gz’\n",
      "\n",
      "methane.extxyz.gz   100%[===================>]   1.13G  39.2MB/s    in 29s     \n",
      "\n",
      "2020-09-29 04:53:39 (40.3 MB/s) - ‘methane.extxyz.gz’ saved [1218139661/1218139661]\n",
      "\n"
     ]
    }
   ],
   "source": [
    "# downloading dataset from https://archive.materialscloud.org/record/2020.110\n",
    "\n",
    "!wget \"https://archive.materialscloud.org/record/file?file_id=b612d8e3-58af-4374-96ba-b3551ac5d2f4&filename=methane.extxyz.gz&record_id=528\" -O methane.extxyz.gz\n",
    "!gunzip -k methane.extxyz.gz"
   ]
  },
  {
   "cell_type": "code",
   "execution_count": 2,
   "metadata": {},
   "outputs": [],
   "source": [
    "import sys\n",
    "sys.path.insert(0, '../')\n",
    "import numpy as np\n",
    "import ase.io\n",
    "import tqdm\n",
    "from nice.transformers import *\n",
    "from nice.rascal_coefficients import get_rascal_coefficients_parallelized\n",
    "from nice.utilities import make_structural_features\n",
    "from matplotlib import pyplot as plt\n",
    "from sklearn.linear_model import BayesianRidge"
   ]
  },
  {
   "cell_type": "code",
   "execution_count": 3,
   "metadata": {},
   "outputs": [],
   "source": [
    "HARTREE_TO_EV = 27.211386245988\n",
    "train_subset = \"0:100000\"    #input for ase.io.read command\n",
    "test_subset = \"3050000:3130000\"     #input to ase.io.read command\n",
    "environments_for_fitting = 5000    #number of environments to fit nice transfomers\n",
    "grid =   [150, 200, 350, 500, 750, 1000, 1500, 2000, 3000,\n",
    "          5000, 7500, 10000, 15000, 20000,\n",
    "          30000, 50000, 75000, 100000] #for learning curve\n",
    "\n",
    "#HYPERS for librascal spherical expansion coefficients\n",
    "HYPERS = {\n",
    "'interaction_cutoff': 6.3,\n",
    "'max_radial': 5,\n",
    "'max_angular': 5,\n",
    "'gaussian_sigma_type': 'Constant',\n",
    "'gaussian_sigma_constant': 0.05,\n",
    "'cutoff_smooth_width': 0.3,\n",
    "'radial_basis': 'GTO'\n",
    "}"
   ]
  },
  {
   "cell_type": "code",
   "execution_count": 4,
   "metadata": {},
   "outputs": [],
   "source": [
    "#our model:\n",
    "def get_transformer():\n",
    "    return StandardSequence([StandardBlock(ThresholdExpansioner(num_expand = 1000),\n",
    "                                              CovariantsPurifierBoth(max_take = 100),\n",
    "                                                  IndividualLambdaPCAsBoth(500),\n",
    "                                                 None,\n",
    "                                                 None,\n",
    "                                                  None),\n",
    "                            StandardBlock(ThresholdExpansioner(num_expand = 3000),\n",
    "                                              CovariantsPurifierBoth(max_take = 100),\n",
    "                                                  IndividualLambdaPCAsBoth(500),\n",
    "                                                  ThresholdExpansioner(num_expand = 5000, mode = 'invariants'),\n",
    "                                              InvariantsPurifier(max_take = 100),\n",
    "                                                 InvariantsPCA(n_components = 1000)),\n",
    "                             StandardBlock(None,\n",
    "                                             None,\n",
    "                                                  None,\n",
    "                                                  ThresholdExpansioner(num_expand = 5000, mode = 'invariants'),\n",
    "                                              InvariantsPurifier(max_take = 100),\n",
    "                                                  InvariantsPCA(n_components = 2000))\n",
    "                                   ],\n",
    "                            initial_scaler = InitialScaler(mode = 'signal integral',\n",
    "                                                           individually = True))"
   ]
  },
  {
   "cell_type": "code",
   "execution_count": 5,
   "metadata": {},
   "outputs": [
    {
     "name": "stderr",
     "output_type": "stream",
     "text": [
      "100%|██████████| 1000/1000 [00:09<00:00, 110.29it/s]\n",
      "100%|██████████| 2/2 [00:00<00:00,  2.46it/s]\n",
      "100%|██████████| 800/800 [00:07<00:00, 107.11it/s]\n",
      "100%|██████████| 2/2 [00:00<00:00,  2.99it/s]\n"
     ]
    }
   ],
   "source": [
    "train_structures = ase.io.read('methane.extxyz', \n",
    "                         index = train_subset)\n",
    "\n",
    "\n",
    "train_coefficients = get_rascal_coefficients_parallelized(train_structures, HYPERS)\n",
    "\n",
    "test_structures = ase.io.read('methane.extxyz', \n",
    "                         index = test_subset)\n",
    "\n",
    "test_coefficients = get_rascal_coefficients_parallelized(test_structures, HYPERS)"
   ]
  },
  {
   "cell_type": "code",
   "execution_count": 6,
   "metadata": {},
   "outputs": [],
   "source": [
    "all_species = []\n",
    "for structure in train_structures:\n",
    "    all_species.append(np.array(structure.get_atomic_numbers()))\n",
    "all_species = np.concatenate(all_species, axis=0)\n",
    "all_species = np.sort(np.unique(all_species))\n"
   ]
  },
  {
   "cell_type": "code",
   "execution_count": 7,
   "metadata": {},
   "outputs": [],
   "source": [
    "#individual transformers for each atomic specie in dataset\n",
    "transformers = {}\n",
    "for key in train_coefficients.keys():\n",
    "    transformers[key] = get_transformer()"
   ]
  },
  {
   "cell_type": "code",
   "execution_count": 8,
   "metadata": {},
   "outputs": [
    {
     "name": "stderr",
     "output_type": "stream",
     "text": [
      "../nice/transformers/compressors.py:201: UserWarning: Amount of provided data is less than the desired one to fit PCA. Number of components is 1000, desired number of environments is 10000, actual number of environments is 5000.\n",
      "  self.n_components, num_fit_now, X.shape[0]))\n",
      "../nice/transformers/compressors.py:201: UserWarning: Amount of provided data is less than the desired one to fit PCA. Number of components is 2000, desired number of environments is 20000, actual number of environments is 5000.\n",
      "  self.n_components, num_fit_now, X.shape[0]))\n",
      "../nice/transformers/compressors.py:201: UserWarning: Amount of provided data is less than the desired one to fit PCA. Number of components is 1000, desired number of environments is 10000, actual number of environments is 5000.\n",
      "  self.n_components, num_fit_now, X.shape[0]))\n",
      "../nice/transformers/compressors.py:201: UserWarning: Amount of provided data is less than the desired one to fit PCA. Number of components is 2000, desired number of environments is 20000, actual number of environments is 5000.\n",
      "  self.n_components, num_fit_now, X.shape[0]))\n"
     ]
    }
   ],
   "source": [
    "for key in train_coefficients.keys():\n",
    "    transformers[key].fit(train_coefficients[key][:environments_for_fitting])"
   ]
  },
  {
   "cell_type": "code",
   "execution_count": 9,
   "metadata": {},
   "outputs": [],
   "source": [
    "def transform_sequentially(transformers, structures, all_species, \n",
    "                           block_size = 500, show_progress = True):\n",
    "    pieces = []\n",
    "    \n",
    "    for i in tqdm.tqdm(range(0, len(structures), block_size), disable = not show_progress):\n",
    "        now = {}\n",
    "        coefficients = get_rascal_coefficients_parallelized(structures[i : i + block_size],\n",
    "                                                            HYPERS,\n",
    "                                                            show_progress = False)\n",
    "        for specie in all_species:\n",
    "            now[specie] = transformers[specie].transform(coefficients[specie],\n",
    "                                                      return_only_invariants = True)\n",
    "        pieces.append(make_structural_features(now, structures[i : i + block_size],\n",
    "                                               show_progress = False))        \n",
    "    \n",
    "    return np.concatenate(pieces, axis = 0)"
   ]
  },
  {
   "cell_type": "code",
   "execution_count": 10,
   "metadata": {},
   "outputs": [
    {
     "name": "stderr",
     "output_type": "stream",
     "text": [
      "100%|██████████| 200/200 [1:33:44<00:00, 28.12s/it]\n",
      "100%|██████████| 160/160 [1:14:57<00:00, 28.11s/it]\n"
     ]
    }
   ],
   "source": [
    "train_features = transform_sequentially(transformers, \n",
    "                                        train_structures, all_species)\n",
    "test_features = transform_sequentially(transformers,\n",
    "                                        test_structures, all_species)"
   ]
  },
  {
   "cell_type": "code",
   "execution_count": 11,
   "metadata": {},
   "outputs": [
    {
     "name": "stdout",
     "output_type": "stream",
     "text": [
      "after initial transformer : [[10, 0, 10, 0, 10, 0], [0, 10, 0, 10, 0, 10]]\n",
      "\n",
      "\n",
      "after initial pca : [[10, 0, 10, 0, 10, 0], [0, 10, 0, 10, 0, 10]]\n",
      "\n",
      "\n",
      "block nu = 1 -> nu = 2 : {'after covariants expansioner': [[338, 313, 769, 620, 826, 553], [0, 586, 506, 840, 624, 704]], 'after covariants purifier': [[338, 313, 769, 620, 826, 553], [0, 586, 506, 840, 624, 704]], 'after covariants pca': [[338, 313, 500, 500, 500, 500], [0, 500, 500, 500, 500, 500]]}\n",
      "\n",
      "\n",
      "block nu = 2 -> nu = 3 : {'after covariants expansioner': [[382, 1361, 1877, 2187, 2198, 1887], [594, 1258, 1892, 2149, 2136, 1862]], 'after covariants purifier': [[382, 1361, 1877, 2187, 2198, 1887], [594, 1258, 1892, 2149, 2136, 1862]], 'after covariants pca': [[382, 500, 500, 500, 500, 500], [500, 500, 500, 500, 500, 500]], 'after invariants expansioner': 5000, 'after invariants purifier': 5000, 'after invariants pca': 1000}\n",
      "\n",
      "\n",
      "block nu = 3 -> nu = 4 : {'after invariants expansioner': 5000, 'after invariants purifier': 5000, 'after invariants pca': 2000}\n",
      "\n",
      "\n",
      "after initial transformer : [[10, 0, 10, 0, 10, 0], [0, 10, 0, 10, 0, 10]]\n",
      "\n",
      "\n",
      "after initial pca : [[10, 0, 10, 0, 10, 0], [0, 10, 0, 10, 0, 10]]\n",
      "\n",
      "\n",
      "block nu = 1 -> nu = 2 : {'after covariants expansioner': [[600, 500, 1300, 1000, 1400, 900], [0, 1000, 800, 1400, 1000, 1200]], 'after covariants purifier': [[600, 500, 1300, 1000, 1400, 900], [0, 1000, 800, 1400, 1000, 1200]], 'after covariants pca': [[500, 500, 500, 500, 500, 500], [0, 500, 500, 500, 500, 500]]}\n",
      "\n",
      "\n",
      "block nu = 2 -> nu = 3 : {'after covariants expansioner': [[619, 1331, 2165, 2296, 2483, 2023], [429, 1507, 1950, 2476, 2286, 2139]], 'after covariants purifier': [[619, 1331, 2165, 2296, 2483, 2023], [429, 1507, 1950, 2476, 2286, 2139]], 'after covariants pca': [[500, 500, 500, 500, 500, 500], [429, 500, 500, 500, 500, 500]], 'after invariants expansioner': 5008, 'after invariants purifier': 5008, 'after invariants pca': 1000}\n",
      "\n",
      "\n",
      "block nu = 3 -> nu = 4 : {'after invariants expansioner': 5000, 'after invariants purifier': 5000, 'after invariants pca': 2000}\n",
      "\n",
      "\n"
     ]
    }
   ],
   "source": [
    "intermediate_shapes = transformers[1].get_intermediate_shapes()\n",
    "for key in intermediate_shapes.keys():\n",
    "    print(key, ':',  intermediate_shapes[key], end = '\\n\\n\\n')\n",
    "    \n",
    "intermediate_shapes = transformers[6].get_intermediate_shapes()\n",
    "for key in intermediate_shapes.keys():\n",
    "    print(key, ':',  intermediate_shapes[key], end = '\\n\\n\\n')\n",
    "    \n",
    "del transformers #to free memory"
   ]
  },
  {
   "cell_type": "code",
   "execution_count": 12,
   "metadata": {},
   "outputs": [],
   "source": [
    "train_energies = [structure.info['energy'] for structure in train_structures]\n",
    "train_energies = np.array(train_energies) * HARTREE_TO_EV\n",
    "\n",
    "test_energies = [structure.info['energy'] for structure in test_structures]\n",
    "test_energies = np.array(test_energies) * HARTREE_TO_EV\n"
   ]
  },
  {
   "cell_type": "code",
   "execution_count": 13,
   "metadata": {},
   "outputs": [],
   "source": [
    "def get_rmse(first, second):\n",
    "    return np.sqrt(np.mean((first - second) ** 2))\n",
    "\n",
    "def get_standard_deviation(values):\n",
    "    return np.sqrt(np.mean((values - np.mean(values)) ** 2))\n",
    "\n",
    "def get_relative_performance(predictions, values):\n",
    "    return get_rmse(predictions, values) / get_standard_deviation(values)\n",
    "\n",
    "def estimate_performance(clf, data_train, data_test, targets_train, targets_test):\n",
    "    clf.fit(data_train, targets_train)\n",
    "    return get_relative_performance(clf.predict(data_test), targets_test)"
   ]
  },
  {
   "cell_type": "code",
   "execution_count": 14,
   "metadata": {},
   "outputs": [
    {
     "name": "stderr",
     "output_type": "stream",
     "text": [
      "100%|██████████| 18/18 [23:12<00:00, 77.38s/it] \n"
     ]
    }
   ],
   "source": [
    "errors = []\n",
    "for el in tqdm.tqdm(grid):   \n",
    "    errors.append(estimate_performance(BayesianRidge(), train_features[:el],\n",
    "                                       test_features, train_energies[:el],\n",
    "                                       test_energies))"
   ]
  },
  {
   "cell_type": "code",
   "execution_count": 15,
   "metadata": {},
   "outputs": [
    {
     "name": "stdout",
     "output_type": "stream",
     "text": [
      "[0.4763020684065621, 0.47829365294211107, 0.3816840939713879, 0.2973682008172019, 0.18593569748074176, 0.14893128580968737, 0.12127052250483596, 0.10546646879466677, 0.09589744867815536, 0.07466096362137524, 0.062147638724416025, 0.05541091847240947, 0.04523674098590771, 0.040284117135377114, 0.03525619475788012, 0.03036076602421925, 0.02753305327314648, 0.026121440309616748]\n"
     ]
    }
   ],
   "source": [
    "print(errors)"
   ]
  },
  {
   "cell_type": "code",
   "execution_count": 16,
   "metadata": {},
   "outputs": [
    {
     "data": {
      "image/png": "[encoded data removed]",
      "text/plain": [
       "<Figure size 432x288 with 1 Axes>"
      ]
     },
     "metadata": {
      "needs_background": "light"
     },
     "output_type": "display_data"
    }
   ],
   "source": [
    "from matplotlib import pyplot as plt\n",
    "plt.plot(grid, errors, 'bo')\n",
    "plt.plot(grid, errors, 'b')\n",
    "plt.xlabel(\"number of structures\")\n",
    "plt.ylabel(\"relative error\")\n",
    "plt.xscale('log')\n",
    "plt.yscale('log')\n",
    "plt.show()"
   ]
  },
  {
   "cell_type": "code",
   "execution_count": 17,
   "metadata": {},
   "outputs": [
    {
     "name": "stdout",
     "output_type": "stream",
     "text": [
      "(100000, 6858)\n"
     ]
    }
   ],
   "source": [
    "print(train_features.shape)"
   ]
  },
  {
   "cell_type": "code",
   "execution_count": null,
   "metadata": {},
   "outputs": [],
   "source": []
  }
 ],
 "metadata": {
  "kernelspec": {
   "display_name": "Python 3",
   "language": "python",
   "name": "python3"
  },
  "language_info": {
   "codemirror_mode": {
    "name": "ipython",
    "version": 3
   },
   "file_extension": ".py",
   "mimetype": "text/x-python",
   "name": "python",
   "nbconvert_exporter": "python",
   "pygments_lexer": "ipython3",
   "version": "3.6.9"
  }
 },
 "nbformat": 4,
 "nbformat_minor": 4
}
