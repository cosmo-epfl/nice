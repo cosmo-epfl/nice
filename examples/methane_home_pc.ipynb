{
 "cells": [
  {
   "cell_type": "code",
   "execution_count": 1,
   "metadata": {},
   "outputs": [
    {
     "name": "stdout",
     "output_type": "stream",
     "text": [
      "--2020-09-28 02:54:42--  https://archive.materialscloud.org/record/file?file_id=b612d8e3-58af-4374-96ba-b3551ac5d2f4&filename=methane.extxyz.gz&record_id=528\n",
      "Resolving archive.materialscloud.org (archive.materialscloud.org)... 148.187.96.41\n",
      "Connecting to archive.materialscloud.org (archive.materialscloud.org)|148.187.96.41|:443... connected.\n",
      "HTTP request sent, awaiting response... 302 FOUND\n",
      "Location: https://object.cscs.ch/archive/b6/12/d8e3-58af-4374-96ba-b3551ac5d2f4/data?response-content-type=application%2Foctet-stream&response-content-disposition=attachment%3B%20filename%3Dmethane.extxyz.gz&Expires=1601254543&Signature=p85Zrer1AfRbzTcfTk2c%2FeE8VG8%3D&AWSAccessKeyId=ee64314446074ed3ab5f375a522a4893 [following]\n",
      "--2020-09-28 02:54:43--  https://object.cscs.ch/archive/b6/12/d8e3-58af-4374-96ba-b3551ac5d2f4/data?response-content-type=application%2Foctet-stream&response-content-disposition=attachment%3B%20filename%3Dmethane.extxyz.gz&Expires=1601254543&Signature=p85Zrer1AfRbzTcfTk2c%2FeE8VG8%3D&AWSAccessKeyId=ee64314446074ed3ab5f375a522a4893\n",
      "Resolving object.cscs.ch (object.cscs.ch)... 148.187.25.201, 148.187.25.202, 148.187.25.200\n",
      "Connecting to object.cscs.ch (object.cscs.ch)|148.187.25.201|:443... connected.\n",
      "HTTP request sent, awaiting response... 200 OK\n",
      "Length: 1218139661 (1.1G) [application/octet-stream]\n",
      "Saving to: ‘methane.extxyz.gz’\n",
      "\n",
      "methane.extxyz.gz   100%[===================>]   1.13G  34.4MB/s    in 26s     \n",
      "\n",
      "2020-09-28 02:55:09 (44.1 MB/s) - ‘methane.extxyz.gz’ saved [1218139661/1218139661]\n",
      "\n"
     ]
    }
   ],
   "source": [
    "# downloading dataset from https://archive.materialscloud.org/record/2020.110\n",
    "\n",
    "!wget \"https://archive.materialscloud.org/record/file?file_id=b612d8e3-58af-4374-96ba-b3551ac5d2f4&filename=methane.extxyz.gz&record_id=528\" -O methane.extxyz.gz\n",
    "!gunzip -k methane.extxyz.gz"
   ]
  },
  {
   "cell_type": "code",
   "execution_count": 2,
   "metadata": {},
   "outputs": [],
   "source": [
    "import sys\n",
    "sys.path.insert(0, '../')\n",
    "import numpy as np\n",
    "import ase.io\n",
    "import tqdm\n",
    "from nice.transformers import *\n",
    "from nice.rascal_coefficients import get_rascal_coefficients_parallelized\n",
    "from nice.utilities import make_structural_features\n",
    "from matplotlib import pyplot as plt\n",
    "from sklearn.linear_model import BayesianRidge"
   ]
  },
  {
   "cell_type": "code",
   "execution_count": 3,
   "metadata": {},
   "outputs": [],
   "source": [
    "HARTREE_TO_EV = 27.211386245988\n",
    "train_subset = \"0:10000\"    #input for ase.io.read command\n",
    "test_subset = \"10000:15000\"     #input to ase.io.read command\n",
    "environments_for_fitting = 1000    #number of environments to fit nice transfomers\n",
    "grid =  [150, 200, 350, 500, 750, 1000,\n",
    "         1500, 2000, 3000, 5000, 7500, 10000] #for learning curve\n",
    "\n",
    "#HYPERS for librascal spherical expansion coefficients\n",
    "HYPERS = {\n",
    "'interaction_cutoff': 6.3,\n",
    "'max_radial': 5,\n",
    "'max_angular': 5,\n",
    "'gaussian_sigma_type': 'Constant',\n",
    "'gaussian_sigma_constant': 0.05,\n",
    "'cutoff_smooth_width': 0.3,\n",
    "'radial_basis': 'GTO'\n",
    "}"
   ]
  },
  {
   "cell_type": "code",
   "execution_count": 4,
   "metadata": {},
   "outputs": [],
   "source": [
    "#our model:\n",
    "def get_transformer():\n",
    "    return StandardSequence([StandardBlock(ThresholdExpansioner(num_expand = 150),\n",
    "                                              CovariantsPurifierBoth(max_take = 10),\n",
    "                                                  IndividualLambdaPCAsBoth(n_components = 50),\n",
    "                                                 ThresholdExpansioner(num_expand =300, mode = 'invariants'),\n",
    "                                                 InvariantsPurifier(max_take = 50),\n",
    "                                                  InvariantsPCA(n_components = 200)),\n",
    "                             StandardBlock(ThresholdExpansioner(num_expand = 150),\n",
    "                                              CovariantsPurifierBoth(max_take = 10),\n",
    "                                                  IndividualLambdaPCAsBoth(n_components = 50),\n",
    "                                                 ThresholdExpansioner(num_expand =300, mode = 'invariants'),\n",
    "                                                 InvariantsPurifier(max_take = 50),\n",
    "                                                  InvariantsPCA(n_components = 200)),\n",
    "                            StandardBlock(None,\n",
    "                                             None,\n",
    "                                                  None,\n",
    "                                                  ThresholdExpansioner(num_expand =300, mode = 'invariants'),\n",
    "                                              InvariantsPurifier(max_take = 50),\n",
    "                                                 InvariantsPCA(n_components = 200))\n",
    "                                   ],\n",
    "                            initial_scaler = InitialScaler(mode = 'signal integral',\n",
    "                                                           individually = True)\n",
    "                          )"
   ]
  },
  {
   "cell_type": "code",
   "execution_count": 5,
   "metadata": {},
   "outputs": [
    {
     "name": "stderr",
     "output_type": "stream",
     "text": [
      "100%|██████████| 100/100 [00:00<00:00, 105.05it/s]\n",
      "100%|██████████| 2/2 [00:00<00:00, 34.43it/s]\n",
      "100%|██████████| 50/50 [00:00<00:00, 101.09it/s]\n",
      "100%|██████████| 2/2 [00:00<00:00, 110.11it/s]\n"
     ]
    }
   ],
   "source": [
    "train_structures = ase.io.read('methane.extxyz', \n",
    "                         index = train_subset)\n",
    "\n",
    "\n",
    "train_coefficients = get_rascal_coefficients_parallelized(train_structures, HYPERS)\n",
    "\n",
    "test_structures = ase.io.read('methane.extxyz', \n",
    "                         index = test_subset)\n",
    "\n",
    "test_coefficients = get_rascal_coefficients_parallelized(test_structures, HYPERS)"
   ]
  },
  {
   "cell_type": "code",
   "execution_count": 6,
   "metadata": {},
   "outputs": [],
   "source": [
    "all_species = []\n",
    "for structure in train_structures:\n",
    "    all_species.append(np.array(structure.get_atomic_numbers()))\n",
    "all_species = np.concatenate(all_species, axis=0)\n",
    "all_species = np.sort(np.unique(all_species))\n"
   ]
  },
  {
   "cell_type": "code",
   "execution_count": 7,
   "metadata": {},
   "outputs": [],
   "source": [
    "#individual transformers for each atomic specie in dataset\n",
    "transformers = {}\n",
    "for key in train_coefficients.keys():\n",
    "    transformers[key] = get_transformer()"
   ]
  },
  {
   "cell_type": "code",
   "execution_count": 8,
   "metadata": {},
   "outputs": [
    {
     "name": "stderr",
     "output_type": "stream",
     "text": [
      "../nice/transformers/compressors.py:201: UserWarning: Amount of provided data is less than the desired one to fit PCA. Number of components is 200, desired number of environments is 2000, actual number of environments is 1000.\n",
      "  self.n_components, num_fit_now, X.shape[0]))\n",
      "../nice/transformers/compressors.py:201: UserWarning: Amount of provided data is less than the desired one to fit PCA. Number of components is 200, desired number of environments is 2000, actual number of environments is 1000.\n",
      "  self.n_components, num_fit_now, X.shape[0]))\n",
      "../nice/transformers/compressors.py:201: UserWarning: Amount of provided data is less than the desired one to fit PCA. Number of components is 200, desired number of environments is 2000, actual number of environments is 1000.\n",
      "  self.n_components, num_fit_now, X.shape[0]))\n",
      "../nice/transformers/compressors.py:201: UserWarning: Amount of provided data is less than the desired one to fit PCA. Number of components is 200, desired number of environments is 2000, actual number of environments is 1000.\n",
      "  self.n_components, num_fit_now, X.shape[0]))\n",
      "../nice/transformers/compressors.py:201: UserWarning: Amount of provided data is less than the desired one to fit PCA. Number of components is 200, desired number of environments is 2000, actual number of environments is 1000.\n",
      "  self.n_components, num_fit_now, X.shape[0]))\n",
      "../nice/transformers/compressors.py:201: UserWarning: Amount of provided data is less than the desired one to fit PCA. Number of components is 200, desired number of environments is 2000, actual number of environments is 1000.\n",
      "  self.n_components, num_fit_now, X.shape[0]))\n"
     ]
    }
   ],
   "source": [
    "for key in train_coefficients.keys():\n",
    "    transformers[key].fit(train_coefficients[key][:environments_for_fitting])"
   ]
  },
  {
   "cell_type": "code",
   "execution_count": 9,
   "metadata": {},
   "outputs": [],
   "source": [
    "def transform_sequentially(trans, data, block_size = 1000, show_progress = True):\n",
    "    pieces = []\n",
    "    for i in tqdm.tqdm(range(0, data.shape[0], block_size), disable = not show_progress):\n",
    "        now = trans.transform(data[i : i + block_size], return_only_invariants = True)\n",
    "        pieces.append(now)        \n",
    "    \n",
    "    result = {}\n",
    "    #keys are body orders\n",
    "    for key in pieces[0].keys():\n",
    "        blocks =[piece[key] for piece in pieces]\n",
    "        result[key] = np.concatenate(blocks, axis = 0)\n",
    "    return result"
   ]
  },
  {
   "cell_type": "code",
   "execution_count": 10,
   "metadata": {},
   "outputs": [
    {
     "name": "stderr",
     "output_type": "stream",
     "text": [
      "100%|██████████| 40/40 [00:37<00:00,  1.05it/s]\n",
      "100%|██████████| 10/10 [00:08<00:00,  1.14it/s]\n",
      "100%|██████████| 20/20 [00:17<00:00,  1.11it/s]\n",
      "100%|██████████| 5/5 [00:04<00:00,  1.17it/s]\n"
     ]
    }
   ],
   "source": [
    "train_features = {}\n",
    "for specie in all_species:\n",
    "    train_features[specie] = transform_sequentially(transformers[specie], \n",
    "                                                   train_coefficients[specie])\n",
    "    \n",
    "test_features = {}\n",
    "for specie in all_species:\n",
    "    test_features[specie] = transform_sequentially(transformers[specie], \n",
    "                                                   test_coefficients[specie])"
   ]
  },
  {
   "cell_type": "code",
   "execution_count": 11,
   "metadata": {},
   "outputs": [
    {
     "name": "stderr",
     "output_type": "stream",
     "text": [
      "100%|██████████| 10000/10000 [00:00<00:00, 15952.95it/s]\n",
      "100%|██████████| 5000/5000 [00:00<00:00, 16043.26it/s]\n"
     ]
    }
   ],
   "source": [
    "train_features = make_structural_features(train_features, train_structures)\n",
    "test_features = make_structural_features(test_features, test_structures)"
   ]
  },
  {
   "cell_type": "code",
   "execution_count": 12,
   "metadata": {},
   "outputs": [],
   "source": [
    "train_energies = [structure.info['energy'] for structure in train_structures]\n",
    "train_energies = np.array(train_energies) * HARTREE_TO_EV\n",
    "\n",
    "test_energies = [structure.info['energy'] for structure in test_structures]\n",
    "test_energies = np.array(test_energies) * HARTREE_TO_EV\n"
   ]
  },
  {
   "cell_type": "code",
   "execution_count": 13,
   "metadata": {},
   "outputs": [],
   "source": [
    "def get_rmse(first, second):\n",
    "    return np.sqrt(np.mean((first - second) ** 2))\n",
    "\n",
    "def get_standard_deviation(values):\n",
    "    return np.sqrt(np.mean((values - np.mean(values)) ** 2))\n",
    "\n",
    "def get_relative_performance(predictions, values):\n",
    "    return get_rmse(predictions, values) / get_standard_deviation(values)\n",
    "\n",
    "def estimate_performance(clf, data_train, data_test, targets_train, targets_test):\n",
    "    clf.fit(data_train, targets_train)\n",
    "    return get_relative_performance(clf.predict(data_test), targets_test)"
   ]
  },
  {
   "cell_type": "code",
   "execution_count": 14,
   "metadata": {},
   "outputs": [
    {
     "name": "stderr",
     "output_type": "stream",
     "text": [
      "100%|██████████| 12/12 [00:17<00:00,  1.44s/it]\n"
     ]
    }
   ],
   "source": [
    "errors = []\n",
    "for el in tqdm.tqdm(grid):   \n",
    "    errors.append(estimate_performance(BayesianRidge(), train_features[:el],\n",
    "                                       test_features, train_energies[:el],\n",
    "                                       test_energies))"
   ]
  },
  {
   "cell_type": "code",
   "execution_count": 15,
   "metadata": {},
   "outputs": [
    {
     "name": "stdout",
     "output_type": "stream",
     "text": [
      "[0.4246582064770948, 0.4279736867620494, 0.34973571570639966, 0.2319032380371904, 0.1806260956934607, 0.16280579231203454, 0.13114918061909986, 0.11626525578662573, 0.09875461629930966, 0.08363103251314033, 0.07246436481352715, 0.07010886749848938]\n"
     ]
    }
   ],
   "source": [
    "print(errors)"
   ]
  },
  {
   "cell_type": "code",
   "execution_count": 16,
   "metadata": {},
   "outputs": [
    {
     "data": {
      "image/png": "[encoded data removed]",
      "text/plain": [
       "<Figure size 432x288 with 1 Axes>"
      ]
     },
     "metadata": {
      "needs_background": "light"
     },
     "output_type": "display_data"
    }
   ],
   "source": [
    "from matplotlib import pyplot as plt\n",
    "plt.plot(grid, errors, 'bo')\n",
    "plt.plot(grid, errors, 'b')\n",
    "plt.xlabel(\"number of structures\")\n",
    "plt.ylabel(\"relative error\")\n",
    "plt.xscale('log')\n",
    "plt.yscale('log')\n",
    "plt.show()"
   ]
  }
 ],
 "metadata": {
  "kernelspec": {
   "display_name": "Python 3",
   "language": "python",
   "name": "python3"
  },
  "language_info": {
   "codemirror_mode": {
    "name": "ipython",
    "version": 3
   },
   "file_extension": ".py",
   "mimetype": "text/x-python",
   "name": "python",
   "nbconvert_exporter": "python",
   "pygments_lexer": "ipython3",
   "version": "3.6.9"
  }
 },
 "nbformat": 4,
 "nbformat_minor": 4
}
