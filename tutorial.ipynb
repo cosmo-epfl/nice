{
 "cells": [
  {
   "cell_type": "code",
   "execution_count": 1,
   "metadata": {},
   "outputs": [
    {
     "name": "stdout",
     "output_type": "stream",
     "text": [
      "running build_ext\n",
      "copying build/lib.linux-x86_64-3.6/nice/naive.cpython-36m-x86_64-linux-gnu.so -> nice\n",
      "copying build/lib.linux-x86_64-3.6/nice/nice_utilities.cpython-36m-x86_64-linux-gnu.so -> nice\n",
      "copying build/lib.linux-x86_64-3.6/nice/packing.cpython-36m-x86_64-linux-gnu.so -> nice\n",
      "copying build/lib.linux-x86_64-3.6/nice/radial_basis.cpython-36m-x86_64-linux-gnu.so -> nice\n",
      "copying build/lib.linux-x86_64-3.6/nice/rascal_coefficients.cpython-36m-x86_64-linux-gnu.so -> nice\n",
      "copying build/lib.linux-x86_64-3.6/nice/spherical_coefficients.cpython-36m-x86_64-linux-gnu.so -> nice\n",
      "copying build/lib.linux-x86_64-3.6/nice/spherical_harmonics.cpython-36m-x86_64-linux-gnu.so -> nice\n",
      "copying build/lib.linux-x86_64-3.6/nice/test_parallel.cpython-36m-x86_64-linux-gnu.so -> nice\n",
      "copying build/lib.linux-x86_64-3.6/nice/thresholding.cpython-36m-x86_64-linux-gnu.so -> nice\n",
      "copying build/lib.linux-x86_64-3.6/nice/unrolling_individual_pca.cpython-36m-x86_64-linux-gnu.so -> nice\n",
      "copying build/lib.linux-x86_64-3.6/nice/unrolling_pca.cpython-36m-x86_64-linux-gnu.so -> nice\n"
     ]
    }
   ],
   "source": [
    "#!rm -r build\n",
    "#!rm nice/*.so\n",
    "#!rm nice/transformers/*.so\n",
    "!python3 setup.py build_ext --inplace"
   ]
  },
  {
   "cell_type": "code",
   "execution_count": 2,
   "metadata": {},
   "outputs": [],
   "source": [
    "'''import sys\n",
    "sys.path.insert(0, 'nice')\n",
    "'''\n",
    "#os.environ['OMP_NUM_THREADS'] = '24'\n",
    "\n",
    "import numpy as np\n",
    "import ase.io as ase_io\n",
    "from ase import Atoms\n",
    "import tqdm\n",
    "import time\n",
    "import nice\n",
    "from nice.transformers import *\n",
    "from nice.rascal_coefficients import get_rascal_coefficients_parallelized\n",
    "import copy\n",
    "from matplotlib import pyplot as plt\n"
   ]
  },
  {
   "cell_type": "markdown",
   "metadata": {},
   "source": [
    "## Getting coefficients"
   ]
  },
  {
   "cell_type": "code",
   "execution_count": 3,
   "metadata": {},
   "outputs": [],
   "source": [
    "def process_structures(structures, shift):\n",
    "    for structure in structures: \n",
    "        structure.cell = [2 * shift, 2 * shift, 2 * shift]\n",
    "        structure.positions += np.asarray((shift, shift, shift))\n",
    "        structure.pbc=True\n",
    "        structure.wrap()"
   ]
  },
  {
   "cell_type": "code",
   "execution_count": 4,
   "metadata": {},
   "outputs": [],
   "source": [
    "structures = ase_io.read('structures.xyz', \n",
    "                         index = '0:500')\n",
    "\n",
    "process_structures(structures, 100)\n",
    "\n",
    "#process_structures(structures_val)\n"
   ]
  },
  {
   "cell_type": "code",
   "execution_count": 5,
   "metadata": {},
   "outputs": [],
   "source": [
    "HYPERS = {\n",
    "'interaction_cutoff': 6.3,\n",
    "'max_radial': 5,\n",
    "'max_angular': 5,\n",
    "'gaussian_sigma_type': 'Constant',\n",
    "'gaussian_sigma_constant': 0.05,\n",
    "'cutoff_smooth_width': 0.3,\n",
    "'radial_basis': 'GTO',\n",
    "'global_species': [1, 6],\n",
    "'expansion_by_species_method': 'user defined'\n",
    "}\n",
    "    "
   ]
  },
  {
   "cell_type": "markdown",
   "metadata": {},
   "source": [
    "First of all we need to get spherical expansion coefficients in proper format. For this purpose I prepared simple wrapper for the rascal to get them in parallel:"
   ]
  },
  {
   "cell_type": "code",
   "execution_count": 6,
   "metadata": {},
   "outputs": [
    {
     "name": "stderr",
     "output_type": "stream",
     "text": [
      "100%|██████████| 5/5 [00:00<00:00, 84.76it/s]\n",
      "100%|██████████| 2/2 [00:00<00:00, 308.69it/s]\n"
     ]
    }
   ],
   "source": [
    "coefficients = get_rascal_coefficients_parallelized(structures, HYPERS)"
   ]
  },
  {
   "cell_type": "code",
   "execution_count": 7,
   "metadata": {},
   "outputs": [
    {
     "name": "stdout",
     "output_type": "stream",
     "text": [
      "<class 'dict'>\n",
      "(2000, 10, 6, 11)\n",
      "(500, 10, 6, 11)\n"
     ]
    }
   ],
   "source": [
    "print(type(coefficients))\n",
    "print(coefficients[1].shape)\n",
    "print(coefficients[6].shape)"
   ]
  },
  {
   "cell_type": "markdown",
   "metadata": {},
   "source": [
    "Result is the dictionary, where keys are atomic species, 1 - is H atomic number, 6 is C atomic number. Shapes of the coefficients are [env index, radial/specie index, l, m]. In order to use this function  'expansion_by_species_defined' must be user defined since output must be uniform. These properties are set automatically in the hypers dictionary"
   ]
  },
  {
   "cell_type": "code",
   "execution_count": 8,
   "metadata": {},
   "outputs": [
    {
     "name": "stderr",
     "output_type": "stream",
     "text": [
      "100%|██████████| 5/5 [00:00<00:00, 81.02it/s]\n",
      "100%|██████████| 2/2 [00:00<00:00, 275.45it/s]"
     ]
    },
    {
     "name": "stdout",
     "output_type": "stream",
     "text": [
      "<class 'dict'>\n",
      "(2000, 10, 6, 11)\n",
      "(500, 10, 6, 11)\n"
     ]
    },
    {
     "name": "stderr",
     "output_type": "stream",
     "text": [
      "\n"
     ]
    }
   ],
   "source": [
    "HYPERS = {\n",
    "'interaction_cutoff': 6.3,\n",
    "'max_radial': 5,\n",
    "'max_angular': 5,\n",
    "'gaussian_sigma_type': 'Constant',\n",
    "'gaussian_sigma_constant': 0.05,\n",
    "'cutoff_smooth_width': 0.3,\n",
    "'radial_basis': 'GTO',\n",
    "}\n",
    "coefficients = get_rascal_coefficients_parallelized(structures, HYPERS)    \n",
    "\n",
    "print(type(coefficients))\n",
    "print(coefficients[1].shape)\n",
    "print(coefficients[6].shape)"
   ]
  },
  {
   "cell_type": "markdown",
   "metadata": {},
   "source": [
    "If we would try to set this field to the other value it would raise ValueError:"
   ]
  },
  {
   "cell_type": "code",
   "execution_count": 9,
   "metadata": {},
   "outputs": [
    {
     "ename": "ValueError",
     "evalue": "for proper packing spherical expansion coefficients into [env index, radial/specie index, l, m] shape output should be uniform, thus 'expansion_by_species_method' must be 'user defined'",
     "output_type": "error",
     "traceback": [
      "\u001b[0;31m---------------------------------------------------------------------------\u001b[0m",
      "\u001b[0;31mValueError\u001b[0m                                Traceback (most recent call last)",
      "\u001b[0;32m<ipython-input-9-dc9e1ed95d31>\u001b[0m in \u001b[0;36m<module>\u001b[0;34m\u001b[0m\n\u001b[1;32m      9\u001b[0m \u001b[0;34m'radial_basis'\u001b[0m\u001b[0;34m:\u001b[0m \u001b[0;34m'GTO'\u001b[0m\u001b[0;34m\u001b[0m\u001b[0;34m\u001b[0m\u001b[0m\n\u001b[1;32m     10\u001b[0m }\n\u001b[0;32m---> 11\u001b[0;31m \u001b[0mcoefficients\u001b[0m \u001b[0;34m=\u001b[0m \u001b[0mget_rascal_coefficients_parallelized\u001b[0m\u001b[0;34m(\u001b[0m\u001b[0mstructures\u001b[0m\u001b[0;34m,\u001b[0m \u001b[0mHYPERS\u001b[0m\u001b[0;34m)\u001b[0m\u001b[0;34m\u001b[0m\u001b[0;34m\u001b[0m\u001b[0m\n\u001b[0m\u001b[1;32m     12\u001b[0m \u001b[0;34m\u001b[0m\u001b[0m\n\u001b[1;32m     13\u001b[0m \u001b[0mprint\u001b[0m\u001b[0;34m(\u001b[0m\u001b[0mtype\u001b[0m\u001b[0;34m(\u001b[0m\u001b[0mcoefficients\u001b[0m\u001b[0;34m)\u001b[0m\u001b[0;34m)\u001b[0m\u001b[0;34m\u001b[0m\u001b[0;34m\u001b[0m\u001b[0m\n",
      "\u001b[0;32m~/nice/nice/rascal_coefficients.pyx\u001b[0m in \u001b[0;36mnice.rascal_coefficients.get_rascal_coefficients_parallelized\u001b[0;34m()\u001b[0m\n\u001b[1;32m    114\u001b[0m     \u001b[0;32mif\u001b[0m \u001b[0;34m(\u001b[0m\u001b[0;34m'expansion_by_species_method'\u001b[0m \u001b[0;32min\u001b[0m \u001b[0mhypers\u001b[0m\u001b[0;34m.\u001b[0m\u001b[0mkeys\u001b[0m\u001b[0;34m(\u001b[0m\u001b[0;34m)\u001b[0m\u001b[0;34m)\u001b[0m\u001b[0;34m:\u001b[0m\u001b[0;34m\u001b[0m\u001b[0;34m\u001b[0m\u001b[0m\n\u001b[1;32m    115\u001b[0m         \u001b[0;32mif\u001b[0m \u001b[0;34m(\u001b[0m\u001b[0mhypers\u001b[0m\u001b[0;34m[\u001b[0m\u001b[0;34m'expansion_by_species_method'\u001b[0m\u001b[0;34m]\u001b[0m \u001b[0;34m!=\u001b[0m \u001b[0;34m'user defined'\u001b[0m\u001b[0;34m)\u001b[0m\u001b[0;34m:\u001b[0m\u001b[0;34m\u001b[0m\u001b[0;34m\u001b[0m\u001b[0m\n\u001b[0;32m--> 116\u001b[0;31m             \u001b[0;32mraise\u001b[0m \u001b[0mValueError\u001b[0m\u001b[0;34m(\u001b[0m\u001b[0;34m\"for proper packing spherical expansion coefficients into [env index, radial/specie index, l, m] shape output should be uniform, thus 'expansion_by_species_method' must be 'user defined'\"\u001b[0m\u001b[0;34m)\u001b[0m\u001b[0;34m\u001b[0m\u001b[0;34m\u001b[0m\u001b[0m\n\u001b[0m\u001b[1;32m    117\u001b[0m \u001b[0;34m\u001b[0m\u001b[0m\n\u001b[1;32m    118\u001b[0m     \u001b[0mhypers\u001b[0m\u001b[0;34m[\u001b[0m\u001b[0;34m'expansion_by_species_method'\u001b[0m\u001b[0;34m]\u001b[0m \u001b[0;34m=\u001b[0m \u001b[0;34m'user defined'\u001b[0m\u001b[0;34m\u001b[0m\u001b[0;34m\u001b[0m\u001b[0m\n",
      "\u001b[0;31mValueError\u001b[0m: for proper packing spherical expansion coefficients into [env index, radial/specie index, l, m] shape output should be uniform, thus 'expansion_by_species_method' must be 'user defined'"
     ]
    }
   ],
   "source": [
    "HYPERS = {\n",
    "'interaction_cutoff': 6.3,\n",
    "'max_radial': 5,\n",
    "'max_angular': 5,\n",
    "'gaussian_sigma_type': 'Constant',\n",
    "'gaussian_sigma_constant': 0.05,\n",
    "'cutoff_smooth_width': 0.3,\n",
    "'expansion_by_species_method': 'environment wise',\n",
    "'radial_basis': 'GTO'\n",
    "}\n",
    "coefficients = get_rascal_coefficients_parallelized(structures, HYPERS)    \n",
    "\n",
    "print(type(coefficients))\n",
    "print(coefficients[1].shape)\n",
    "print(coefficients[6].shape)"
   ]
  },
  {
   "cell_type": "markdown",
   "metadata": {},
   "source": [
    "and if given global species are insufficient it would add all missing species:"
   ]
  },
  {
   "cell_type": "code",
   "execution_count": 10,
   "metadata": {},
   "outputs": [
    {
     "name": "stderr",
     "output_type": "stream",
     "text": [
      "/home/pozdn/psi4conda/lib/python3.6/site-packages/ipykernel_launcher.py:13: UserWarning: atom with type 6 is presented in the dataset but it is not listed in the global_species, adding it\n",
      "  del sys.path[0]\n",
      "100%|██████████| 5/5 [00:00<00:00, 60.23it/s]\n",
      "100%|██████████| 4/4 [00:00<00:00, 321.69it/s]"
     ]
    },
    {
     "name": "stdout",
     "output_type": "stream",
     "text": [
      "<class 'dict'>\n",
      "(2000, 20, 6, 11)\n",
      "(500, 20, 6, 11)\n"
     ]
    },
    {
     "name": "stderr",
     "output_type": "stream",
     "text": [
      "\n"
     ]
    }
   ],
   "source": [
    "HYPERS = {\n",
    "'interaction_cutoff': 6.3,\n",
    "'max_radial': 5,\n",
    "'max_angular': 5,\n",
    "'gaussian_sigma_type': 'Constant',\n",
    "'gaussian_sigma_constant': 0.05,\n",
    "'cutoff_smooth_width': 0.3,\n",
    "'radial_basis': 'GTO',\n",
    "'global_species': [1, 117, 42],\n",
    "'expansion_by_species_method': 'user defined'\n",
    "}\n",
    "    \n",
    "coefficients = get_rascal_coefficients_parallelized(structures, HYPERS)    \n",
    "\n",
    "print(type(coefficients))\n",
    "print(coefficients[1].shape)\n",
    "print(coefficients[6].shape)"
   ]
  },
  {
   "cell_type": "markdown",
   "metadata": {},
   "source": [
    "Note increase in dimension for the radial/specie index because of additional 117 and 42 atomic types"
   ]
  },
  {
   "cell_type": "markdown",
   "metadata": {},
   "source": [
    "Let's calculate once again coefficients without global species for future manipulation"
   ]
  },
  {
   "cell_type": "code",
   "execution_count": 11,
   "metadata": {},
   "outputs": [
    {
     "name": "stderr",
     "output_type": "stream",
     "text": [
      "100%|██████████| 5/5 [00:00<00:00, 51.99it/s]\n",
      "100%|██████████| 2/2 [00:00<00:00, 269.62it/s]"
     ]
    },
    {
     "name": "stdout",
     "output_type": "stream",
     "text": [
      "(2000, 10, 6, 11)\n"
     ]
    },
    {
     "name": "stderr",
     "output_type": "stream",
     "text": [
      "\n"
     ]
    }
   ],
   "source": [
    "HYPERS = {\n",
    "'interaction_cutoff': 6.3,\n",
    "'max_radial': 5,\n",
    "'max_angular': 5,\n",
    "'gaussian_sigma_type': 'Constant',\n",
    "'gaussian_sigma_constant': 0.05,\n",
    "'cutoff_smooth_width': 0.3,\n",
    "'radial_basis': 'GTO'\n",
    "}\n",
    "coefficients = get_rascal_coefficients_parallelized(structures, HYPERS)    \n",
    "print(coefficients[1].shape)"
   ]
  },
  {
   "cell_type": "markdown",
   "metadata": {},
   "source": [
    "It may be a good idea to normalize coefficients to the integral of the density within given environment, which is given by the summation of the squared l = 0, m = 0 coefficients. It is done by the following function:"
   ]
  },
  {
   "cell_type": "code",
   "execution_count": 12,
   "metadata": {},
   "outputs": [],
   "source": [
    "def normalize_coefficients(coefficients):\n",
    "    for key in coefficients.keys():\n",
    "        coefficients[key] = coefficients[key] / np.sqrt(np.sum(coefficients[key][:, :, 0, 0] ** 2, axis = 1))[:, np.newaxis, np.newaxis, np.newaxis]"
   ]
  },
  {
   "cell_type": "code",
   "execution_count": 13,
   "metadata": {},
   "outputs": [
    {
     "name": "stdout",
     "output_type": "stream",
     "text": [
      "5.733729249698362e-06\n",
      "0.06221528852749003\n"
     ]
    }
   ],
   "source": [
    "print(coefficients[6][0, 0, 0, 0])\n",
    "normalize_coefficients(coefficients)\n",
    "print(coefficients[6][0, 0, 0, 0])"
   ]
  },
  {
   "cell_type": "markdown",
   "metadata": {},
   "source": [
    "I decided not to include this into the nice main code, because I think that this should be on librascal side. I. e. one additional parameter to hypers. (may be some sqrt or not sqrt of 4 Pi should be inserted in the formula, and also it would be nice to see options for either global normalization either normalization per specie)"
   ]
  },
  {
   "cell_type": "markdown",
   "metadata": {},
   "source": [
    "## Data structure"
   ]
  },
  {
   "cell_type": "markdown",
   "metadata": {},
   "source": [
    "In the implementation I keep the covariants which do not change under the inversion and the covariants which change sign separatelly. The first I call even the second I call odd. So, the first thing to do is to split coefficients into these two groups:"
   ]
  },
  {
   "cell_type": "code",
   "execution_count": 14,
   "metadata": {},
   "outputs": [],
   "source": [
    "data_even_1, data_odd_1  = InitialTransformer().transform(coefficients[6])"
   ]
  },
  {
   "cell_type": "markdown",
   "metadata": {},
   "source": [
    "I have a class to store the data"
   ]
  },
  {
   "cell_type": "code",
   "execution_count": 15,
   "metadata": {},
   "outputs": [
    {
     "name": "stdout",
     "output_type": "stream",
     "text": [
      "<nice.nice_utilities.Data object at 0x2b2e665ca0b8>\n"
     ]
    }
   ],
   "source": [
    "print(data_even_1)"
   ]
  },
  {
   "cell_type": "markdown",
   "metadata": {},
   "source": [
    "fields are covariants_, actual_sizes_, importances_"
   ]
  },
  {
   "cell_type": "code",
   "execution_count": 16,
   "metadata": {},
   "outputs": [
    {
     "name": "stdout",
     "output_type": "stream",
     "text": [
      "(500, 10, 6, 11)\n",
      "[10, 0, 10, 0, 10, 0]\n",
      "None\n",
      "\n",
      "(500, 10, 6, 11)\n",
      "[0, 10, 0, 10, 0, 10]\n",
      "None\n",
      "\n"
     ]
    }
   ],
   "source": [
    "print(data_even_1.covariants_.shape)\n",
    "print(data_even_1.actual_sizes_)\n",
    "print(data_even_1.importances_, end = \"\\n\\n\")\n",
    "\n",
    "print(data_odd_1.covariants_.shape)\n",
    "print(data_odd_1.actual_sizes_)\n",
    "print(data_odd_1.importances_, end = \"\\n\\n\")"
   ]
  },
  {
   "cell_type": "markdown",
   "metadata": {},
   "source": [
    "This class supports slicing in the environment index:"
   ]
  },
  {
   "cell_type": "code",
   "execution_count": 17,
   "metadata": {},
   "outputs": [
    {
     "name": "stdout",
     "output_type": "stream",
     "text": [
      "(20, 10, 6, 11)\n",
      "[10, 0, 10, 0, 10, 0]\n",
      "None\n"
     ]
    }
   ],
   "source": [
    "data_even_small = data_even_1[0:20]\n",
    "print(data_even_small.covariants_.shape)\n",
    "print(data_even_small.actual_sizes_)\n",
    "print(data_even_small.importances_)"
   ]
  },
  {
   "cell_type": "markdown",
   "metadata": {},
   "source": [
    "Also this class has a method to get invariants:"
   ]
  },
  {
   "cell_type": "code",
   "execution_count": 18,
   "metadata": {},
   "outputs": [
    {
     "name": "stdout",
     "output_type": "stream",
     "text": [
      "(500, 10)\n",
      "(500, 0)\n"
     ]
    }
   ],
   "source": [
    "invariants = data_even_1.get_invariants()\n",
    "print(invariants.shape)\n",
    "\n",
    "invariants = data_odd_1.get_invariants()\n",
    "print(invariants.shape)"
   ]
  },
  {
   "cell_type": "markdown",
   "metadata": {},
   "source": [
    "I think that the names tell for themselves. Importances are the arrays which would tell how important this particular covariant is and this field would be not None after the pca transformation."
   ]
  },
  {
   "cell_type": "markdown",
   "metadata": {},
   "source": [
    "## Compressors"
   ]
  },
  {
   "cell_type": "markdown",
   "metadata": {},
   "source": [
    " Let's do it:"
   ]
  },
  {
   "cell_type": "code",
   "execution_count": 19,
   "metadata": {},
   "outputs": [
    {
     "name": "stdout",
     "output_type": "stream",
     "text": [
      "(500, 9, 6, 11)\n",
      "[9 0 9 0 9 0]\n"
     ]
    }
   ],
   "source": [
    "pca = IndividualLambdaPCAsBoth(n_components = 9)\n",
    "pca.fit(data_even_1, data_odd_1)\n",
    "tmp_even, tmp_odd = pca.transform(data_even_1, data_odd_1)\n",
    "print(tmp_even.covariants_.shape)\n",
    "print(tmp_even.actual_sizes_)"
   ]
  },
  {
   "cell_type": "markdown",
   "metadata": {},
   "source": [
    "This class will do individual pca over different lambda channels. Both means for both even and odd data.\n",
    "One common thing about all compressors (pca) and purifiers is the behaviour of n_components parameter. If it is not specified (None) than the pca still will be done with the number of components equal to the number of covariants for each individual lambda:"
   ]
  },
  {
   "cell_type": "code",
   "execution_count": 20,
   "metadata": {},
   "outputs": [
    {
     "name": "stdout",
     "output_type": "stream",
     "text": [
      "[3, 0, 6, 0, 10, 0]\n"
     ]
    }
   ],
   "source": [
    "artificial_even, artificial_odd = copy.deepcopy(data_even_1), copy.deepcopy(data_odd_1)\n",
    "artificial_even.actual_sizes_[0] = 3\n",
    "artificial_even.actual_sizes_[2] = 6\n",
    "print(artificial_even.actual_sizes_)"
   ]
  },
  {
   "cell_type": "code",
   "execution_count": 21,
   "metadata": {},
   "outputs": [
    {
     "name": "stdout",
     "output_type": "stream",
     "text": [
      "(500, 10, 6, 11)\n",
      "[ 3  0  6  0 10  0]\n",
      "(500, 10, 6, 11)\n",
      "[ 0 10  0 10  0 10]\n"
     ]
    }
   ],
   "source": [
    "pca = IndividualLambdaPCAsBoth()\n",
    "pca.fit(artificial_even, artificial_odd)\n",
    "tmp_even, tmp_odd = pca.transform(artificial_even, artificial_odd)\n",
    "print(tmp_even.covariants_.shape)\n",
    "print(tmp_even.actual_sizes_)\n",
    "\n",
    "print(tmp_odd.covariants_.shape)\n",
    "print(tmp_odd.actual_sizes_)"
   ]
  },
  {
   "cell_type": "markdown",
   "metadata": {},
   "source": [
    "Also, if it is specified, but the number of components for given lambda channel is less than that number it would keep this number of components:"
   ]
  },
  {
   "cell_type": "code",
   "execution_count": 22,
   "metadata": {},
   "outputs": [
    {
     "name": "stdout",
     "output_type": "stream",
     "text": [
      "(500, 7, 6, 11)\n",
      "[3 0 6 0 7 0]\n",
      "(500, 7, 6, 11)\n",
      "[0 7 0 7 0 7]\n"
     ]
    }
   ],
   "source": [
    "pca = IndividualLambdaPCAsBoth(n_components = 7)\n",
    "pca.fit(artificial_even, artificial_odd)\n",
    "tmp_even, tmp_odd = pca.transform(artificial_even, artificial_odd)\n",
    "print(tmp_even.covariants_.shape)\n",
    "print(tmp_even.actual_sizes_)\n",
    "\n",
    "print(tmp_odd.covariants_.shape)\n",
    "print(tmp_odd.actual_sizes_)"
   ]
  },
  {
   "cell_type": "markdown",
   "metadata": {},
   "source": [
    "Another parameter, which also behaves the same way for all compressors and purifiers is num_to_fit. It can be either number either string, like '10x'. The first would mean that pca would use the specified number of data points to fit, even if the total amount of provided data is higher. But data point I mean single double. I. e. for given the number of data points would be (lambda + 1) * number_of_environments. If num_to_fit is the string than the the number of data points to fit would be determined as current number of components multiplier by number in string. Default value is '10x'. It will warn you if the amount of provided data is smaller than one given by num_to_fit and will raise ValueError  if 1) num_to_fit is specified to be so small that it is not possible to fit pca or 2) if amount of provided data is too small to fit pca\n"
   ]
  },
  {
   "cell_type": "code",
   "execution_count": 23,
   "metadata": {},
   "outputs": [
    {
     "name": "stdout",
     "output_type": "stream",
     "text": [
      "(500, 7, 6, 11)\n",
      "[3 0 6 0 7 0]\n",
      "(500, 7, 6, 11)\n",
      "[0 7 0 7 0 7]\n"
     ]
    },
    {
     "name": "stderr",
     "output_type": "stream",
     "text": [
      "/home/pozdn/nice/nice/transformers/compressors.py:73: RuntimeWarning: given data is less than desired number of points to fit pca. Desired number of points to fit pca is 2000, while number of vectors is 500, dimensionality of single vector (lambd + 1) is 1, i. e. total number of points is 500. Number of pca components is 7\n",
      "  warnings.warn(\"given data is less than desired number of points to fit pca. Desired number of points to fit pca is {}, while number of vectors is {}, dimensionality of single vector (lambd + 1) is {}, i. e. total number of points is {}. Number of pca components is {}\".format(num_fit_now, data.covariants_.shape[0], (lambd + 1), data.covariants_.shape[0] * (lambd + 1), n_components_now), RuntimeWarning)\n",
      "/home/pozdn/nice/nice/transformers/compressors.py:73: RuntimeWarning: given data is less than desired number of points to fit pca. Desired number of points to fit pca is 2000, while number of vectors is 500, dimensionality of single vector (lambd + 1) is 3, i. e. total number of points is 1500. Number of pca components is 7\n",
      "  warnings.warn(\"given data is less than desired number of points to fit pca. Desired number of points to fit pca is {}, while number of vectors is {}, dimensionality of single vector (lambd + 1) is {}, i. e. total number of points is {}. Number of pca components is {}\".format(num_fit_now, data.covariants_.shape[0], (lambd + 1), data.covariants_.shape[0] * (lambd + 1), n_components_now), RuntimeWarning)\n",
      "/home/pozdn/nice/nice/transformers/compressors.py:73: RuntimeWarning: given data is less than desired number of points to fit pca. Desired number of points to fit pca is 2000, while number of vectors is 500, dimensionality of single vector (lambd + 1) is 2, i. e. total number of points is 1000. Number of pca components is 7\n",
      "  warnings.warn(\"given data is less than desired number of points to fit pca. Desired number of points to fit pca is {}, while number of vectors is {}, dimensionality of single vector (lambd + 1) is {}, i. e. total number of points is {}. Number of pca components is {}\".format(num_fit_now, data.covariants_.shape[0], (lambd + 1), data.covariants_.shape[0] * (lambd + 1), n_components_now), RuntimeWarning)\n"
     ]
    }
   ],
   "source": [
    "pca = IndividualLambdaPCAsBoth(n_components = 7, num_to_fit = 2000)\n",
    "pca.fit(artificial_even, artificial_odd)\n",
    "tmp_even, tmp_odd = pca.transform(artificial_even, artificial_odd)\n",
    "print(tmp_even.covariants_.shape)\n",
    "print(tmp_even.actual_sizes_)\n",
    "\n",
    "print(tmp_odd.covariants_.shape)\n",
    "print(tmp_odd.actual_sizes_)"
   ]
  },
  {
   "cell_type": "code",
   "execution_count": 24,
   "metadata": {},
   "outputs": [
    {
     "name": "stdout",
     "output_type": "stream",
     "text": [
      "(500, 7, 6, 11)\n",
      "[3 0 6 0 7 0]\n",
      "(500, 7, 6, 11)\n",
      "[0 7 0 7 0 7]\n"
     ]
    },
    {
     "name": "stderr",
     "output_type": "stream",
     "text": [
      "/home/pozdn/nice/nice/transformers/compressors.py:73: RuntimeWarning: given data is less than desired number of points to fit pca. Desired number of points to fit pca is 700, while number of vectors is 500, dimensionality of single vector (lambd + 1) is 1, i. e. total number of points is 500. Number of pca components is 7\n",
      "  warnings.warn(\"given data is less than desired number of points to fit pca. Desired number of points to fit pca is {}, while number of vectors is {}, dimensionality of single vector (lambd + 1) is {}, i. e. total number of points is {}. Number of pca components is {}\".format(num_fit_now, data.covariants_.shape[0], (lambd + 1), data.covariants_.shape[0] * (lambd + 1), n_components_now), RuntimeWarning)\n"
     ]
    }
   ],
   "source": [
    "pca = IndividualLambdaPCAsBoth(n_components = 7, num_to_fit = '100x')\n",
    "pca.fit(artificial_even, artificial_odd)\n",
    "tmp_even, tmp_odd = pca.transform(artificial_even, artificial_odd)\n",
    "print(tmp_even.covariants_.shape)\n",
    "print(tmp_even.actual_sizes_)\n",
    "\n",
    "print(tmp_odd.covariants_.shape)\n",
    "print(tmp_odd.actual_sizes_)"
   ]
  },
  {
   "cell_type": "code",
   "execution_count": 25,
   "metadata": {},
   "outputs": [
    {
     "ename": "ValueError",
     "evalue": "specified parameter num fit (1) is too small to fit pca with number of components 7 ",
     "output_type": "error",
     "traceback": [
      "\u001b[0;31m---------------------------------------------------------------------------\u001b[0m",
      "\u001b[0;31mValueError\u001b[0m                                Traceback (most recent call last)",
      "\u001b[0;32m<ipython-input-25-9ecb6c9b4bee>\u001b[0m in \u001b[0;36m<module>\u001b[0;34m\u001b[0m\n\u001b[1;32m      1\u001b[0m \u001b[0mpca\u001b[0m \u001b[0;34m=\u001b[0m \u001b[0mIndividualLambdaPCAsBoth\u001b[0m\u001b[0;34m(\u001b[0m\u001b[0mn_components\u001b[0m \u001b[0;34m=\u001b[0m \u001b[0;36m7\u001b[0m\u001b[0;34m,\u001b[0m \u001b[0mnum_to_fit\u001b[0m \u001b[0;34m=\u001b[0m \u001b[0;36m1\u001b[0m\u001b[0;34m)\u001b[0m\u001b[0;34m\u001b[0m\u001b[0;34m\u001b[0m\u001b[0m\n\u001b[0;32m----> 2\u001b[0;31m \u001b[0mpca\u001b[0m\u001b[0;34m.\u001b[0m\u001b[0mfit\u001b[0m\u001b[0;34m(\u001b[0m\u001b[0martificial_even\u001b[0m\u001b[0;34m,\u001b[0m \u001b[0martificial_odd\u001b[0m\u001b[0;34m)\u001b[0m\u001b[0;34m\u001b[0m\u001b[0;34m\u001b[0m\u001b[0m\n\u001b[0m\u001b[1;32m      3\u001b[0m \u001b[0mtmp_even\u001b[0m\u001b[0;34m,\u001b[0m \u001b[0mtmp_odd\u001b[0m \u001b[0;34m=\u001b[0m \u001b[0mpca\u001b[0m\u001b[0;34m.\u001b[0m\u001b[0mtransform\u001b[0m\u001b[0;34m(\u001b[0m\u001b[0martificial_even\u001b[0m\u001b[0;34m,\u001b[0m \u001b[0martificial_odd\u001b[0m\u001b[0;34m)\u001b[0m\u001b[0;34m\u001b[0m\u001b[0;34m\u001b[0m\u001b[0m\n\u001b[1;32m      4\u001b[0m \u001b[0mprint\u001b[0m\u001b[0;34m(\u001b[0m\u001b[0mtmp_even\u001b[0m\u001b[0;34m.\u001b[0m\u001b[0mcovariants_\u001b[0m\u001b[0;34m.\u001b[0m\u001b[0mshape\u001b[0m\u001b[0;34m)\u001b[0m\u001b[0;34m\u001b[0m\u001b[0;34m\u001b[0m\u001b[0m\n\u001b[1;32m      5\u001b[0m \u001b[0mprint\u001b[0m\u001b[0;34m(\u001b[0m\u001b[0mtmp_even\u001b[0m\u001b[0;34m.\u001b[0m\u001b[0mactual_sizes_\u001b[0m\u001b[0;34m)\u001b[0m\u001b[0;34m\u001b[0m\u001b[0;34m\u001b[0m\u001b[0m\n",
      "\u001b[0;32m~/nice/nice/transformers/compressors.py\u001b[0m in \u001b[0;36mfit\u001b[0;34m(self, data_even, data_odd)\u001b[0m\n\u001b[1;32m    111\u001b[0m     \u001b[0;32mdef\u001b[0m \u001b[0mfit\u001b[0m\u001b[0;34m(\u001b[0m\u001b[0mself\u001b[0m\u001b[0;34m,\u001b[0m \u001b[0mdata_even\u001b[0m\u001b[0;34m,\u001b[0m \u001b[0mdata_odd\u001b[0m\u001b[0;34m)\u001b[0m\u001b[0;34m:\u001b[0m\u001b[0;34m\u001b[0m\u001b[0;34m\u001b[0m\u001b[0m\n\u001b[1;32m    112\u001b[0m \u001b[0;34m\u001b[0m\u001b[0m\n\u001b[0;32m--> 113\u001b[0;31m         \u001b[0mself\u001b[0m\u001b[0;34m.\u001b[0m\u001b[0meven_pca_\u001b[0m\u001b[0;34m.\u001b[0m\u001b[0mfit\u001b[0m\u001b[0;34m(\u001b[0m\u001b[0mdata_even\u001b[0m\u001b[0;34m)\u001b[0m\u001b[0;34m\u001b[0m\u001b[0;34m\u001b[0m\u001b[0m\n\u001b[0m\u001b[1;32m    114\u001b[0m         \u001b[0mself\u001b[0m\u001b[0;34m.\u001b[0m\u001b[0modd_pca_\u001b[0m\u001b[0;34m.\u001b[0m\u001b[0mfit\u001b[0m\u001b[0;34m(\u001b[0m\u001b[0mdata_odd\u001b[0m\u001b[0;34m)\u001b[0m\u001b[0;34m\u001b[0m\u001b[0;34m\u001b[0m\u001b[0m\n\u001b[1;32m    115\u001b[0m         \u001b[0mself\u001b[0m\u001b[0;34m.\u001b[0m\u001b[0mfitted_\u001b[0m \u001b[0;34m=\u001b[0m \u001b[0;32mTrue\u001b[0m\u001b[0;34m\u001b[0m\u001b[0;34m\u001b[0m\u001b[0m\n",
      "\u001b[0;32m~/nice/nice/transformers/compressors.py\u001b[0m in \u001b[0;36mfit\u001b[0;34m(self, data)\u001b[0m\n\u001b[1;32m     67\u001b[0m                     \u001b[0mnum_fit_now\u001b[0m \u001b[0;34m=\u001b[0m \u001b[0mself\u001b[0m\u001b[0;34m.\u001b[0m\u001b[0mnum_to_fit_\u001b[0m\u001b[0;34m\u001b[0m\u001b[0;34m\u001b[0m\u001b[0m\n\u001b[1;32m     68\u001b[0m                     \u001b[0;32mif\u001b[0m \u001b[0;34m(\u001b[0m\u001b[0mnum_fit_now\u001b[0m \u001b[0;34m*\u001b[0m \u001b[0;34m(\u001b[0m\u001b[0mlambd\u001b[0m \u001b[0;34m+\u001b[0m \u001b[0;36m1\u001b[0m\u001b[0;34m)\u001b[0m \u001b[0;34m<\u001b[0m \u001b[0mn_components_now\u001b[0m\u001b[0;34m)\u001b[0m\u001b[0;34m:\u001b[0m\u001b[0;34m\u001b[0m\u001b[0;34m\u001b[0m\u001b[0m\n\u001b[0;32m---> 69\u001b[0;31m                         \u001b[0;32mraise\u001b[0m \u001b[0mValueError\u001b[0m\u001b[0;34m(\u001b[0m\u001b[0;34m\"specified parameter num fit ({}) is too small to fit pca with number of components {} \"\u001b[0m\u001b[0;34m.\u001b[0m\u001b[0mformat\u001b[0m\u001b[0;34m(\u001b[0m\u001b[0mnum_fit_now\u001b[0m\u001b[0;34m,\u001b[0m \u001b[0mn_components_now\u001b[0m\u001b[0;34m)\u001b[0m\u001b[0;34m)\u001b[0m\u001b[0;34m\u001b[0m\u001b[0;34m\u001b[0m\u001b[0m\n\u001b[0m\u001b[1;32m     70\u001b[0m \u001b[0;34m\u001b[0m\u001b[0m\n\u001b[1;32m     71\u001b[0m \u001b[0;34m\u001b[0m\u001b[0m\n",
      "\u001b[0;31mValueError\u001b[0m: specified parameter num fit (1) is too small to fit pca with number of components 7 "
     ]
    }
   ],
   "source": [
    "pca = IndividualLambdaPCAsBoth(n_components = 7, num_to_fit = 1)\n",
    "pca.fit(artificial_even, artificial_odd)\n",
    "tmp_even, tmp_odd = pca.transform(artificial_even, artificial_odd)\n",
    "print(tmp_even.covariants_.shape)\n",
    "print(tmp_even.actual_sizes_)\n",
    "\n",
    "print(tmp_odd.covariants_.shape)\n",
    "print(tmp_odd.actual_sizes_)"
   ]
  },
  {
   "cell_type": "code",
   "execution_count": 26,
   "metadata": {},
   "outputs": [
    {
     "ename": "ValueError",
     "evalue": "not enough data to fit pca, number of vectors is 2, dimensionality of single vector (lambd + 1) is 1, i. e. total number of points is 2, while number of components is 7",
     "output_type": "error",
     "traceback": [
      "\u001b[0;31m---------------------------------------------------------------------------\u001b[0m",
      "\u001b[0;31mValueError\u001b[0m                                Traceback (most recent call last)",
      "\u001b[0;32m<ipython-input-26-7667f755d120>\u001b[0m in \u001b[0;36m<module>\u001b[0;34m\u001b[0m\n\u001b[1;32m      1\u001b[0m \u001b[0mpca\u001b[0m \u001b[0;34m=\u001b[0m \u001b[0mIndividualLambdaPCAsBoth\u001b[0m\u001b[0;34m(\u001b[0m\u001b[0mn_components\u001b[0m \u001b[0;34m=\u001b[0m \u001b[0;36m7\u001b[0m\u001b[0;34m)\u001b[0m\u001b[0;34m\u001b[0m\u001b[0;34m\u001b[0m\u001b[0m\n\u001b[0;32m----> 2\u001b[0;31m \u001b[0mpca\u001b[0m\u001b[0;34m.\u001b[0m\u001b[0mfit\u001b[0m\u001b[0;34m(\u001b[0m\u001b[0martificial_even\u001b[0m\u001b[0;34m[\u001b[0m\u001b[0;36m0\u001b[0m\u001b[0;34m:\u001b[0m\u001b[0;36m2\u001b[0m\u001b[0;34m]\u001b[0m\u001b[0;34m,\u001b[0m \u001b[0martificial_odd\u001b[0m\u001b[0;34m[\u001b[0m\u001b[0;36m0\u001b[0m\u001b[0;34m:\u001b[0m\u001b[0;36m2\u001b[0m\u001b[0;34m]\u001b[0m\u001b[0;34m)\u001b[0m\u001b[0;34m\u001b[0m\u001b[0;34m\u001b[0m\u001b[0m\n\u001b[0m\u001b[1;32m      3\u001b[0m \u001b[0mtmp_even\u001b[0m\u001b[0;34m,\u001b[0m \u001b[0mtmp_odd\u001b[0m \u001b[0;34m=\u001b[0m \u001b[0mpca\u001b[0m\u001b[0;34m.\u001b[0m\u001b[0mtransform\u001b[0m\u001b[0;34m(\u001b[0m\u001b[0martificial_even\u001b[0m\u001b[0;34m,\u001b[0m \u001b[0martificial_odd\u001b[0m\u001b[0;34m)\u001b[0m\u001b[0;34m\u001b[0m\u001b[0;34m\u001b[0m\u001b[0m\n\u001b[1;32m      4\u001b[0m \u001b[0mprint\u001b[0m\u001b[0;34m(\u001b[0m\u001b[0mtmp_even\u001b[0m\u001b[0;34m.\u001b[0m\u001b[0mcovariants_\u001b[0m\u001b[0;34m.\u001b[0m\u001b[0mshape\u001b[0m\u001b[0;34m)\u001b[0m\u001b[0;34m\u001b[0m\u001b[0;34m\u001b[0m\u001b[0m\n\u001b[1;32m      5\u001b[0m \u001b[0mprint\u001b[0m\u001b[0;34m(\u001b[0m\u001b[0mtmp_even\u001b[0m\u001b[0;34m.\u001b[0m\u001b[0mactual_sizes_\u001b[0m\u001b[0;34m)\u001b[0m\u001b[0;34m\u001b[0m\u001b[0;34m\u001b[0m\u001b[0m\n",
      "\u001b[0;32m~/nice/nice/transformers/compressors.py\u001b[0m in \u001b[0;36mfit\u001b[0;34m(self, data_even, data_odd)\u001b[0m\n\u001b[1;32m    111\u001b[0m     \u001b[0;32mdef\u001b[0m \u001b[0mfit\u001b[0m\u001b[0;34m(\u001b[0m\u001b[0mself\u001b[0m\u001b[0;34m,\u001b[0m \u001b[0mdata_even\u001b[0m\u001b[0;34m,\u001b[0m \u001b[0mdata_odd\u001b[0m\u001b[0;34m)\u001b[0m\u001b[0;34m:\u001b[0m\u001b[0;34m\u001b[0m\u001b[0;34m\u001b[0m\u001b[0m\n\u001b[1;32m    112\u001b[0m \u001b[0;34m\u001b[0m\u001b[0m\n\u001b[0;32m--> 113\u001b[0;31m         \u001b[0mself\u001b[0m\u001b[0;34m.\u001b[0m\u001b[0meven_pca_\u001b[0m\u001b[0;34m.\u001b[0m\u001b[0mfit\u001b[0m\u001b[0;34m(\u001b[0m\u001b[0mdata_even\u001b[0m\u001b[0;34m)\u001b[0m\u001b[0;34m\u001b[0m\u001b[0;34m\u001b[0m\u001b[0m\n\u001b[0m\u001b[1;32m    114\u001b[0m         \u001b[0mself\u001b[0m\u001b[0;34m.\u001b[0m\u001b[0modd_pca_\u001b[0m\u001b[0;34m.\u001b[0m\u001b[0mfit\u001b[0m\u001b[0;34m(\u001b[0m\u001b[0mdata_odd\u001b[0m\u001b[0;34m)\u001b[0m\u001b[0;34m\u001b[0m\u001b[0;34m\u001b[0m\u001b[0m\n\u001b[1;32m    115\u001b[0m         \u001b[0mself\u001b[0m\u001b[0;34m.\u001b[0m\u001b[0mfitted_\u001b[0m \u001b[0;34m=\u001b[0m \u001b[0;32mTrue\u001b[0m\u001b[0;34m\u001b[0m\u001b[0;34m\u001b[0m\u001b[0m\n",
      "\u001b[0;32m~/nice/nice/transformers/compressors.py\u001b[0m in \u001b[0;36mfit\u001b[0;34m(self, data)\u001b[0m\n\u001b[1;32m     59\u001b[0m                 \u001b[0;32mif\u001b[0m \u001b[0;34m(\u001b[0m\u001b[0mdata\u001b[0m\u001b[0;34m.\u001b[0m\u001b[0mcovariants_\u001b[0m\u001b[0;34m.\u001b[0m\u001b[0mshape\u001b[0m\u001b[0;34m[\u001b[0m\u001b[0;36m0\u001b[0m\u001b[0;34m]\u001b[0m \u001b[0;34m*\u001b[0m \u001b[0;34m(\u001b[0m\u001b[0mlambd\u001b[0m \u001b[0;34m+\u001b[0m \u001b[0;36m1\u001b[0m\u001b[0;34m)\u001b[0m \u001b[0;34m<\u001b[0m \u001b[0mn_components_now\u001b[0m\u001b[0;34m)\u001b[0m\u001b[0;34m:\u001b[0m\u001b[0;34m\u001b[0m\u001b[0;34m\u001b[0m\u001b[0m\n\u001b[1;32m     60\u001b[0m                     raise ValueError(\"not enough data to fit pca, number of vectors is {}, dimensionality of single vector (lambd + 1) is {}, i. e. total number of points is {}, while number of components is {}\".format(data.covariants_.shape[0], \n\u001b[0;32m---> 61\u001b[0;31m                     lambd + 1, data.covariants_.shape[0] * (lambd + 1), n_components_now))\n\u001b[0m\u001b[1;32m     62\u001b[0m \u001b[0;34m\u001b[0m\u001b[0m\n\u001b[1;32m     63\u001b[0m                 \u001b[0;32mif\u001b[0m \u001b[0;34m(\u001b[0m\u001b[0mtype\u001b[0m\u001b[0;34m(\u001b[0m\u001b[0mself\u001b[0m\u001b[0;34m.\u001b[0m\u001b[0mnum_to_fit_\u001b[0m\u001b[0;34m)\u001b[0m \u001b[0;32mis\u001b[0m \u001b[0mstr\u001b[0m\u001b[0;34m)\u001b[0m\u001b[0;34m:\u001b[0m\u001b[0;34m\u001b[0m\u001b[0;34m\u001b[0m\u001b[0m\n",
      "\u001b[0;31mValueError\u001b[0m: not enough data to fit pca, number of vectors is 2, dimensionality of single vector (lambd + 1) is 1, i. e. total number of points is 2, while number of components is 7"
     ]
    }
   ],
   "source": [
    "pca = IndividualLambdaPCAsBoth(n_components = 7)\n",
    "pca.fit(artificial_even[0:2], artificial_odd[0:2])\n",
    "tmp_even, tmp_odd = pca.transform(artificial_even, artificial_odd)\n",
    "print(tmp_even.covariants_.shape)\n",
    "print(tmp_even.actual_sizes_)\n",
    "\n",
    "print(tmp_odd.covariants_.shape)\n",
    "print(tmp_odd.actual_sizes_)"
   ]
  },
  {
   "cell_type": "markdown",
   "metadata": {},
   "source": [
    "PCA also estimates feature importances:"
   ]
  },
  {
   "cell_type": "code",
   "execution_count": 27,
   "metadata": {},
   "outputs": [
    {
     "name": "stdout",
     "output_type": "stream",
     "text": [
      "(9, 6)\n"
     ]
    }
   ],
   "source": [
    "pca = IndividualLambdaPCAsBoth(n_components = 9)\n",
    "pca.fit(data_even_1, data_odd_1)\n",
    "data_even_1_t, data_odd_1_t = pca.transform(data_even_1, data_odd_1)\n",
    "print(data_even_1_t.importances_.shape)"
   ]
  },
  {
   "cell_type": "markdown",
   "metadata": {},
   "source": [
    "Array is two dimensional, first dimension corresponds to feature index and the second to lambda. Valid elements are [:actual_sizes_[lambd], lambd]"
   ]
  },
  {
   "cell_type": "markdown",
   "metadata": {},
   "source": [
    "Instance of this class has fields pca.even_pca_.pcas_[:] and pca.odd_pca.pcas_[:] which are instances of class which inherits from sklearn.decomposition.TruncatedSVD. Thus they have explained_variance_, explained_variance_ratio_ and singular_values_. In addition they have importances_ which are subsequently used by ThresholdExpansioner. Importances_ are almost the same as explained_variance_ratio_ with the only difference that they are normalized not to the total variance before pca transformation but to the total variance after. I. e. sum(importance_) is always 1.0"
   ]
  },
  {
   "cell_type": "code",
   "execution_count": 28,
   "metadata": {},
   "outputs": [],
   "source": [
    "def proper_log_plot(array, *args, **kwargs):\n",
    "    plt.plot(np.arange(len(array)) + 1, array, *args, **kwargs)"
   ]
  },
  {
   "cell_type": "code",
   "execution_count": 29,
   "metadata": {},
   "outputs": [
    {
     "data": {
      "image/png": "[encoded data removed]",
      "text/plain": [
       "<Figure size 432x288 with 1 Axes>"
      ]
     },
     "metadata": {
      "needs_background": "light"
     },
     "output_type": "display_data"
    }
   ],
   "source": [
    "for lambd in range(6):\n",
    "    if (pca.even_pca_.pcas_[lambd]): #it can be None if input data doens't have any features for this lambda\n",
    "        proper_log_plot(pca.even_pca_.pcas_[lambd].singular_values_, label = str(lambd))\n",
    "plt.yscale('log')\n",
    "plt.xscale('log')\n",
    "plt.legend()\n",
    "plt.show()"
   ]
  },
  {
   "cell_type": "code",
   "execution_count": 30,
   "metadata": {},
   "outputs": [
    {
     "data": {
      "image/png": "[encoded data removed]",
      "text/plain": [
       "<Figure size 432x288 with 1 Axes>"
      ]
     },
     "metadata": {
      "needs_background": "light"
     },
     "output_type": "display_data"
    }
   ],
   "source": [
    "for lambd in range(6):\n",
    "    if (pca.odd_pca_.pcas_[lambd]): #it can be None if input data doens't have any features for this lambda\n",
    "        proper_log_plot(pca.odd_pca_.pcas_[lambd].singular_values_, label = str(lambd))\n",
    "plt.yscale('log')\n",
    "plt.xscale('log')\n",
    "plt.legend()\n",
    "plt.show()"
   ]
  },
  {
   "cell_type": "markdown",
   "metadata": {},
   "source": [
    "There is one another compressor - InvariantsPCA. The only difference is that inputs and outputs are invariants. Now not both, only single parity."
   ]
  },
  {
   "cell_type": "code",
   "execution_count": 31,
   "metadata": {},
   "outputs": [
    {
     "name": "stdout",
     "output_type": "stream",
     "text": [
      "(500, 10)\n",
      "(500, 5)\n"
     ]
    },
    {
     "name": "stderr",
     "output_type": "stream",
     "text": [
      "/home/pozdn/nice/nice/transformers/compressors.py:142: UserWarning: Amount of provided data is less than the desired one to fit PCA. Number of components is 5, desired number of environments is 1500, actual number of environments is 500\n",
      "  warnings.warn(\"Amount of provided data is less than the desired one to fit PCA. Number of components is {}, desired number of environments is {}, actual number of environments is {}\".format(self.n_components, num_fit_now, X.shape[0]))\n"
     ]
    }
   ],
   "source": [
    "pca = InvariantsPCA(n_components = 5, num_to_fit = '300x')\n",
    "invariants_even = data_even_1.get_invariants()\n",
    "print(invariants_even.shape)\n",
    "pca.fit(invariants_even)\n",
    "print(pca.transform(invariants_even).shape)"
   ]
  },
  {
   "cell_type": "markdown",
   "metadata": {},
   "source": [
    "This inherits from sklearn.decomposition.PCA, thus it also has importance fields:"
   ]
  },
  {
   "cell_type": "code",
   "execution_count": 32,
   "metadata": {},
   "outputs": [
    {
     "name": "stdout",
     "output_type": "stream",
     "text": [
      "[6.56740086e-01 3.32300866e-01 7.66021533e-03 3.29425638e-03\n",
      " 4.57583355e-06]\n",
      "0.9999999995966687\n"
     ]
    }
   ],
   "source": [
    "print(pca.explained_variance_ratio_)\n",
    "print(np.sum(pca.explained_variance_ratio_))"
   ]
  },
  {
   "cell_type": "markdown",
   "metadata": {},
   "source": [
    "To deal with covariants and single parity there is class **IndividualLambdaPCAs**"
   ]
  },
  {
   "cell_type": "markdown",
   "metadata": {},
   "source": [
    "## Expansioner"
   ]
  },
  {
   "cell_type": "markdown",
   "metadata": {},
   "source": [
    "For thresholding expansion there is a class ThresholdExpansioner:"
   ]
  },
  {
   "cell_type": "code",
   "execution_count": 33,
   "metadata": {},
   "outputs": [
    {
     "name": "stdout",
     "output_type": "stream",
     "text": [
      "(500, 34, 6, 11)\n",
      "[16 15 33 26 34 23]\n",
      "[ 0 24 20 34 26 30]\n"
     ]
    }
   ],
   "source": [
    "expansioner = ThresholdExpansioner(num_expand = 40)\n",
    "expansioner.fit(data_even_1_t, data_odd_1_t, data_even_1_t, data_odd_1_t)\n",
    "data_even_2, data_odd_2 = expansioner.transform(data_even_1_t, data_odd_1_t, data_even_1_t, data_odd_1_t)\n",
    "print(data_even_2.covariants_.shape)\n",
    "print(data_even_2.actual_sizes_)\n",
    "print(data_odd_2.actual_sizes_)"
   ]
  },
  {
   "cell_type": "markdown",
   "metadata": {},
   "source": [
    "it operates with two even-odd pairs of covariants and produces clebsch-gordan product of them. I. e. if the body orders of the inputs are nu1 and nu2 output would be of body order nu1 + nu2.\n",
    "\n",
    "As the main parameter it accepts num_expand and by binary search looks for such threshold to make number of pairs {<... l1 \\*> <... l2 \\*} be equal to num_expand. After that each such pair generates at most one feature to each lambda channel. (It depends on the values of l1 and l2 by triangle inequality) Thus the size of the output for different lambda channels is different. \n",
    "\n"
   ]
  },
  {
   "cell_type": "markdown",
   "metadata": {},
   "source": [
    "If num_expand is not specified it would do full expansion:"
   ]
  },
  {
   "cell_type": "code",
   "execution_count": 34,
   "metadata": {},
   "outputs": [
    {
     "name": "stdout",
     "output_type": "stream",
     "text": [
      "(500, 1134, 6, 11)\n",
      "[ 486  405 1053  810 1134  729]\n",
      "[   0  810  648 1134  810  972]\n"
     ]
    }
   ],
   "source": [
    "expansioner = ThresholdExpansioner()\n",
    "expansioner.fit(data_even_1_t, data_odd_1_t, data_even_1_t, data_odd_1_t)\n",
    "data_even_2, data_odd_2 = expansioner.transform(data_even_1_t, data_odd_1_t, data_even_1_t, data_odd_1_t)\n",
    "print(data_even_2.covariants_.shape)\n",
    "print(data_even_2.actual_sizes_)\n",
    "print(data_odd_2.actual_sizes_)"
   ]
  },
  {
   "cell_type": "markdown",
   "metadata": {},
   "source": [
    "Let's take invariants. 486 corresponds to 9 * 9 * (5 + 1). I. e. powerspectrum without it's symmetry with respect to changing the order of n1 and n2"
   ]
  },
  {
   "cell_type": "markdown",
   "metadata": {},
   "source": [
    "Majority of the time in the fitting process takes calculation of clebsch-gordan coefficients. Thus, if we are planning to fit several expansioners it is good idea to calculate clebsch-gordan coefficients once:"
   ]
  },
  {
   "cell_type": "code",
   "execution_count": 35,
   "metadata": {},
   "outputs": [],
   "source": [
    "clebsch = ClebschGordan(5)"
   ]
  },
  {
   "cell_type": "code",
   "execution_count": 36,
   "metadata": {},
   "outputs": [
    {
     "name": "stdout",
     "output_type": "stream",
     "text": [
      "(500, 34, 6, 11)\n",
      "[16 15 33 26 34 23]\n",
      "[ 0 24 20 34 26 30]\n"
     ]
    }
   ],
   "source": [
    "expansioner = ThresholdExpansioner(num_expand = 40)\n",
    "expansioner.fit(data_even_1_t, data_odd_1_t, data_even_1_t, data_odd_1_t, clebsch_gordan = clebsch)\n",
    "data_even_2, data_odd_2 = expansioner.transform(data_even_1_t, data_odd_1_t, data_even_1_t, data_odd_1_t)\n",
    "print(data_even_2.covariants_.shape)\n",
    "print(data_even_2.actual_sizes_)\n",
    "print(data_odd_2.actual_sizes_)"
   ]
  },
  {
   "cell_type": "markdown",
   "metadata": {},
   "source": [
    "At the last step it is not necessary to calcualte all covariants, it is enough to calculate only invariants. In order to achieve this one can pass mode = 'invariants':\n",
    "\n"
   ]
  },
  {
   "cell_type": "code",
   "execution_count": 37,
   "metadata": {},
   "outputs": [
    {
     "name": "stdout",
     "output_type": "stream",
     "text": [
      "(500, 41)\n",
      "(500, 0)\n"
     ]
    }
   ],
   "source": [
    "expansioner = ThresholdExpansioner(num_expand = 40, mode = 'invariants')\n",
    "expansioner.fit(data_even_1_t, data_odd_1_t, data_even_1_t, data_odd_1_t, clebsch_gordan = clebsch)\n",
    "invariants_even, invariants_odd = expansioner.transform(data_even_1_t, data_odd_1_t, data_even_1_t, data_odd_1_t)\n",
    "print(invariants_even.shape)\n",
    "print(invariants_odd.shape)"
   ]
  },
  {
   "cell_type": "markdown",
   "metadata": {},
   "source": [
    "It is usefull not only at the last step, because we most probably would want to calculate huge number of invariants at each step, which is computationally feasible, while calculation of the same amount of covariants is not. "
   ]
  },
  {
   "cell_type": "markdown",
   "metadata": {},
   "source": [
    "## Purifiers:"
   ]
  },
  {
   "cell_type": "code",
   "execution_count": 38,
   "metadata": {},
   "outputs": [
    {
     "name": "stdout",
     "output_type": "stream",
     "text": [
      "(500, 30)\n",
      "0.3347158597308048\n",
      "(500, 30)\n",
      "0.05837207039286959\n"
     ]
    },
    {
     "name": "stderr",
     "output_type": "stream",
     "text": [
      "/home/pozdn/nice/nice/transformers/purifiers.py:50: UserWarning: Amount of provided data is less than the desired one to fit InvariantsPurifer. Number of old features is 150, desired number of environments is 1500, actual number of environments is 500\n",
      "  warnings.warn(\"Amount of provided data is less than the desired one to fit InvariantsPurifer. Number of old features is {}, desired number of environments is {}, actual number of environments is {}\".format(total_num, num_fit_now, new_block.shape[0]))\n"
     ]
    }
   ],
   "source": [
    "np.random.seed(0)\n",
    "old_invariants = [np.random.rand(500, 20 + i * 5) for i in range(5)]\n",
    "new_invariants = np.random.rand(500, 30)\n",
    "pur = InvariantsPurifier()\n",
    "pur.fit(old_invariants, new_invariants)\n",
    "print(new_invariants.shape)\n",
    "print(np.mean(new_invariants * new_invariants))\n",
    "new_invariants_p = pur.transform(old_invariants, new_invariants)\n",
    "print(new_invariants_p.shape)\n",
    "print(np.mean(new_invariants_p * new_invariants_p))"
   ]
  },
  {
   "cell_type": "markdown",
   "metadata": {},
   "source": [
    "parameters are num_to_fit, max_take and regressor. Behaviour of num_to_fit is the same as in case of compressors. Max_take determines amount of invariant to take from old ones. If it is None, that all previous invariants would be used for purification. If it is int than from each block no more than max_take invariants would be used. In this case invariants would be picked from the begining, assuming that previously you did something like pca transformation and invariants are sorted in the order to decaying importance. If you use this option it is your responsibility to assure this. If max_take is np.array of list than it is considered as the set of individual numbers to take from each block. "
   ]
  },
  {
   "cell_type": "code",
   "execution_count": 39,
   "metadata": {},
   "outputs": [
    {
     "name": "stdout",
     "output_type": "stream",
     "text": [
      "(500, 30)\n",
      "0.3347158597308048\n",
      "(500, 30)\n",
      "0.07542076163976533\n"
     ]
    }
   ],
   "source": [
    "np.random.seed(0)\n",
    "old_invariants = [np.random.rand(500, 20 + i * 5) for i in range(5)]\n",
    "new_invariants = np.random.rand(500, 30)\n",
    "pur = InvariantsPurifier(max_take = 10)\n",
    "pur.fit(old_invariants, new_invariants)\n",
    "print(new_invariants.shape)\n",
    "print(np.mean(new_invariants * new_invariants))\n",
    "new_invariants_p = pur.transform(old_invariants, new_invariants)\n",
    "print(new_invariants_p.shape)\n",
    "print(np.mean(new_invariants_p * new_invariants_p))"
   ]
  },
  {
   "cell_type": "markdown",
   "metadata": {},
   "source": [
    "regressor is the base linear regression class. Potentially with the parameters inside. Default is Ridge(alpha = 1e-12)"
   ]
  },
  {
   "cell_type": "code",
   "execution_count": 40,
   "metadata": {},
   "outputs": [
    {
     "name": "stdout",
     "output_type": "stream",
     "text": [
      "(500, 30)\n",
      "0.3347158597308048\n",
      "(500, 30)\n",
      "0.0834976296945275\n"
     ]
    },
    {
     "name": "stderr",
     "output_type": "stream",
     "text": [
      "/home/pozdn/nice/nice/transformers/purifiers.py:50: UserWarning: Amount of provided data is less than the desired one to fit InvariantsPurifer. Number of old features is 150, desired number of environments is 1500, actual number of environments is 500\n",
      "  warnings.warn(\"Amount of provided data is less than the desired one to fit InvariantsPurifer. Number of old features is {}, desired number of environments is {}, actual number of environments is {}\".format(total_num, num_fit_now, new_block.shape[0]))\n"
     ]
    }
   ],
   "source": [
    "np.random.seed(0)\n",
    "old_invariants = [np.random.rand(500, 20 + i * 5) for i in range(5)]\n",
    "new_invariants = np.random.rand(500, 30)\n",
    "pur = InvariantsPurifier(regressor = Ridge(alpha = 1e10))\n",
    "pur.fit(old_invariants, new_invariants)\n",
    "print(new_invariants.shape)\n",
    "print(np.mean(new_invariants * new_invariants))\n",
    "new_invariants_p = pur.transform(old_invariants, new_invariants)\n",
    "print(new_invariants_p.shape)\n",
    "print(np.mean(new_invariants_p * new_invariants_p))"
   ]
  },
  {
   "cell_type": "code",
   "execution_count": 41,
   "metadata": {},
   "outputs": [
    {
     "name": "stderr",
     "output_type": "stream",
     "text": [
      "/home/pozdn/nice/nice/transformers/purifiers.py:50: UserWarning: Amount of provided data is less than the desired one to fit InvariantsPurifer. Number of old features is 150, desired number of environments is 1500, actual number of environments is 500\n",
      "  warnings.warn(\"Amount of provided data is less than the desired one to fit InvariantsPurifer. Number of old features is {}, desired number of environments is {}, actual number of environments is {}\".format(total_num, num_fit_now, new_block.shape[0]))\n"
     ]
    },
    {
     "name": "stdout",
     "output_type": "stream",
     "text": [
      "(500, 30)\n",
      "0.3347158597308048\n",
      "(500, 30)\n",
      "0.05847284067056952\n"
     ]
    }
   ],
   "source": [
    "from sklearn.linear_model import Lars\n",
    "np.random.seed(0)\n",
    "old_invariants = [np.random.rand(500, 20 + i * 5) for i in range(5)]\n",
    "new_invariants = np.random.rand(500, 30)\n",
    "pur = InvariantsPurifier(regressor = Lars())\n",
    "pur.fit(old_invariants, new_invariants)\n",
    "print(new_invariants.shape)\n",
    "print(np.mean(new_invariants * new_invariants))\n",
    "new_invariants_p = pur.transform(old_invariants, new_invariants)\n",
    "print(new_invariants_p.shape)\n",
    "print(np.mean(new_invariants_p * new_invariants_p))"
   ]
  },
  {
   "cell_type": "markdown",
   "metadata": {},
   "source": [
    "Unfortunatelly BayesianRidge does not support multitarget regression. "
   ]
  },
  {
   "cell_type": "markdown",
   "metadata": {},
   "source": [
    "**CovariantsPurifierBoth** and **CovariantsPurifier** are the purifiers for covariants. Parameters are the same. In this case there is a subtle moment - you must not fit interecept, otherwise you would get non covariant transformtion since the vector of constants is not covariant. If you use custom regressor it is your responsibility to assure this. If you use regressor from sklearn you can set fit_intercept = False."
   ]
  },
  {
   "cell_type": "markdown",
   "metadata": {},
   "source": [
    "Using this blocks it is straightforward to do Nice, but I have couple of classes for convenience."
   ]
  },
  {
   "cell_type": "markdown",
   "metadata": {},
   "source": [
    "## StandardBlock"
   ]
  },
  {
   "cell_type": "markdown",
   "metadata": {},
   "source": [
    "The typical unit of the nice is the set of 6 blocks. 1) first of all we need to do expansion of covariants. 2) we need to purify them. 3) we need to pca them. Potentially we want to do the same 4-6) with only invariants with much higher num_expand. The class StandardBlock corresponds to this transformation: "
   ]
  },
  {
   "cell_type": "code",
   "execution_count": 42,
   "metadata": {},
   "outputs": [
    {
     "data": {
      "text/plain": [
       "'def __init__(self, covariants_expansioner = None, covariants_purifier = None,\\n              covariants_pca = None, invariants_expansioner = None,\\n              invariants_purifier = None, invariants_pca = None, \\n              guaranteed_parts_fitted_consistently = False)'"
      ]
     },
     "execution_count": 42,
     "metadata": {},
     "output_type": "execute_result"
    }
   ],
   "source": [
    "'''def __init__(self, covariants_expansioner = None, covariants_purifier = None,\n",
    "              covariants_pca = None, invariants_expansioner = None,\n",
    "              invariants_purifier = None, invariants_pca = None, \n",
    "              guaranteed_parts_fitted_consistently = False)'''"
   ]
  },
  {
   "cell_type": "markdown",
   "metadata": {},
   "source": [
    "It can be used for any partial task, i. e. if we would like to do small covariants expansion with subsequent purification and big invariants expansion without purification and with subsequent pca:"
   ]
  },
  {
   "cell_type": "code",
   "execution_count": 43,
   "metadata": {},
   "outputs": [],
   "source": [
    "block = StandardBlock(ThresholdExpansioner(num_expand = 10), CovariantsPurifierBoth(), None,\n",
    "                      ThresholdExpansioner(num_expand = 10000, mode = 'invariants'), None, InvariantsPCA(1000))\n"
   ]
  },
  {
   "cell_type": "markdown",
   "metadata": {},
   "source": [
    "If expansioner is not set, than subsequent purification and pca has no sense, and thus it would raise and error:"
   ]
  },
  {
   "cell_type": "code",
   "execution_count": 44,
   "metadata": {},
   "outputs": [
    {
     "ename": "ValueError",
     "evalue": "can not do pca over not existing invariants",
     "output_type": "error",
     "traceback": [
      "\u001b[0;31m---------------------------------------------------------------------------\u001b[0m",
      "\u001b[0;31mValueError\u001b[0m                                Traceback (most recent call last)",
      "\u001b[0;32m<ipython-input-44-0a178d9df7cc>\u001b[0m in \u001b[0;36m<module>\u001b[0;34m\u001b[0m\n\u001b[1;32m      1\u001b[0m block = StandardBlock(ThresholdExpansioner(num_expand = 10), CovariantsPurifierBoth(), None,\n\u001b[0;32m----> 2\u001b[0;31m                       None, None, InvariantsPCA(1000))\n\u001b[0m",
      "\u001b[0;32m~/nice/nice/transformers/grouping.py\u001b[0m in \u001b[0;36m__init__\u001b[0;34m(self, covariants_expansioner, covariants_purifier, covariants_pca, invariants_expansioner, invariants_purifier, invariants_pca, guaranteed_parts_fitted_consistently)\u001b[0m\n\u001b[1;32m     52\u001b[0m         \u001b[0mself\u001b[0m\u001b[0;34m.\u001b[0m\u001b[0minvariants_pca_\u001b[0m \u001b[0;34m=\u001b[0m \u001b[0minvariants_pca\u001b[0m\u001b[0;34m\u001b[0m\u001b[0;34m\u001b[0m\u001b[0m\n\u001b[1;32m     53\u001b[0m         \u001b[0;32mif\u001b[0m \u001b[0;34m(\u001b[0m\u001b[0mself\u001b[0m\u001b[0;34m.\u001b[0m\u001b[0minvariants_pca_\u001b[0m \u001b[0;32mis\u001b[0m \u001b[0;32mnot\u001b[0m \u001b[0;32mNone\u001b[0m\u001b[0;34m)\u001b[0m \u001b[0;32mand\u001b[0m \u001b[0;34m(\u001b[0m\u001b[0mself\u001b[0m\u001b[0;34m.\u001b[0m\u001b[0minvariants_expansioner_\u001b[0m \u001b[0;32mis\u001b[0m \u001b[0;32mNone\u001b[0m\u001b[0;34m)\u001b[0m\u001b[0;34m:\u001b[0m\u001b[0;34m\u001b[0m\u001b[0;34m\u001b[0m\u001b[0m\n\u001b[0;32m---> 54\u001b[0;31m             \u001b[0;32mraise\u001b[0m \u001b[0mValueError\u001b[0m\u001b[0;34m(\u001b[0m\u001b[0;34m\"can not do pca over not existing invariants\"\u001b[0m\u001b[0;34m)\u001b[0m\u001b[0;34m\u001b[0m\u001b[0;34m\u001b[0m\u001b[0m\n\u001b[0m\u001b[1;32m     55\u001b[0m \u001b[0;34m\u001b[0m\u001b[0m\n\u001b[1;32m     56\u001b[0m         \u001b[0;32mif\u001b[0m \u001b[0;34m(\u001b[0m\u001b[0mself\u001b[0m\u001b[0;34m.\u001b[0m\u001b[0mcovariants_expansioner_\u001b[0m \u001b[0;32mis\u001b[0m \u001b[0;32mnot\u001b[0m \u001b[0;32mNone\u001b[0m\u001b[0;34m)\u001b[0m \u001b[0;32mand\u001b[0m \u001b[0;34m(\u001b[0m\u001b[0mself\u001b[0m\u001b[0;34m.\u001b[0m\u001b[0mcovariants_pca_\u001b[0m \u001b[0;32mis\u001b[0m \u001b[0;32mnot\u001b[0m \u001b[0;32mNone\u001b[0m\u001b[0;34m)\u001b[0m\u001b[0;34m:\u001b[0m\u001b[0;34m\u001b[0m\u001b[0;34m\u001b[0m\u001b[0m\n",
      "\u001b[0;31mValueError\u001b[0m: can not do pca over not existing invariants"
     ]
    }
   ],
   "source": [
    "block = StandardBlock(ThresholdExpansioner(num_expand = 10), CovariantsPurifierBoth(), None,\n",
    "                      None, None, InvariantsPCA(1000))"
   ]
  },
  {
   "cell_type": "markdown",
   "metadata": {},
   "source": [
    "but we can do only covariants, or only invariants:"
   ]
  },
  {
   "cell_type": "code",
   "execution_count": 45,
   "metadata": {},
   "outputs": [],
   "source": [
    "block = StandardBlock(ThresholdExpansioner(num_expand = 10), CovariantsPurifierBoth(), None,\n",
    "                      None, None, None)"
   ]
  },
  {
   "cell_type": "code",
   "execution_count": 46,
   "metadata": {},
   "outputs": [
    {
     "data": {
      "text/plain": [
       "'def fit(self, first_even, first_odd, second_even, second_odd, \\n            old_even_covariants = None, old_odd_covariants = None,\\n            old_even_invariants = None, clebsch_gordan = None):'"
      ]
     },
     "execution_count": 46,
     "metadata": {},
     "output_type": "execute_result"
    }
   ],
   "source": [
    "'''def fit(self, first_even, first_odd, second_even, second_odd, \n",
    "            old_even_covariants = None, old_odd_covariants = None,\n",
    "            old_even_invariants = None, clebsch_gordan = None):'''"
   ]
  },
  {
   "cell_type": "markdown",
   "metadata": {},
   "source": [
    "Fit method accepts two even-odd pairs and old covariants and invariants to fit purifiers. It purifiers present in init and no old data is given to fit it would rase Error."
   ]
  },
  {
   "cell_type": "code",
   "execution_count": 47,
   "metadata": {},
   "outputs": [
    {
     "data": {
      "text/plain": [
       "' def transform(self, first_even, first_odd, second_even, second_odd, old_even_covariants = None, old_odd_covariants = None,\\n            old_even_invariants = None):'"
      ]
     },
     "execution_count": 47,
     "metadata": {},
     "output_type": "execute_result"
    }
   ],
   "source": [
    "''' def transform(self, first_even, first_odd, second_even, second_odd, old_even_covariants = None, old_odd_covariants = None,\n",
    "            old_even_invariants = None):'''"
   ]
  },
  {
   "cell_type": "markdown",
   "metadata": {},
   "source": [
    "Transform method has the same input and it always returns covariants_even, covariants_odd, invariants_even. If covariants branch is absent it would return None, None, invariants_even. If invariants branch is absent it would return covariants_even, covariants_odd, None. (yep, invariants can be taken as covariants[:, :, 0, 0], and this is behavior of StandardSequence)."
   ]
  },
  {
   "cell_type": "markdown",
   "metadata": {},
   "source": [
    "About guaranteed_parts_fitted_consistently = False later"
   ]
  },
  {
   "cell_type": "markdown",
   "metadata": {},
   "source": [
    "## StandardSequence"
   ]
  },
  {
   "cell_type": "markdown",
   "metadata": {},
   "source": [
    "The vanilla nice is the sequence of standard blocks, where each increase the body order by one. For this purpose I have class StandardSequence:"
   ]
  },
  {
   "cell_type": "code",
   "execution_count": 48,
   "metadata": {},
   "outputs": [
    {
     "data": {
      "text/plain": [
       "' def __init__(self, blocks, \\ninitial_pca = None,\\nguaranteed_parts_fitted_consistently = False):'"
      ]
     },
     "execution_count": 48,
     "metadata": {},
     "output_type": "execute_result"
    }
   ],
   "source": [
    "''' def __init__(self, blocks, \n",
    "initial_pca = None,\n",
    "guaranteed_parts_fitted_consistently = False):'''"
   ]
  },
  {
   "cell_type": "markdown",
   "metadata": {},
   "source": [
    "It accepts list with blocks, and initial_pca. InitialPCA is needed because input of each block should contain feature importances since the first action is to do expansion. By default (None) it is IndividualLambdaPCAsBoth(), i. e. it doesn't do any reduction"
   ]
  },
  {
   "cell_type": "markdown",
   "metadata": {},
   "source": [
    "Example of the usage:"
   ]
  },
  {
   "cell_type": "code",
   "execution_count": 49,
   "metadata": {},
   "outputs": [],
   "source": [
    "from sklearn.linear_model import Ridge, Lasso, Lars, LassoLars\n",
    "\n",
    "transformer = StandardSequence([StandardBlock(ThresholdExpansioner(200),\n",
    "                                             None,\n",
    "                                             IndividualLambdaPCAsBoth(50),\n",
    "                                             ThresholdExpansioner(500, mode = 'invariants'),\n",
    "                                             None,\n",
    "                                             None),\n",
    "                                StandardBlock(ThresholdExpansioner(100),\n",
    "                                             CovariantsPurifierBoth(max_take = 10),\n",
    "                                             IndividualLambdaPCAsBoth(75),\n",
    "                                             ThresholdExpansioner(500, mode = 'invariants'),\n",
    "                                             None,\n",
    "                                             InvariantsPCA(200)),\n",
    "                                StandardBlock(ThresholdExpansioner(100),\n",
    "                                             CovariantsPurifierBoth(regressor = Ridge(alpha = 1e5, fit_intercept = False), max_take = 20),\n",
    "                                             IndividualLambdaPCAsBoth(),\n",
    "                                             ThresholdExpansioner(500, mode = 'invariants'),\n",
    "                                             InvariantsPurifier(regressor = Lars(n_nonzero_coefs = 10), max_take = 20),\n",
    "                                             None),\n",
    "                                StandardBlock(ThresholdExpansioner(100),\n",
    "                                             CovariantsPurifierBoth(regressor = Lasso(alpha=17.0, fit_intercept = False), max_take = 20),\n",
    "                                             IndividualLambdaPCAsBoth(),\n",
    "                                             ThresholdExpansioner(500, mode = 'invariants'),\n",
    "                                             InvariantsPurifier(regressor = LassoLars(alpha = 1e-5), max_take = 20),\n",
    "                                             None),\n",
    "                               StandardBlock(None,\n",
    "                                             None,\n",
    "                                             None,\n",
    "                                             ThresholdExpansioner(5000, mode = 'invariants'),\n",
    "                                             None,\n",
    "                                             None)])"
   ]
  },
  {
   "cell_type": "markdown",
   "metadata": {},
   "source": [
    "I. e. this way to define a model is very flexible and at the same time compact. Note also that some linear regressors constructs sparse model, i. e. Lasso. If these estimators use in their internal transform method this sparsity to speed up the prediction(I have not investigated it yet)  it would immediatelly result that the nice transformer would also benefit from it. It also should be noted that Invariant purifiers always use covariants[:, :, 0, 0] as invariants even if invariants branch of corresponding standard block is presented. It is done to not to fuck up with max_take parameter - covariants are always guaranteed to be pca-ed, and thus are always sorted in the order of decaying importance, while invariants can be not."
   ]
  },
  {
   "cell_type": "markdown",
   "metadata": {},
   "source": [
    "Let's fit it:"
   ]
  },
  {
   "cell_type": "code",
   "execution_count": 50,
   "metadata": {},
   "outputs": [
    {
     "name": "stderr",
     "output_type": "stream",
     "text": [
      "/home/pozdn/nice/nice/transformers/compressors.py:73: RuntimeWarning: given data is less than desired number of points to fit pca. Desired number of points to fit pca is 750, while number of vectors is 500, dimensionality of single vector (lambd + 1) is 1, i. e. total number of points is 500. Number of pca components is 75\n",
      "  warnings.warn(\"given data is less than desired number of points to fit pca. Desired number of points to fit pca is {}, while number of vectors is {}, dimensionality of single vector (lambd + 1) is {}, i. e. total number of points is {}. Number of pca components is {}\".format(num_fit_now, data.covariants_.shape[0], (lambd + 1), data.covariants_.shape[0] * (lambd + 1), n_components_now), RuntimeWarning)\n",
      "/home/pozdn/nice/nice/transformers/compressors.py:73: RuntimeWarning: given data is less than desired number of points to fit pca. Desired number of points to fit pca is 750, while number of vectors is 500, dimensionality of single vector (lambd + 1) is 1, i. e. total number of points is 500. Number of pca components is 75\n",
      "  warnings.warn(\"given data is less than desired number of points to fit pca. Desired number of points to fit pca is {}, while number of vectors is {}, dimensionality of single vector (lambd + 1) is {}, i. e. total number of points is {}. Number of pca components is {}\".format(num_fit_now, data.covariants_.shape[0], (lambd + 1), data.covariants_.shape[0] * (lambd + 1), n_components_now), RuntimeWarning)\n",
      "/home/pozdn/nice/nice/transformers/compressors.py:142: UserWarning: Amount of provided data is less than the desired one to fit PCA. Number of components is 200, desired number of environments is 2000, actual number of environments is 500\n",
      "  warnings.warn(\"Amount of provided data is less than the desired one to fit PCA. Number of components is {}, desired number of environments is {}, actual number of environments is {}\".format(self.n_components, num_fit_now, X.shape[0]))\n",
      "/home/pozdn/nice/nice/transformers/purifiers.py:121: UserWarning: Amount of provided data is less than the desired one to fit InvariantsPurifer. Number of old features is 65, desired number of data points is 650, actual number of data points (n_env * (l + 1)) is 500, since number of environments is 500, and l is 0\n",
      "  warnings.warn(\"Amount of provided data is less than the desired one to fit InvariantsPurifer. Number of old features is {}, desired number of data points is {}, actual number of data points (n_env * (l + 1)) is {}, since number of environments is {}, and l is {}\".format(total_num, num_fit_now, new_block.shape[0] * (l + 1), new_block.shape[0], l))\n",
      "/home/pozdn/nice/nice/transformers/purifiers.py:50: UserWarning: Amount of provided data is less than the desired one to fit InvariantsPurifer. Number of old features is 65, desired number of environments is 650, actual number of environments is 500\n",
      "  warnings.warn(\"Amount of provided data is less than the desired one to fit InvariantsPurifer. Number of old features is {}, desired number of environments is {}, actual number of environments is {}\".format(total_num, num_fit_now, new_block.shape[0]))\n"
     ]
    },
    {
     "name": "stdout",
     "output_type": "stream",
     "text": [
      "13.910305738449097\n"
     ]
    }
   ],
   "source": [
    "begin = time.time()\n",
    "transformer.fit(coefficients[6][0:1000])\n",
    "print(time.time() - begin)"
   ]
  },
  {
   "cell_type": "markdown",
   "metadata": {},
   "source": [
    "Now we can transform the data:"
   ]
  },
  {
   "cell_type": "code",
   "execution_count": 51,
   "metadata": {},
   "outputs": [],
   "source": [
    "last_even, last_odd, invariants_even = transformer.transform(coefficients[6][0:100])"
   ]
  },
  {
   "cell_type": "markdown",
   "metadata": {},
   "source": [
    "It always return even-odd pair of covariants after the last block and all even invariants. In our case covariants are absent because last block doesn't calcualte them"
   ]
  },
  {
   "cell_type": "code",
   "execution_count": 52,
   "metadata": {},
   "outputs": [
    {
     "name": "stdout",
     "output_type": "stream",
     "text": [
      "None None\n"
     ]
    }
   ],
   "source": [
    "print(last_even, last_odd)"
   ]
  },
  {
   "cell_type": "markdown",
   "metadata": {},
   "source": [
    "Invariants is the dictionary with the keys corresponding to body order:"
   ]
  },
  {
   "cell_type": "code",
   "execution_count": 53,
   "metadata": {},
   "outputs": [
    {
     "name": "stdout",
     "output_type": "stream",
     "text": [
      "dict_keys([1, 2, 3, 4, 5, 6])\n"
     ]
    }
   ],
   "source": [
    "print(invariants_even.keys())"
   ]
  },
  {
   "cell_type": "code",
   "execution_count": 54,
   "metadata": {},
   "outputs": [
    {
     "name": "stdout",
     "output_type": "stream",
     "text": [
      "shape of invariants for nu = 1 : (100, 10)\n",
      "shape of invariants for nu = 2 : (100, 600)\n",
      "shape of invariants for nu = 3 : (100, 200)\n",
      "shape of invariants for nu = 4 : (100, 501)\n",
      "shape of invariants for nu = 5 : (100, 513)\n",
      "shape of invariants for nu = 6 : (100, 2980)\n"
     ]
    }
   ],
   "source": [
    "for nu in invariants_even.keys():\n",
    "    print(\"shape of invariants for nu = {} : {}\".format(nu, invariants_even[nu].shape))"
   ]
  },
  {
   "cell_type": "markdown",
   "metadata": {},
   "source": [
    "We can put return_only_invariants = True to the transform method to get only invariants:"
   ]
  },
  {
   "cell_type": "code",
   "execution_count": 55,
   "metadata": {},
   "outputs": [
    {
     "name": "stdout",
     "output_type": "stream",
     "text": [
      "<class 'dict'>\n"
     ]
    }
   ],
   "source": [
    "invariants = transformer.transform(coefficients[6][0:100], return_only_invariants = True)\n",
    "print(type(invariants))"
   ]
  },
  {
   "cell_type": "markdown",
   "metadata": {},
   "source": [
    "Parallelization is done internally. For the best performance it is necessary to call transform method with big chunks of data:"
   ]
  },
  {
   "cell_type": "code",
   "execution_count": 56,
   "metadata": {},
   "outputs": [
    {
     "name": "stderr",
     "output_type": "stream",
     "text": [
      "100%|██████████| 100/100 [00:00<00:00, 189.46it/s]\n",
      "100%|██████████| 2/2 [00:00<00:00, 20.87it/s]\n"
     ]
    },
    {
     "name": "stdout",
     "output_type": "stream",
     "text": [
      "(40000, 10, 6, 11)\n",
      "(10000, 10, 6, 11)\n"
     ]
    }
   ],
   "source": [
    "structures = ase_io.read('structures.xyz', \n",
    "                         index = '0:10000')\n",
    "\n",
    "process_structures(structures, 100)\n",
    "\n",
    "#process_structures(structures_val)\n",
    "HYPERS = {\n",
    "'interaction_cutoff': 6.3,\n",
    "'max_radial': 5,\n",
    "'max_angular': 5,\n",
    "'gaussian_sigma_type': 'Constant',\n",
    "'gaussian_sigma_constant': 0.05,\n",
    "'cutoff_smooth_width': 0.3,\n",
    "'radial_basis': 'GTO'\n",
    "}\n",
    "coefficients = get_rascal_coefficients_parallelized(structures, HYPERS)\n",
    "normalize_coefficients(coefficients)\n",
    "print(coefficients[1].shape)\n",
    "print(coefficients[6].shape)"
   ]
  },
  {
   "cell_type": "code",
   "execution_count": 57,
   "metadata": {},
   "outputs": [
    {
     "name": "stdout",
     "output_type": "stream",
     "text": [
      "n environments: 1, total time: 0.020344972610473633, time per environment: 0.020344972610473633\n",
      "n environments: 2, total time: 0.021401405334472656, time per environment: 0.010700702667236328\n",
      "n environments: 5, total time: 0.02201676368713379, time per environment: 0.004403352737426758\n",
      "n environments: 10, total time: 0.02887558937072754, time per environment: 0.0028875589370727537\n",
      "n environments: 20, total time: 0.03325629234313965, time per environment: 0.0016628146171569825\n",
      "n environments: 50, total time: 0.057206153869628906, time per environment: 0.0011441230773925782\n",
      "n environments: 100, total time: 0.08881068229675293, time per environment: 0.0008881068229675292\n",
      "n environments: 200, total time: 0.178511381149292, time per environment: 0.00089255690574646\n",
      "n environments: 500, total time: 0.5335044860839844, time per environment: 0.0010670089721679687\n",
      "n environments: 1000, total time: 1.372981309890747, time per environment: 0.001372981309890747\n",
      "n environments: 2000, total time: 2.5451316833496094, time per environment: 0.0012725658416748047\n",
      "n environments: 5000, total time: 5.585567235946655, time per environment: 0.001117113447189331\n",
      "n environments: 10000, total time: 11.655188083648682, time per environment: 0.0011655188083648683\n"
     ]
    }
   ],
   "source": [
    "nums = [1, 2, 5, 10, 20, 50, 100, 200, 500, 1000, 2000, 5000, 10000]\n",
    "for num in nums:\n",
    "    begin = time.time()\n",
    "    _ = transformer.transform(coefficients[6][0:num], return_only_invariants = True)\n",
    "    time_now = time.time() - begin\n",
    "    print(\"n environments: {}, total time: {}, time per environment: {}\".format(num, time_now, time_now / num))"
   ]
  },
  {
   "cell_type": "markdown",
   "metadata": {},
   "source": [
    "We can access importances_ in the pca the same way as before: (I renamed transformer to c_trans because I copied this part of code from the other notebook with c_trans)"
   ]
  },
  {
   "cell_type": "code",
   "execution_count": 58,
   "metadata": {},
   "outputs": [
    {
     "name": "stdout",
     "output_type": "stream",
     "text": [
      "nu:  1\n"
     ]
    },
    {
     "data": {
      "image/png": "[encoded data removed]",
      "text/plain": [
       "<Figure size 432x288 with 1 Axes>"
      ]
     },
     "metadata": {
      "needs_background": "light"
     },
     "output_type": "display_data"
    },
    {
     "name": "stdout",
     "output_type": "stream",
     "text": [
      "nu:  2\n"
     ]
    },
    {
     "data": {
      "image/png": "[encoded data removed]",
      "text/plain": [
       "<Figure size 432x288 with 1 Axes>"
      ]
     },
     "metadata": {
      "needs_background": "light"
     },
     "output_type": "display_data"
    },
    {
     "name": "stdout",
     "output_type": "stream",
     "text": [
      "nu:  3\n"
     ]
    },
    {
     "data": {
      "image/png": "[encoded data removed]",
      "text/plain": [
       "<Figure size 432x288 with 1 Axes>"
      ]
     },
     "metadata": {
      "needs_background": "light"
     },
     "output_type": "display_data"
    },
    {
     "name": "stdout",
     "output_type": "stream",
     "text": [
      "nu:  4\n"
     ]
    },
    {
     "data": {
      "image/png": "[encoded data removed]",
      "text/plain": [
       "<Figure size 432x288 with 1 Axes>"
      ]
     },
     "metadata": {
      "needs_background": "light"
     },
     "output_type": "display_data"
    },
    {
     "name": "stdout",
     "output_type": "stream",
     "text": [
      "nu:  5\n"
     ]
    },
    {
     "data": {
      "image/png": "[encoded data removed]",
      "text/plain": [
       "<Figure size 432x288 with 1 Axes>"
      ]
     },
     "metadata": {
      "needs_background": "light"
     },
     "output_type": "display_data"
    },
    {
     "name": "stderr",
     "output_type": "stream",
     "text": [
      "No handles with labels found to put in legend.\n"
     ]
    },
    {
     "name": "stdout",
     "output_type": "stream",
     "text": [
      "nu:  6\n"
     ]
    },
    {
     "data": {
      "image/png": "[encoded data removed]",
      "text/plain": [
       "<Figure size 432x288 with 1 Axes>"
      ]
     },
     "metadata": {
      "needs_background": "light"
     },
     "output_type": "display_data"
    }
   ],
   "source": [
    "c_trans = transformer\n",
    "colors = ['r', 'g', 'b', 'orange', 'yellow', 'purple']\n",
    "\n",
    "print(\"nu: \", 1)\n",
    "for i in range(6):\n",
    "    if (c_trans.initial_pca_ is not None):\n",
    "        if (c_trans.initial_pca_.even_pca_.pcas_[i] is not None):\n",
    "            proper_log_plot(c_trans.initial_pca_.even_pca_.pcas_[i].importances_, color = colors[i], label = \"lambda = {}\".format(i))\n",
    "\n",
    "\n",
    "for i in range(6):\n",
    "    if (c_trans.initial_pca_ is not None):\n",
    "        if (c_trans.initial_pca_.odd_pca_.pcas_[i] is not None):\n",
    "            proper_log_plot(c_trans.initial_pca_.odd_pca_.pcas_[i].importances_, '--', color = colors[i], label = \"lambda = {}\".format(i))\n",
    "\n",
    "plt.yscale('log')\n",
    "plt.xscale('log')\n",
    "plt.legend()\n",
    "plt.show()\n",
    "    \n",
    "for nu in range(len(c_trans.blocks_)):\n",
    "    print(\"nu: \", nu + 2)\n",
    "    for i in range(6):\n",
    "        if (c_trans.blocks_[nu].covariants_pca_ is not None):\n",
    "            if (c_trans.blocks_[nu].covariants_pca_.even_pca_.pcas_[i] is not None):\n",
    "                proper_log_plot(c_trans.blocks_[nu].covariants_pca_.even_pca_.pcas_[i].importances_, color = colors[i], label = \"lambda = {}\".format(i))\n",
    "        \n",
    "    \n",
    "    for i in range(6):\n",
    "        if (c_trans.blocks_[nu].covariants_pca_ is not None):\n",
    "            if (c_trans.blocks_[nu].covariants_pca_.odd_pca_.pcas_[i] is not None):\n",
    "                proper_log_plot(c_trans.blocks_[nu].covariants_pca_.odd_pca_.pcas_[i].importances_, '--', color = colors[i])\n",
    "    \n",
    "    plt.yscale('log')\n",
    "    plt.xscale('log')\n",
    "    plt.legend()\n",
    "    plt.show()"
   ]
  },
  {
   "cell_type": "markdown",
   "metadata": {},
   "source": [
    "Lines may be weird because of random parameters. And the last plot is absent because last block doesn't calculate covariants."
   ]
  },
  {
   "cell_type": "markdown",
   "metadata": {},
   "source": [
    "As we noticed before actual number of components is different for different lambda. And we might be interested in it at every step of transformations. We can achieve it by calling get_intermediate_shape() method:"
   ]
  },
  {
   "cell_type": "code",
   "execution_count": 59,
   "metadata": {},
   "outputs": [
    {
     "name": "stdout",
     "output_type": "stream",
     "text": [
      "<class 'dict'>\n"
     ]
    }
   ],
   "source": [
    "intermediate_shapes = transformer.get_intermediate_shapes()\n",
    "print(type(intermediate_shapes))"
   ]
  },
  {
   "cell_type": "markdown",
   "metadata": {},
   "source": [
    "It is nested dictionary:"
   ]
  },
  {
   "cell_type": "code",
   "execution_count": 60,
   "metadata": {},
   "outputs": [
    {
     "name": "stdout",
     "output_type": "stream",
     "text": [
      "after initial transformer : [[10, 0, 10, 0, 10, 0], [0, 10, 0, 10, 0, 10]]\n",
      "\n",
      "\n",
      "after initial pca : [[10, 0, 10, 0, 10, 0], [0, 10, 0, 10, 0, 10]]\n",
      "\n",
      "\n",
      "block nu = 1 -> nu = 2 : {'after covariants expansioner': [[65, 59, 149, 116, 162, 107], [0, 114, 94, 164, 118, 138]], 'after covariants pca': [[50, 50, 50, 50, 50, 50], [0, 50, 50, 50, 50, 50]], 'after invariants expansioner': 600}\n",
      "\n",
      "\n",
      "block nu = 2 -> nu = 3 : {'after covariants expansioner': [[27, 36, 64, 62, 69, 54], [4, 50, 55, 71, 64, 61]], 'after covariants purifier': [[27, 36, 64, 62, 69, 54], [4, 50, 55, 71, 64, 61]], 'after covariants pca': [[27, 36, 64, 62, 69, 54], [4, 50, 55, 71, 64, 61]], 'after invariants expansioner': 501, 'after invariants pca': 200}\n",
      "\n",
      "\n",
      "block nu = 3 -> nu = 4 : {'after covariants expansioner': [[15, 49, 64, 73, 73, 69], [19, 32, 50, 52, 58, 46]], 'after covariants purifier': [[15, 49, 64, 73, 73, 69], [19, 32, 50, 52, 58, 46]], 'after covariants pca': [[15, 49, 64, 73, 73, 69], [19, 32, 50, 52, 58, 46]], 'after invariants expansioner': 501, 'after invariants purifier': 501}\n",
      "\n",
      "\n",
      "block nu = 4 -> nu = 5 : {'after covariants expansioner': [[18, 39, 59, 64, 66, 54], [16, 40, 53, 61, 62, 54]], 'after covariants purifier': [[18, 39, 59, 64, 66, 54], [16, 40, 53, 61, 62, 54]], 'after covariants pca': [[18, 39, 59, 64, 66, 54], [16, 40, 53, 61, 62, 54]], 'after invariants expansioner': 513, 'after invariants purifier': 513}\n",
      "\n",
      "\n",
      "block nu = 5 -> nu = 6 : {'after invariants expansioner': 2980}\n",
      "\n",
      "\n"
     ]
    }
   ],
   "source": [
    "for key in intermediate_shapes.keys():\n",
    "    print(key, ':',  intermediate_shapes[key], end = '\\n\\n\\n')"
   ]
  },
  {
   "cell_type": "markdown",
   "metadata": {},
   "source": [
    "For next feature let's take some not so crazy parameters:"
   ]
  },
  {
   "cell_type": "code",
   "execution_count": 61,
   "metadata": {},
   "outputs": [
    {
     "name": "stdout",
     "output_type": "stream",
     "text": [
      "(10000, 10, 6, 11)\n"
     ]
    },
    {
     "name": "stderr",
     "output_type": "stream",
     "text": [
      "/home/pozdn/nice/nice/transformers/compressors.py:73: RuntimeWarning: given data is less than desired number of points to fit pca. Desired number of points to fit pca is 2000, while number of vectors is 1000, dimensionality of single vector (lambd + 1) is 1, i. e. total number of points is 1000. Number of pca components is 200\n",
      "  warnings.warn(\"given data is less than desired number of points to fit pca. Desired number of points to fit pca is {}, while number of vectors is {}, dimensionality of single vector (lambd + 1) is {}, i. e. total number of points is {}. Number of pca components is {}\".format(num_fit_now, data.covariants_.shape[0], (lambd + 1), data.covariants_.shape[0] * (lambd + 1), n_components_now), RuntimeWarning)\n",
      "/home/pozdn/nice/nice/transformers/compressors.py:73: RuntimeWarning: given data is less than desired number of points to fit pca. Desired number of points to fit pca is 2000, while number of vectors is 1000, dimensionality of single vector (lambd + 1) is 1, i. e. total number of points is 1000. Number of pca components is 200\n",
      "  warnings.warn(\"given data is less than desired number of points to fit pca. Desired number of points to fit pca is {}, while number of vectors is {}, dimensionality of single vector (lambd + 1) is {}, i. e. total number of points is {}. Number of pca components is {}\".format(num_fit_now, data.covariants_.shape[0], (lambd + 1), data.covariants_.shape[0] * (lambd + 1), n_components_now), RuntimeWarning)\n",
      "/home/pozdn/nice/nice/transformers/compressors.py:73: RuntimeWarning: given data is less than desired number of points to fit pca. Desired number of points to fit pca is 2000, while number of vectors is 1000, dimensionality of single vector (lambd + 1) is 1, i. e. total number of points is 1000. Number of pca components is 200\n",
      "  warnings.warn(\"given data is less than desired number of points to fit pca. Desired number of points to fit pca is {}, while number of vectors is {}, dimensionality of single vector (lambd + 1) is {}, i. e. total number of points is {}. Number of pca components is {}\".format(num_fit_now, data.covariants_.shape[0], (lambd + 1), data.covariants_.shape[0] * (lambd + 1), n_components_now), RuntimeWarning)\n"
     ]
    },
    {
     "name": "stdout",
     "output_type": "stream",
     "text": [
      "9.734970808029175\n"
     ]
    }
   ],
   "source": [
    "transformer = StandardSequence([StandardBlock(ThresholdExpansioner(500),\n",
    "                                             None,\n",
    "                                             IndividualLambdaPCAsBoth(200),\n",
    "                                             None,\n",
    "                                             None,\n",
    "                                             None),\n",
    "                                StandardBlock(ThresholdExpansioner(500),\n",
    "                                             CovariantsPurifierBoth(max_take = 20),\n",
    "                                             IndividualLambdaPCAsBoth(200),\n",
    "                                             None,\n",
    "                                             None,\n",
    "                                             None),\n",
    "                                StandardBlock(None,\n",
    "                                             None,\n",
    "                                             None,\n",
    "                                             ThresholdExpansioner(500, mode = 'invariants'),\n",
    "                                             None,\n",
    "                                             None),\n",
    "                                ])\n",
    "\n",
    "print(coefficients[6].shape)\n",
    "begin = time.time()\n",
    "transformer.fit(coefficients[6][0:1000])\n",
    "print(time.time() - begin)"
   ]
  },
  {
   "cell_type": "code",
   "execution_count": 62,
   "metadata": {},
   "outputs": [],
   "source": [
    "invariants_even = transformer.transform(coefficients[6][0:1000], return_only_invariants = True)"
   ]
  },
  {
   "cell_type": "markdown",
   "metadata": {},
   "source": [
    "One another feature - at the last step we have block which calculates a lot of invariants without pca and purifier. We can access its \"raw importances\" which are given by the multiplication of source covariants importances in the ThresholdExpansioner."
   ]
  },
  {
   "cell_type": "code",
   "execution_count": 63,
   "metadata": {},
   "outputs": [
    {
     "name": "stdout",
     "output_type": "stream",
     "text": [
      "(504,)\n",
      "(1000, 504)\n"
     ]
    }
   ],
   "source": [
    "raw_importances = transformer.blocks_[-1].invariants_expansioner_.new_even_raw_importances_\n",
    "print(raw_importances.shape)\n",
    "print(invariants_even[4].shape)"
   ]
  },
  {
   "cell_type": "markdown",
   "metadata": {},
   "source": [
    "Let's do the following plot - on the x axis sqrt of raw importances (since they are multiplication of importances, i. e. multiplication of previous variances), and on the y axis real variance:"
   ]
  },
  {
   "cell_type": "code",
   "execution_count": 64,
   "metadata": {},
   "outputs": [
    {
     "name": "stdout",
     "output_type": "stream",
     "text": [
      "(504,)\n"
     ]
    }
   ],
   "source": [
    "variances = np.mean(((invariants_even[4] - np.mean(invariants_even[4], axis= 0)) ** 2), axis = 0)\n",
    "print(variances.shape)"
   ]
  },
  {
   "cell_type": "code",
   "execution_count": 65,
   "metadata": {},
   "outputs": [
    {
     "data": {
      "text/plain": [
       "[<matplotlib.lines.Line2D at 0x2b2e66563080>]"
      ]
     },
     "execution_count": 65,
     "metadata": {},
     "output_type": "execute_result"
    },
    {
     "data": {
      "image/png": "[encoded data removed]",
      "text/plain": [
       "<Figure size 432x288 with 1 Axes>"
      ]
     },
     "metadata": {
      "needs_background": "light"
     },
     "output_type": "display_data"
    }
   ],
   "source": [
    "plt.plot(np.sqrt(raw_importances), variances, 'o')"
   ]
  },
  {
   "cell_type": "code",
   "execution_count": 66,
   "metadata": {},
   "outputs": [
    {
     "data": {
      "image/png": "[encoded data removed]",
      "text/plain": [
       "<Figure size 432x288 with 1 Axes>"
      ]
     },
     "metadata": {
      "needs_background": "light"
     },
     "output_type": "display_data"
    }
   ],
   "source": [
    "plt.plot(np.sqrt(raw_importances), variances, 'o')\n",
    "plt.xscale('log')\n",
    "plt.yscale('log')"
   ]
  },
  {
   "cell_type": "markdown",
   "metadata": {},
   "source": [
    "There is some correlation, thresholding works somehow. Raw importances can be used for example to do the countoplot of rmse depending on 1) number of invariants to calculate and 2) number of invariants to keep with pca in single run of StandardSequence - just calculate the maximum amount of invarinats in the last block, and after that choose invariants to be pca-ed in the order of decreasing raw importances. "
   ]
  },
  {
   "cell_type": "markdown",
   "metadata": {},
   "source": [
    "StandardSequence checks if some intermediate block doesn't return covariants with importances_ (i. e. covariants pca is necessary) and raises error in this case. "
   ]
  },
  {
   "cell_type": "code",
   "execution_count": 67,
   "metadata": {},
   "outputs": [
    {
     "ename": "ValueError",
     "evalue": "all intermediate standard blocks should calculate covariants",
     "output_type": "error",
     "traceback": [
      "\u001b[0;31m---------------------------------------------------------------------------\u001b[0m",
      "\u001b[0;31mValueError\u001b[0m                                Traceback (most recent call last)",
      "\u001b[0;32m<ipython-input-67-6ca1f7beea64>\u001b[0m in \u001b[0;36m<module>\u001b[0;34m\u001b[0m\n\u001b[1;32m     12\u001b[0m                                              \u001b[0mThresholdExpansioner\u001b[0m\u001b[0;34m(\u001b[0m\u001b[0;36m500\u001b[0m\u001b[0;34m,\u001b[0m \u001b[0mmode\u001b[0m \u001b[0;34m=\u001b[0m \u001b[0;34m'invariants'\u001b[0m\u001b[0;34m)\u001b[0m\u001b[0;34m,\u001b[0m\u001b[0;34m\u001b[0m\u001b[0;34m\u001b[0m\u001b[0m\n\u001b[1;32m     13\u001b[0m                                              \u001b[0;32mNone\u001b[0m\u001b[0;34m,\u001b[0m\u001b[0;34m\u001b[0m\u001b[0;34m\u001b[0m\u001b[0m\n\u001b[0;32m---> 14\u001b[0;31m                                              InvariantsPCA(200)),\n\u001b[0m\u001b[1;32m     15\u001b[0m                                 ])\n",
      "\u001b[0;32m~/nice/nice/transformers/grouping.py\u001b[0m in \u001b[0;36m__init__\u001b[0;34m(self, blocks, initial_pca, guaranteed_parts_fitted_consistently)\u001b[0m\n\u001b[1;32m    166\u001b[0m         \u001b[0;32mfor\u001b[0m \u001b[0mi\u001b[0m \u001b[0;32min\u001b[0m \u001b[0mrange\u001b[0m\u001b[0;34m(\u001b[0m\u001b[0mlen\u001b[0m\u001b[0;34m(\u001b[0m\u001b[0mself\u001b[0m\u001b[0;34m.\u001b[0m\u001b[0mblocks_\u001b[0m\u001b[0;34m)\u001b[0m \u001b[0;34m-\u001b[0m \u001b[0;36m1\u001b[0m\u001b[0;34m)\u001b[0m\u001b[0;34m:\u001b[0m\u001b[0;34m\u001b[0m\u001b[0;34m\u001b[0m\u001b[0m\n\u001b[1;32m    167\u001b[0m             \u001b[0;32mif\u001b[0m \u001b[0;32mnot\u001b[0m \u001b[0mself\u001b[0m\u001b[0;34m.\u001b[0m\u001b[0mblocks_\u001b[0m\u001b[0;34m[\u001b[0m\u001b[0mi\u001b[0m\u001b[0;34m]\u001b[0m\u001b[0;34m.\u001b[0m\u001b[0mhigher_body_orders_possible_\u001b[0m\u001b[0;34m:\u001b[0m\u001b[0;34m\u001b[0m\u001b[0;34m\u001b[0m\u001b[0m\n\u001b[0;32m--> 168\u001b[0;31m                 \u001b[0;32mraise\u001b[0m \u001b[0mValueError\u001b[0m\u001b[0;34m(\u001b[0m\u001b[0;34m\"all intermediate standard blocks should calculate covariants\"\u001b[0m\u001b[0;34m)\u001b[0m\u001b[0;34m\u001b[0m\u001b[0;34m\u001b[0m\u001b[0m\n\u001b[0m\u001b[1;32m    169\u001b[0m         \u001b[0mself\u001b[0m\u001b[0;34m.\u001b[0m\u001b[0minitial_transformer_\u001b[0m \u001b[0;34m=\u001b[0m \u001b[0mInitialTransformer\u001b[0m\u001b[0;34m(\u001b[0m\u001b[0;34m)\u001b[0m\u001b[0;34m\u001b[0m\u001b[0;34m\u001b[0m\u001b[0m\n\u001b[1;32m    170\u001b[0m         \u001b[0mself\u001b[0m\u001b[0;34m.\u001b[0m\u001b[0mfitted_\u001b[0m \u001b[0;34m=\u001b[0m \u001b[0mguaranteed_parts_fitted_consistently\u001b[0m \u001b[0;32mand\u001b[0m \u001b[0mcheck_if_all_fitted\u001b[0m\u001b[0;34m(\u001b[0m\u001b[0mblocks\u001b[0m \u001b[0;34m+\u001b[0m \u001b[0;34m[\u001b[0m\u001b[0mself\u001b[0m\u001b[0;34m.\u001b[0m\u001b[0minitial_pca_\u001b[0m\u001b[0;34m,\u001b[0m \u001b[0mself\u001b[0m\u001b[0;34m.\u001b[0m\u001b[0minitial_transformer_\u001b[0m\u001b[0;34m]\u001b[0m\u001b[0;34m)\u001b[0m\u001b[0;34m\u001b[0m\u001b[0;34m\u001b[0m\u001b[0m\n",
      "\u001b[0;31mValueError\u001b[0m: all intermediate standard blocks should calculate covariants"
     ]
    }
   ],
   "source": [
    "from sklearn.linear_model import Ridge, Lasso, Lars, LassoLars\n",
    "\n",
    "transformer = StandardSequence([StandardBlock(None,\n",
    "                                             None,\n",
    "                                             None,\n",
    "                                             ThresholdExpansioner(500, mode = 'invariants'),\n",
    "                                             None,\n",
    "                                             None),\n",
    "                                StandardBlock(ThresholdExpansioner(100),\n",
    "                                             CovariantsPurifierBoth(max_take = 10),\n",
    "                                             IndividualLambdaPCAsBoth(75),\n",
    "                                             ThresholdExpansioner(500, mode = 'invariants'),\n",
    "                                             None,\n",
    "                                             InvariantsPCA(200)),\n",
    "                                ])\n"
   ]
  },
  {
   "cell_type": "code",
   "execution_count": 68,
   "metadata": {},
   "outputs": [
    {
     "ename": "ValueError",
     "evalue": "all intermediate standard blocks should calculate covariants",
     "output_type": "error",
     "traceback": [
      "\u001b[0;31m---------------------------------------------------------------------------\u001b[0m",
      "\u001b[0;31mValueError\u001b[0m                                Traceback (most recent call last)",
      "\u001b[0;32m<ipython-input-68-8b6d6a6d6f57>\u001b[0m in \u001b[0;36m<module>\u001b[0;34m\u001b[0m\n\u001b[1;32m     12\u001b[0m                                              \u001b[0mThresholdExpansioner\u001b[0m\u001b[0;34m(\u001b[0m\u001b[0;36m500\u001b[0m\u001b[0;34m,\u001b[0m \u001b[0mmode\u001b[0m \u001b[0;34m=\u001b[0m \u001b[0;34m'invariants'\u001b[0m\u001b[0;34m)\u001b[0m\u001b[0;34m,\u001b[0m\u001b[0;34m\u001b[0m\u001b[0;34m\u001b[0m\u001b[0m\n\u001b[1;32m     13\u001b[0m                                              \u001b[0;32mNone\u001b[0m\u001b[0;34m,\u001b[0m\u001b[0;34m\u001b[0m\u001b[0;34m\u001b[0m\u001b[0m\n\u001b[0;32m---> 14\u001b[0;31m                                              InvariantsPCA(200)),\n\u001b[0m\u001b[1;32m     15\u001b[0m                                 ])\n",
      "\u001b[0;32m~/nice/nice/transformers/grouping.py\u001b[0m in \u001b[0;36m__init__\u001b[0;34m(self, blocks, initial_pca, guaranteed_parts_fitted_consistently)\u001b[0m\n\u001b[1;32m    166\u001b[0m         \u001b[0;32mfor\u001b[0m \u001b[0mi\u001b[0m \u001b[0;32min\u001b[0m \u001b[0mrange\u001b[0m\u001b[0;34m(\u001b[0m\u001b[0mlen\u001b[0m\u001b[0;34m(\u001b[0m\u001b[0mself\u001b[0m\u001b[0;34m.\u001b[0m\u001b[0mblocks_\u001b[0m\u001b[0;34m)\u001b[0m \u001b[0;34m-\u001b[0m \u001b[0;36m1\u001b[0m\u001b[0;34m)\u001b[0m\u001b[0;34m:\u001b[0m\u001b[0;34m\u001b[0m\u001b[0;34m\u001b[0m\u001b[0m\n\u001b[1;32m    167\u001b[0m             \u001b[0;32mif\u001b[0m \u001b[0;32mnot\u001b[0m \u001b[0mself\u001b[0m\u001b[0;34m.\u001b[0m\u001b[0mblocks_\u001b[0m\u001b[0;34m[\u001b[0m\u001b[0mi\u001b[0m\u001b[0;34m]\u001b[0m\u001b[0;34m.\u001b[0m\u001b[0mhigher_body_orders_possible_\u001b[0m\u001b[0;34m:\u001b[0m\u001b[0;34m\u001b[0m\u001b[0;34m\u001b[0m\u001b[0m\n\u001b[0;32m--> 168\u001b[0;31m                 \u001b[0;32mraise\u001b[0m \u001b[0mValueError\u001b[0m\u001b[0;34m(\u001b[0m\u001b[0;34m\"all intermediate standard blocks should calculate covariants\"\u001b[0m\u001b[0;34m)\u001b[0m\u001b[0;34m\u001b[0m\u001b[0;34m\u001b[0m\u001b[0m\n\u001b[0m\u001b[1;32m    169\u001b[0m         \u001b[0mself\u001b[0m\u001b[0;34m.\u001b[0m\u001b[0minitial_transformer_\u001b[0m \u001b[0;34m=\u001b[0m \u001b[0mInitialTransformer\u001b[0m\u001b[0;34m(\u001b[0m\u001b[0;34m)\u001b[0m\u001b[0;34m\u001b[0m\u001b[0;34m\u001b[0m\u001b[0m\n\u001b[1;32m    170\u001b[0m         \u001b[0mself\u001b[0m\u001b[0;34m.\u001b[0m\u001b[0mfitted_\u001b[0m \u001b[0;34m=\u001b[0m \u001b[0mguaranteed_parts_fitted_consistently\u001b[0m \u001b[0;32mand\u001b[0m \u001b[0mcheck_if_all_fitted\u001b[0m\u001b[0;34m(\u001b[0m\u001b[0mblocks\u001b[0m \u001b[0;34m+\u001b[0m \u001b[0;34m[\u001b[0m\u001b[0mself\u001b[0m\u001b[0;34m.\u001b[0m\u001b[0minitial_pca_\u001b[0m\u001b[0;34m,\u001b[0m \u001b[0mself\u001b[0m\u001b[0;34m.\u001b[0m\u001b[0minitial_transformer_\u001b[0m\u001b[0;34m]\u001b[0m\u001b[0;34m)\u001b[0m\u001b[0;34m\u001b[0m\u001b[0;34m\u001b[0m\u001b[0m\n",
      "\u001b[0;31mValueError\u001b[0m: all intermediate standard blocks should calculate covariants"
     ]
    }
   ],
   "source": [
    "from sklearn.linear_model import Ridge, Lasso, Lars, LassoLars\n",
    "\n",
    "transformer = StandardSequence([StandardBlock(ThresholdExpansioner(100),\n",
    "                                             None,\n",
    "                                             None,\n",
    "                                             ThresholdExpansioner(500, mode = 'invariants'),\n",
    "                                             None,\n",
    "                                             None),\n",
    "                                StandardBlock(ThresholdExpansioner(100),\n",
    "                                             CovariantsPurifierBoth(max_take = 10),\n",
    "                                             IndividualLambdaPCAsBoth(75),\n",
    "                                             ThresholdExpansioner(500, mode = 'invariants'),\n",
    "                                             None,\n",
    "                                             InvariantsPCA(200)),\n",
    "                                ])\n"
   ]
  },
  {
   "cell_type": "markdown",
   "metadata": {},
   "source": [
    "## Custom regressors into purifiers"
   ]
  },
  {
   "cell_type": "markdown",
   "metadata": {},
   "source": [
    "Let's say we need some regressor which is not listed in sklearn.linear_model. Not a problem we can implement it ourselves. Let's say we need purifier based on Ridge, which would determine best alpha by the cross validation on the training set:"
   ]
  },
  {
   "cell_type": "code",
   "execution_count": 69,
   "metadata": {},
   "outputs": [],
   "source": [
    "from sklearn.model_selection import cross_val_predict\n",
    "\n",
    "class AdaptiveRidge:\n",
    "    def __init__(self):\n",
    "        pass\n",
    "    \n",
    "    def fit(self, X, y):\n",
    "        minimum = None\n",
    "        self.best_alpha_ = None\n",
    "        for alpha in np.logspace(-25, 10, 300):\n",
    "            clf = Ridge(alpha = alpha, fit_intercept = False)\n",
    "            predictions = cross_val_predict(clf, X, y)            \n",
    "            now = np.mean((predictions - y) ** 2)\n",
    "            if (minimum is None) or (now < minimum):\n",
    "                minimum = now\n",
    "                self.best_alpha_ = alpha\n",
    "            \n",
    "        self.ridge_ = Ridge(alpha = self.best_alpha_, fit_intercept = False)\n",
    "        self.ridge_.fit(X, y)\n",
    "        \n",
    "    def predict(self, X):\n",
    "        return self.ridge_.predict(X)\n",
    "    \n",
    "    def get_params(self, deep=True):        \n",
    "        return {}\n",
    "\n",
    "    def set_params(self, **parameters):\n",
    "        for parameter, value in parameters.items():\n",
    "            setattr(self, parameter, value)\n",
    "        return self"
   ]
  },
  {
   "cell_type": "markdown",
   "metadata": {},
   "source": [
    "It has two additonal methods get_params and set_params. It is because my implementation is based on sklearn.base.clone function (https://scikit-learn.org/stable/modules/generated/sklearn.base.clone.html). And thus all classes should obey some requirements to make it work. See section cloning here https://scikit-learn.org/stable/developers/develop.html. \n",
    "\n",
    "Let's run it:"
   ]
  },
  {
   "cell_type": "code",
   "execution_count": 70,
   "metadata": {},
   "outputs": [
    {
     "name": "stderr",
     "output_type": "stream",
     "text": [
      "/home/pozdn/nice/nice/transformers/compressors.py:73: RuntimeWarning: given data is less than desired number of points to fit pca. Desired number of points to fit pca is 150, while number of vectors is 100, dimensionality of single vector (lambd + 1) is 1, i. e. total number of points is 100. Number of pca components is 15\n",
      "  warnings.warn(\"given data is less than desired number of points to fit pca. Desired number of points to fit pca is {}, while number of vectors is {}, dimensionality of single vector (lambd + 1) is {}, i. e. total number of points is {}. Number of pca components is {}\".format(num_fit_now, data.covariants_.shape[0], (lambd + 1), data.covariants_.shape[0] * (lambd + 1), n_components_now), RuntimeWarning)\n",
      "/home/pozdn/nice/nice/transformers/purifiers.py:121: UserWarning: Amount of provided data is less than the desired one to fit InvariantsPurifer. Number of old features is 20, desired number of data points is 200, actual number of data points (n_env * (l + 1)) is 100, since number of environments is 100, and l is 0\n",
      "  warnings.warn(\"Amount of provided data is less than the desired one to fit InvariantsPurifer. Number of old features is {}, desired number of data points is {}, actual number of data points (n_env * (l + 1)) is {}, since number of environments is {}, and l is {}\".format(total_num, num_fit_now, new_block.shape[0] * (l + 1), new_block.shape[0], l))\n",
      "/home/pozdn/nice/nice/transformers/compressors.py:73: RuntimeWarning: given data is less than desired number of points to fit pca. Desired number of points to fit pca is 750, while number of vectors is 100, dimensionality of single vector (lambd + 1) is 1, i. e. total number of points is 100. Number of pca components is 75\n",
      "  warnings.warn(\"given data is less than desired number of points to fit pca. Desired number of points to fit pca is {}, while number of vectors is {}, dimensionality of single vector (lambd + 1) is {}, i. e. total number of points is {}. Number of pca components is {}\".format(num_fit_now, data.covariants_.shape[0], (lambd + 1), data.covariants_.shape[0] * (lambd + 1), n_components_now), RuntimeWarning)\n",
      "/home/pozdn/nice/nice/transformers/compressors.py:73: RuntimeWarning: given data is less than desired number of points to fit pca. Desired number of points to fit pca is 375, while number of vectors is 100, dimensionality of single vector (lambd + 1) is 2, i. e. total number of points is 200. Number of pca components is 75\n",
      "  warnings.warn(\"given data is less than desired number of points to fit pca. Desired number of points to fit pca is {}, while number of vectors is {}, dimensionality of single vector (lambd + 1) is {}, i. e. total number of points is {}. Number of pca components is {}\".format(num_fit_now, data.covariants_.shape[0], (lambd + 1), data.covariants_.shape[0] * (lambd + 1), n_components_now), RuntimeWarning)\n",
      "/home/pozdn/nice/nice/transformers/compressors.py:73: RuntimeWarning: given data is less than desired number of points to fit pca. Desired number of points to fit pca is 750, while number of vectors is 100, dimensionality of single vector (lambd + 1) is 1, i. e. total number of points is 100. Number of pca components is 75\n",
      "  warnings.warn(\"given data is less than desired number of points to fit pca. Desired number of points to fit pca is {}, while number of vectors is {}, dimensionality of single vector (lambd + 1) is {}, i. e. total number of points is {}. Number of pca components is {}\".format(num_fit_now, data.covariants_.shape[0], (lambd + 1), data.covariants_.shape[0] * (lambd + 1), n_components_now), RuntimeWarning)\n",
      "/home/pozdn/nice/nice/transformers/compressors.py:73: RuntimeWarning: given data is less than desired number of points to fit pca. Desired number of points to fit pca is 375, while number of vectors is 100, dimensionality of single vector (lambd + 1) is 2, i. e. total number of points is 200. Number of pca components is 75\n",
      "  warnings.warn(\"given data is less than desired number of points to fit pca. Desired number of points to fit pca is {}, while number of vectors is {}, dimensionality of single vector (lambd + 1) is {}, i. e. total number of points is {}. Number of pca components is {}\".format(num_fit_now, data.covariants_.shape[0], (lambd + 1), data.covariants_.shape[0] * (lambd + 1), n_components_now), RuntimeWarning)\n",
      "/home/pozdn/nice/nice/transformers/compressors.py:142: UserWarning: Amount of provided data is less than the desired one to fit PCA. Number of components is 50, desired number of environments is 500, actual number of environments is 100\n",
      "  warnings.warn(\"Amount of provided data is less than the desired one to fit PCA. Number of components is {}, desired number of environments is {}, actual number of environments is {}\".format(self.n_components, num_fit_now, X.shape[0]))\n"
     ]
    },
    {
     "name": "stdout",
     "output_type": "stream",
     "text": [
      "25.03704047203064\n",
      "0.10017728805541992\n"
     ]
    }
   ],
   "source": [
    "from scipy.linalg import LinAlgWarning\n",
    "transformer = StandardSequence([StandardBlock(ThresholdExpansioner(100),\n",
    "                                             None,\n",
    "                                             IndividualLambdaPCAsBoth(15),\n",
    "                                             ThresholdExpansioner(500, mode = 'invariants'),\n",
    "                                             None,\n",
    "                                             None),\n",
    "                                StandardBlock(ThresholdExpansioner(100),\n",
    "                                             CovariantsPurifierBoth(regressor = AdaptiveRidge(), max_take = 10),\n",
    "                                             IndividualLambdaPCAsBoth(75),\n",
    "                                             ThresholdExpansioner(500, mode = 'invariants'),\n",
    "                                             None,\n",
    "                                             InvariantsPCA(50)),\n",
    "                                ])\n",
    "begin = time.time()\n",
    "\n",
    "with warnings.catch_warnings():\n",
    "    warnings.filterwarnings(\"ignore\", category= LinAlgWarning)   #a lot of ill conditioned matrices with super small alpha \n",
    "    transformer.fit(coefficients[6][0:100])\n",
    "    \n",
    "print(time.time() - begin)\n",
    "begin = time.time()\n",
    "res = transformer.transform(coefficients[6][0:100])\n",
    "print(time.time() - begin)"
   ]
  },
  {
   "cell_type": "markdown",
   "metadata": {},
   "source": [
    "Fitting takes a lot of time, but prediction is still okay. Let's look at the resulting best alpha:"
   ]
  },
  {
   "cell_type": "code",
   "execution_count": 71,
   "metadata": {},
   "outputs": [
    {
     "name": "stdout",
     "output_type": "stream",
     "text": [
      "even  0 0.015040335536380345\n",
      "even  1 0.0004523956232538058\n",
      "odd  1 0.17012542798525995\n",
      "even  2 0.011486842567375548\n",
      "odd  2 0.019693113379074298\n",
      "even  3 0.04420637972028548\n",
      "odd  3 0.00511717300711461\n",
      "even  4 0.002279604637318982\n",
      "odd  4 0.025785243528842764\n",
      "even  5 0.025785243528842764\n",
      "odd  5 2.3874067718606566e-07\n"
     ]
    }
   ],
   "source": [
    "for lambd in range(6):\n",
    "    if (transformer.blocks_[1].covariants_purifier_.even_purifier_.purifiers_[lambd]):\n",
    "        print(\"even \", lambd, transformer.blocks_[1].covariants_purifier_.even_purifier_.purifiers_[lambd].regressor_.best_alpha_)\n",
    "    if (transformer.blocks_[1].covariants_purifier_.odd_purifier_.purifiers_[lambd]):\n",
    "        print(\"odd \", lambd, transformer.blocks_[1].covariants_purifier_.odd_purifier_.purifiers_[lambd].regressor_.best_alpha_)"
   ]
  },
  {
   "cell_type": "markdown",
   "metadata": {},
   "source": [
    "It is inconvenient to access them, but it is not designed to, and it is not expected that users would do it often.  For properties such as explained_variance_ in the pca I am planing to add getters"
   ]
  },
  {
   "cell_type": "markdown",
   "metadata": {},
   "source": [
    "## Sequential fitting"
   ]
  },
  {
   "cell_type": "markdown",
   "metadata": {},
   "source": [
    "It may be usefull to fit blocks sequentially, deciding which hypers to take for the next block based on the results of previous block. After that we would like to pack blocks into the StandardSequence to have convenient transform method. Let's do it:"
   ]
  },
  {
   "cell_type": "code",
   "execution_count": 72,
   "metadata": {},
   "outputs": [],
   "source": [
    "even_0, odd_0 = InitialTransformer().transform(coefficients[6][0:100])"
   ]
  },
  {
   "cell_type": "code",
   "execution_count": 73,
   "metadata": {},
   "outputs": [],
   "source": [
    "initial_pca = IndividualLambdaPCAsBoth()\n",
    "initial_pca.fit(even_0, odd_0)\n",
    "even_0_t, odd_0_t = initial_pca.transform(even_0, odd_0)"
   ]
  },
  {
   "cell_type": "code",
   "execution_count": 74,
   "metadata": {},
   "outputs": [],
   "source": [
    "block_1 = StandardBlock(ThresholdExpansioner(100), None, IndividualLambdaPCAsBoth(20))"
   ]
  },
  {
   "cell_type": "code",
   "execution_count": 75,
   "metadata": {},
   "outputs": [
    {
     "name": "stderr",
     "output_type": "stream",
     "text": [
      "/home/pozdn/nice/nice/transformers/compressors.py:73: RuntimeWarning: given data is less than desired number of points to fit pca. Desired number of points to fit pca is 200, while number of vectors is 100, dimensionality of single vector (lambd + 1) is 1, i. e. total number of points is 100. Number of pca components is 20\n",
      "  warnings.warn(\"given data is less than desired number of points to fit pca. Desired number of points to fit pca is {}, while number of vectors is {}, dimensionality of single vector (lambd + 1) is {}, i. e. total number of points is {}. Number of pca components is {}\".format(num_fit_now, data.covariants_.shape[0], (lambd + 1), data.covariants_.shape[0] * (lambd + 1), n_components_now), RuntimeWarning)\n"
     ]
    }
   ],
   "source": [
    "block_1.fit(even_0_t, odd_0_t, even_0_t, odd_0_t)"
   ]
  },
  {
   "cell_type": "code",
   "execution_count": 76,
   "metadata": {},
   "outputs": [],
   "source": [
    "even_1, odd_1, _ = block_1.transform(even_0_t, odd_0_t, even_0_t, odd_0_t)"
   ]
  },
  {
   "cell_type": "code",
   "execution_count": 77,
   "metadata": {},
   "outputs": [],
   "source": [
    "block_2 = StandardBlock(None, None, None, ThresholdExpansioner(100, mode = 'invariants'))"
   ]
  },
  {
   "cell_type": "code",
   "execution_count": 78,
   "metadata": {},
   "outputs": [],
   "source": [
    "block_2.fit(even_1, odd_1, even_0_t, odd_0_t)"
   ]
  },
  {
   "cell_type": "code",
   "execution_count": 79,
   "metadata": {},
   "outputs": [],
   "source": [
    "_, _, even_invariants = block_2.transform(even_1, odd_1, even_0_t, odd_0_t)"
   ]
  },
  {
   "cell_type": "markdown",
   "metadata": {},
   "source": [
    "So, we have fitted all the parts, now let's construct StandardSequence:"
   ]
  },
  {
   "cell_type": "code",
   "execution_count": 80,
   "metadata": {},
   "outputs": [
    {
     "ename": "NotFittedError",
     "evalue": "instance of StandardSequence is not fitted. It can not transform anything",
     "output_type": "error",
     "traceback": [
      "\u001b[0;31m---------------------------------------------------------------------------\u001b[0m",
      "\u001b[0;31mNotFittedError\u001b[0m                            Traceback (most recent call last)",
      "\u001b[0;32m<ipython-input-80-d6225ef2aee8>\u001b[0m in \u001b[0;36m<module>\u001b[0;34m\u001b[0m\n\u001b[1;32m      1\u001b[0m \u001b[0mtrans\u001b[0m \u001b[0;34m=\u001b[0m \u001b[0mStandardSequence\u001b[0m\u001b[0;34m(\u001b[0m\u001b[0minitial_pca\u001b[0m\u001b[0;34m=\u001b[0m \u001b[0minitial_pca\u001b[0m\u001b[0;34m,\u001b[0m \u001b[0mblocks\u001b[0m \u001b[0;34m=\u001b[0m \u001b[0;34m[\u001b[0m\u001b[0mblock_1\u001b[0m\u001b[0;34m,\u001b[0m \u001b[0mblock_2\u001b[0m\u001b[0;34m]\u001b[0m\u001b[0;34m)\u001b[0m\u001b[0;34m\u001b[0m\u001b[0;34m\u001b[0m\u001b[0m\n\u001b[0;32m----> 2\u001b[0;31m \u001b[0m_\u001b[0m\u001b[0;34m,\u001b[0m \u001b[0m_\u001b[0m\u001b[0;34m,\u001b[0m \u001b[0meven_invariants_new\u001b[0m \u001b[0;34m=\u001b[0m \u001b[0mtrans\u001b[0m\u001b[0;34m.\u001b[0m\u001b[0mtransform\u001b[0m\u001b[0;34m(\u001b[0m\u001b[0mcoefficients\u001b[0m\u001b[0;34m[\u001b[0m\u001b[0;36m6\u001b[0m\u001b[0;34m]\u001b[0m\u001b[0;34m[\u001b[0m\u001b[0;36m0\u001b[0m\u001b[0;34m:\u001b[0m\u001b[0;36m100\u001b[0m\u001b[0;34m]\u001b[0m\u001b[0;34m)\u001b[0m\u001b[0;34m\u001b[0m\u001b[0;34m\u001b[0m\u001b[0m\n\u001b[0m",
      "\u001b[0;32m~/nice/nice/transformers/grouping.py\u001b[0m in \u001b[0;36mtransform\u001b[0;34m(self, coefficients, return_only_invariants)\u001b[0m\n\u001b[1;32m    222\u001b[0m     \u001b[0;32mdef\u001b[0m \u001b[0mtransform\u001b[0m\u001b[0;34m(\u001b[0m\u001b[0mself\u001b[0m\u001b[0;34m,\u001b[0m \u001b[0mcoefficients\u001b[0m\u001b[0;34m,\u001b[0m \u001b[0mreturn_only_invariants\u001b[0m \u001b[0;34m=\u001b[0m \u001b[0;32mFalse\u001b[0m\u001b[0;34m)\u001b[0m\u001b[0;34m:\u001b[0m\u001b[0;34m\u001b[0m\u001b[0;34m\u001b[0m\u001b[0m\n\u001b[1;32m    223\u001b[0m         \u001b[0;32mif\u001b[0m \u001b[0;34m(\u001b[0m\u001b[0;32mnot\u001b[0m \u001b[0mself\u001b[0m\u001b[0;34m.\u001b[0m\u001b[0mfitted_\u001b[0m\u001b[0;34m)\u001b[0m\u001b[0;34m:\u001b[0m\u001b[0;34m\u001b[0m\u001b[0;34m\u001b[0m\u001b[0m\n\u001b[0;32m--> 224\u001b[0;31m             \u001b[0;32mraise\u001b[0m \u001b[0mNotFittedError\u001b[0m\u001b[0;34m(\u001b[0m\u001b[0;34m\"instance of {} is not fitted. It can not transform anything\"\u001b[0m\u001b[0;34m.\u001b[0m\u001b[0mformat\u001b[0m\u001b[0;34m(\u001b[0m\u001b[0mtype\u001b[0m\u001b[0;34m(\u001b[0m\u001b[0mself\u001b[0m\u001b[0;34m)\u001b[0m\u001b[0;34m.\u001b[0m\u001b[0m__name__\u001b[0m\u001b[0;34m)\u001b[0m\u001b[0;34m)\u001b[0m\u001b[0;34m\u001b[0m\u001b[0;34m\u001b[0m\u001b[0m\n\u001b[0m\u001b[1;32m    225\u001b[0m         \u001b[0mdata_even_0\u001b[0m\u001b[0;34m,\u001b[0m \u001b[0mdata_odd_0\u001b[0m \u001b[0;34m=\u001b[0m \u001b[0mself\u001b[0m\u001b[0;34m.\u001b[0m\u001b[0minitial_transformer_\u001b[0m\u001b[0;34m.\u001b[0m\u001b[0mtransform\u001b[0m\u001b[0;34m(\u001b[0m\u001b[0mcoefficients\u001b[0m\u001b[0;34m)\u001b[0m\u001b[0;34m\u001b[0m\u001b[0;34m\u001b[0m\u001b[0m\n\u001b[1;32m    226\u001b[0m         \u001b[0mdata_even_0\u001b[0m\u001b[0;34m,\u001b[0m \u001b[0mdata_odd_0\u001b[0m \u001b[0;34m=\u001b[0m \u001b[0mself\u001b[0m\u001b[0;34m.\u001b[0m\u001b[0minitial_pca_\u001b[0m\u001b[0;34m.\u001b[0m\u001b[0mtransform\u001b[0m\u001b[0;34m(\u001b[0m\u001b[0mdata_even_0\u001b[0m\u001b[0;34m,\u001b[0m \u001b[0mdata_odd_0\u001b[0m\u001b[0;34m)\u001b[0m\u001b[0;34m\u001b[0m\u001b[0;34m\u001b[0m\u001b[0m\n",
      "\u001b[0;31mNotFittedError\u001b[0m: instance of StandardSequence is not fitted. It can not transform anything"
     ]
    }
   ],
   "source": [
    "trans = StandardSequence(initial_pca= initial_pca, blocks = [block_1, block_2])\n",
    "_, _, even_invariants_new = trans.transform(coefficients[6][0:100])"
   ]
  },
  {
   "cell_type": "markdown",
   "metadata": {},
   "source": [
    "Oops, it tells that it is not fitted. The issue is that we need to specify one additional parameter in the init -guaranteed_parts_fitted_consistently. It is done for the purpose to make user do such constructions responsibly, because at this point there are a lot of potential bugs, where we would construct StandardSequence from fitted parts, but from fitted inconsistently - i. e. Purifier fitted to purify nu = 10 covariants, and pca to compress nu = 7 covariants. \n",
    "\n",
    "StandardSequence is considered to be fitted if all parts are fitted and if guaranteed_parts_fitted_consistently set to be True"
   ]
  },
  {
   "cell_type": "code",
   "execution_count": 81,
   "metadata": {},
   "outputs": [],
   "source": [
    "trans = StandardSequence(initial_pca= initial_pca, blocks = [block_1, block_2], \n",
    "                         guaranteed_parts_fitted_consistently=True)\n",
    "_, _, even_invariants_new = trans.transform(coefficients[6][0:100])"
   ]
  },
  {
   "cell_type": "code",
   "execution_count": 82,
   "metadata": {},
   "outputs": [
    {
     "name": "stdout",
     "output_type": "stream",
     "text": [
      "dict_keys([1, 2, 3])\n"
     ]
    }
   ],
   "source": [
    "print(even_invariants_new.keys())"
   ]
  },
  {
   "cell_type": "code",
   "execution_count": 83,
   "metadata": {},
   "outputs": [
    {
     "name": "stdout",
     "output_type": "stream",
     "text": [
      "[ 2.01247343 -0.1257774  -0.16815822 -0.23461774 -0.0047428 ]\n",
      "[ 2.01247343 -0.1257774  -0.16815822 -0.23461774 -0.0047428 ]\n"
     ]
    }
   ],
   "source": [
    "print(even_invariants[0, 0:5])\n",
    "print(even_invariants_new[3][0, 0:5])"
   ]
  },
  {
   "cell_type": "markdown",
   "metadata": {},
   "source": [
    "The same is related to StandardBlock. It is considered as fitted if 1) all parts are fitted and 2) if guaranteed_parts_fitted_consistently set to be True"
   ]
  },
  {
   "cell_type": "markdown",
   "metadata": {},
   "source": [
    "It can also work in the other direction:"
   ]
  },
  {
   "cell_type": "code",
   "execution_count": 84,
   "metadata": {},
   "outputs": [],
   "source": [
    "initial_pca = IndividualLambdaPCAsBoth()\n",
    "block_1 = StandardBlock(ThresholdExpansioner(100), None, IndividualLambdaPCAsBoth(20))\n",
    "block_2 = StandardBlock(None, None, None, ThresholdExpansioner(100, mode = 'invariants'))"
   ]
  },
  {
   "cell_type": "code",
   "execution_count": 85,
   "metadata": {},
   "outputs": [
    {
     "name": "stdout",
     "output_type": "stream",
     "text": [
      "False\n",
      "False\n",
      "False\n"
     ]
    }
   ],
   "source": [
    "print(initial_pca.is_fitted())\n",
    "print(block_1.is_fitted())\n",
    "print(block_2.is_fitted())"
   ]
  },
  {
   "cell_type": "code",
   "execution_count": 86,
   "metadata": {},
   "outputs": [
    {
     "name": "stderr",
     "output_type": "stream",
     "text": [
      "/home/pozdn/nice/nice/transformers/compressors.py:73: RuntimeWarning: given data is less than desired number of points to fit pca. Desired number of points to fit pca is 200, while number of vectors is 100, dimensionality of single vector (lambd + 1) is 1, i. e. total number of points is 100. Number of pca components is 20\n",
      "  warnings.warn(\"given data is less than desired number of points to fit pca. Desired number of points to fit pca is {}, while number of vectors is {}, dimensionality of single vector (lambd + 1) is {}, i. e. total number of points is {}. Number of pca components is {}\".format(num_fit_now, data.covariants_.shape[0], (lambd + 1), data.covariants_.shape[0] * (lambd + 1), n_components_now), RuntimeWarning)\n"
     ]
    }
   ],
   "source": [
    "trans = StandardSequence(initial_pca = initial_pca, blocks = [block_1, block_2])\n",
    "trans.fit(coefficients[6][0:100])"
   ]
  },
  {
   "cell_type": "code",
   "execution_count": 87,
   "metadata": {},
   "outputs": [
    {
     "name": "stdout",
     "output_type": "stream",
     "text": [
      "True\n",
      "True\n",
      "True\n"
     ]
    }
   ],
   "source": [
    "print(initial_pca.is_fitted())\n",
    "print(block_1.is_fitted())\n",
    "print(block_2.is_fitted())"
   ]
  },
  {
   "cell_type": "markdown",
   "metadata": {},
   "source": [
    "But the other direction will not work in case of linear regressor passed to CovariantsPurifier and CovariantsPurifierBoth. Indeed, these classes need several different instances of linear regressor for different lambda chaneels. So they are based on sklearn.base.clone (https://scikit-learn.org/stable/modules/generated/sklearn.base.clone.html), and do not touch initial instance in any way. "
   ]
  },
  {
   "cell_type": "markdown",
   "metadata": {},
   "source": [
    "## Non standard sequence"
   ]
  },
  {
   "cell_type": "markdown",
   "metadata": {},
   "source": [
    "If we would like to go beyond standard nice sequence, we can always use expansioners, purifiers and compressors by our own. Let's go to nu = 1024 for example:"
   ]
  },
  {
   "cell_type": "code",
   "execution_count": 88,
   "metadata": {},
   "outputs": [
    {
     "name": "stderr",
     "output_type": "stream",
     "text": [
      "100%|██████████| 10/10 [00:14<00:00,  1.47s/it]\n"
     ]
    }
   ],
   "source": [
    "import tqdm\n",
    "data_even_1, data_odd_1  = InitialTransformer().transform(coefficients[6][0:1000])\n",
    "data_even_now, data_odd_now = data_even_1, data_odd_1\n",
    "\n",
    "with warnings.catch_warnings():\n",
    "    warnings.filterwarnings(\"ignore\", category=RuntimeWarning) # a lot of pca doesn't have enough data to fit\n",
    "    for _ in tqdm.tqdm(range(10)):        \n",
    "        pca = IndividualLambdaPCAsBoth(100)\n",
    "        pca.fit(data_even_now, data_odd_now)\n",
    "        data_even_now, data_odd_now  = pca.transform(data_even_now, data_odd_now)\n",
    "        expansioner = ThresholdExpansioner(500)\n",
    "        expansioner.fit(data_even_now, data_odd_now, data_even_now, data_odd_now, clebsch_gordan = clebsch)\n",
    "        data_even_now, data_odd_now = expansioner.transform(data_even_now, data_odd_now, data_even_now, data_odd_now)\n",
    "\n",
    "        # because of very high body order we observe numerical instabilities, \n",
    "        #and thus we need kind of normalize data on the fly:\n",
    "        for lambd in range(6):\n",
    "            if (data_even_now.actual_sizes_[lambd] > 0):\n",
    "                even_factor = np.sqrt(np.mean(data_even_now.covariants_[:, :data_even_now.actual_sizes_[lambd], lambd] ** 2))\n",
    "                if (even_factor > 1e-15): #catch exact zeros\n",
    "                    data_even_now.covariants_[:, :data_even_now.actual_sizes_[lambd], lambd] /= even_factor\n",
    "                   \n",
    "            if (data_odd_now.actual_sizes_[lambd] > 0):\n",
    "                odd_factor = np.sqrt(np.mean(data_odd_now.covariants_[:, :data_odd_now.actual_sizes_[lambd], lambd] ** 2))\n",
    "                if (odd_factor > 1e-15): #catch exact zeros\n",
    "                    data_odd_now.covariants_[:, :data_odd_now.actual_sizes_[lambd], lambd] /= odd_factor\n",
    "                    "
   ]
  },
  {
   "cell_type": "code",
   "execution_count": 89,
   "metadata": {},
   "outputs": [
    {
     "name": "stdout",
     "output_type": "stream",
     "text": [
      "(1000, 390, 6, 11)\n",
      "[ 69 207 321 380 390 349]\n",
      "[ 82 220 330 384 390 360]\n"
     ]
    }
   ],
   "source": [
    "print(data_even_now.covariants_.shape)\n",
    "print(data_even_now.actual_sizes_)\n",
    "print(data_odd_now.actual_sizes_)"
   ]
  },
  {
   "cell_type": "markdown",
   "metadata": {},
   "source": [
    "## Meet definition from the article"
   ]
  },
  {
   "cell_type": "markdown",
   "metadata": {},
   "source": [
    "Data even and data odd are defined in a such way that data even entirely remains constant under inversion, while data odd entirely changes the sign under inversion. In the article covariants with sigma = +1 are defined such a way that they transforms under inversion as (-1)^lambd, i. e. as true tensors, and covariants with sigma = -1 are defined such a way that they transforms as (-1)^(lambd + 1), i. e. as pseudo tensors. There is special class to change parity defintion:"
   ]
  },
  {
   "cell_type": "code",
   "execution_count": 90,
   "metadata": {},
   "outputs": [],
   "source": [
    "data_true, data_pseudo = ParityDefinitionChanger().transform(data_even_now, data_odd_now)"
   ]
  },
  {
   "cell_type": "code",
   "execution_count": 91,
   "metadata": {},
   "outputs": [
    {
     "name": "stdout",
     "output_type": "stream",
     "text": [
      "[ 69 220 321 384 390 360]\n",
      "[ 82 207 330 380 390 349]\n"
     ]
    }
   ],
   "source": [
    "print(data_true.actual_sizes_)\n",
    "print(data_pseudo.actual_sizes_)"
   ]
  },
  {
   "cell_type": "markdown",
   "metadata": {},
   "source": [
    "This transformation is symmetric, i. e. we can apply it once again to get odd and even datas from the true and pseudo:"
   ]
  },
  {
   "cell_type": "code",
   "execution_count": 92,
   "metadata": {},
   "outputs": [
    {
     "name": "stdout",
     "output_type": "stream",
     "text": [
      "[ 69 207 321 380 390 349]\n",
      "[ 82 220 330 384 390 360]\n"
     ]
    }
   ],
   "source": [
    "data_even, data_odd = ParityDefinitionChanger().transform(data_true, data_pseudo)\n",
    "print(data_even.actual_sizes_)\n",
    "print(data_odd.actual_sizes_)"
   ]
  },
  {
   "cell_type": "markdown",
   "metadata": {},
   "source": [
    "Let's check consistency:"
   ]
  },
  {
   "cell_type": "code",
   "execution_count": 93,
   "metadata": {},
   "outputs": [
    {
     "name": "stdout",
     "output_type": "stream",
     "text": [
      "0.0\n",
      "0.0\n",
      "0.0\n",
      "0.0\n",
      "0.0\n",
      "0.0\n",
      "0.0\n",
      "0.0\n",
      "0.0\n",
      "0.0\n",
      "0.0\n",
      "0.0\n"
     ]
    }
   ],
   "source": [
    "for lambd in range(6):\n",
    "    print(np.sum(np.abs(data_even.covariants_[:, 0:data_even.actual_sizes_[lambd], lambd, :(2 * lambd + 1)] - \\\n",
    "                        data_even_now.covariants_[:, 0:data_even.actual_sizes_[lambd], lambd, :(2 * lambd + 1)])))\n",
    "    \n",
    "for lambd in range(6):\n",
    "    print(np.sum(np.abs(data_odd.covariants_[:, 0:data_odd.actual_sizes_[lambd], lambd, :(2 * lambd + 1)] - \\\n",
    "                        data_odd_now.covariants_[:, 0:data_odd.actual_sizes_[lambd], lambd, :(2 * lambd + 1)])))"
   ]
  },
  {
   "cell_type": "markdown",
   "metadata": {},
   "source": [
    "And there is one another difference - in the article covariants are in the sqrt(2 * lambd + 1) less than the ones that we obtained.\n",
    "\n",
    "(in the code iterations in formula (4) are done without coefficient c_{k, lambd}. If one would unroll definition of this coefficient it would become clear that iteration in the formula (4) consist of 1) multiplying covariants by sqrt(2 * lambd + 1) 2) of iteration without this coefficient and 3) of division of the result by sqrt(2 * lambd + 1). I decided not to do this, because 1) it is additional unnecessary computational costs 2) this coefficient is not symmetric with respect to the inputs to the clebsch gordan iterations, and thus if I would apply this, expansioner would be able to do coupling of only v body order features and 1 body order features, not arbitrary v1 and v2. ). \n",
    "\n",
    "This exactly (up to machine arithmetic accuracy) doesn't change the results until importances which are used in the ThresholdExpansioner remains constant under the uniform scaling. In current implementation they are, since they are **normalized** variances. \n",
    "\n",
    "So, the last step is to do division:"
   ]
  },
  {
   "cell_type": "code",
   "execution_count": 94,
   "metadata": {},
   "outputs": [],
   "source": [
    "for lambd in range(6):\n",
    "    data_true.covariants_[:, :data_true.actual_sizes_[lambd], lambd, :(2 * lambd + 1)] /= (2 * lambd + 1)\n",
    "    data_pseudo.covariants_[:, :data_pseudo.actual_sizes_[lambd], lambd, :(2 * lambd + 1)] /= (2 * lambd + 1)"
   ]
  },
  {
   "cell_type": "code",
   "execution_count": null,
   "metadata": {},
   "outputs": [],
   "source": []
  }
 ],
 "metadata": {
  "kernelspec": {
   "display_name": "Python 3",
   "language": "python",
   "name": "python3"
  },
  "language_info": {
   "codemirror_mode": {
    "name": "ipython",
    "version": 3
   },
   "file_extension": ".py",
   "mimetype": "text/x-python",
   "name": "python",
   "nbconvert_exporter": "python",
   "pygments_lexer": "ipython3",
   "version": "3.6.10"
  }
 },
 "nbformat": 4,
 "nbformat_minor": 4
}
