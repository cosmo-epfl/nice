{
 "cells": [
  {
   "cell_type": "markdown",
   "metadata": {},
   "source": [
    "The purpose of this notebook is mainly to check the correctness of new real values spherical harmonics\n"
   ]
  },
  {
   "cell_type": "code",
   "execution_count": 1,
   "metadata": {},
   "outputs": [
    {
     "name": "stderr",
     "output_type": "stream",
     "text": [
      "/home/pozdn/.local/lib/python3.6/site-packages/Cython/Compiler/Main.py:369: FutureWarning: Cython directive 'language_level' not set, using 2 for now (Py2). This will change in a later release! File: /home/pozdn/methane_nice/collecting_standard_features/cleaned/naive.pyx\n",
      "  tree = Parsing.p_module(s, pxd, full_module_name)\n"
     ]
    }
   ],
   "source": [
    "import numpy as np\n",
    "import ase.io as ase_io\n",
    "from ase import Atoms\n",
    "\n",
    "import pyximport; pyximport.install()\n",
    "import nice_utilities\n",
    "import naive, radial_basis, spherical_coefficients, spherical_harmonics\n",
    "import ClebschGordan, test_utilities"
   ]
  },
  {
   "cell_type": "code",
   "execution_count": 2,
   "metadata": {},
   "outputs": [],
   "source": [
    "structure = ase_io.read('structures.xyz', index = '0:1')[0]"
   ]
  },
  {
   "cell_type": "code",
   "execution_count": 3,
   "metadata": {},
   "outputs": [
    {
     "name": "stdout",
     "output_type": "stream",
     "text": [
      "[[ 1.1957718   0.69582632 -1.5377768 ]\n",
      " [-0.07590599  1.04620262  1.95058034]\n",
      " [-1.10813614  1.91728119  1.81155538]\n",
      " [ 1.39764218 -0.98903322 -0.05350022]]\n"
     ]
    }
   ],
   "source": [
    "env = structure.positions[1:]\n",
    "print(env)"
   ]
  },
  {
   "cell_type": "code",
   "execution_count": 4,
   "metadata": {},
   "outputs": [],
   "source": [
    "clebsch = ClebschGordan.ClebschGordan(5)"
   ]
  },
  {
   "cell_type": "code",
   "execution_count": 5,
   "metadata": {},
   "outputs": [],
   "source": [
    "coef_calc = spherical_coefficients.SphericalCoefficientsCalculator(\n",
    "            5, 5, 5.0, radial_basis.simple_sin)"
   ]
  },
  {
   "cell_type": "code",
   "execution_count": 6,
   "metadata": {},
   "outputs": [
    {
     "name": "stdout",
     "output_type": "stream",
     "text": [
      "(5, 6, 11)\n"
     ]
    }
   ],
   "source": [
    "coefs = coef_calc.transform_single([np.array([0, 0, 0, 0]), np.array([0, 0, 0, 0]), env], 4, 1)[0]\n",
    "print(coefs.shape)"
   ]
  },
  {
   "cell_type": "code",
   "execution_count": 7,
   "metadata": {},
   "outputs": [
    {
     "name": "stdout",
     "output_type": "stream",
     "text": [
      "(90,)\n",
      "[0.57517046 0.25849786 0.73582562 1.77225341 0.83432825 1.61267425\n",
      " 0.19121661 0.03525373 0.05378041 0.4312143 ]\n"
     ]
    }
   ],
   "source": [
    "ps = naive.compute_powerspectrum(coefs, 5)\n",
    "print(ps.shape)\n",
    "print(ps[0:10])"
   ]
  },
  {
   "cell_type": "code",
   "execution_count": 8,
   "metadata": {},
   "outputs": [
    {
     "name": "stdout",
     "output_type": "stream",
     "text": [
      "5.362377208939506e-14\n",
      "6.670705654521214e-14\n",
      "4.0316708305176974e-14\n",
      "2.6700863742235015e-14\n",
      "1.7501625149130007e-14\n",
      "6.934557095217286e-14\n",
      "6.108308303609533e-14\n",
      "5.3463310167867206e-14\n",
      "6.110389971780705e-14\n",
      "2.447521352255677e-14\n"
     ]
    }
   ],
   "source": [
    "for _ in range(10):\n",
    "    rotated = test_utilities.rotate_env(env)\n",
    "    coefs_rotated = coef_calc.transform_single([np.array([0, 0, 0, 0]), np.array([0, 0, 0, 0]), rotated], 4, 1)[0]\n",
    "    ps_new = naive.compute_powerspectrum(coefs_rotated, 5)\n",
    "    print(np.sum(np.abs(ps - ps_new)))"
   ]
  },
  {
   "cell_type": "code",
   "execution_count": 10,
   "metadata": {},
   "outputs": [
    {
     "name": "stdout",
     "output_type": "stream",
     "text": [
      "(3885,)\n",
      "[ 6.16893026e-01  2.77249159e-01  7.89202027e-01  1.90081175e+00\n",
      "  8.94849983e-01  1.72965680e+00  2.77249159e-01 -1.60069877e-01\n",
      "  0.00000000e+00 -9.09055389e-02  7.04151277e-02  2.03287907e-18\n",
      "  4.95600036e-01 -4.18858479e-01  8.15320034e-17  3.70889818e-01\n",
      " -3.27094074e-01 -1.56125113e-17  1.35626988e-02 -1.22679227e-02]\n"
     ]
    }
   ],
   "source": [
    "bs = naive.compute_bispectrum(clebsch.precomputed, coefs, 5)\n",
    "\n",
    "print(bs.shape)\n",
    "print(bs[0:20])"
   ]
  },
  {
   "cell_type": "code",
   "execution_count": 12,
   "metadata": {},
   "outputs": [
    {
     "name": "stdout",
     "output_type": "stream",
     "text": [
      "1.023439408934905e-12\n",
      "9.29470101443086e-13\n",
      "1.0196575708703662e-12\n",
      "6.922870614825825e-13\n",
      "1.067886795578501e-12\n",
      "4.3503894047801785e-13\n",
      "8.098594270985655e-13\n",
      "5.681201250316441e-13\n",
      "8.967266233073137e-13\n",
      "2.797845978747842e-13\n"
     ]
    }
   ],
   "source": [
    "for _ in range(10):\n",
    "    bs = naive.compute_bispectrum(clebsch.precomputed, coefs, 5)\n",
    "    \n",
    "    rotated = test_utilities.rotate_env(env)\n",
    "    coefs_rotated = coef_calc.transform_single([np.array([0, 0, 0, 0]),np.array([0, 0, 0, 0]), rotated], 4, 1)[0]\n",
    "   \n",
    "    bs_new = naive.compute_bispectrum(clebsch.precomputed, coefs_rotated, 5)\n",
    "   \n",
    "    print(np.sum(np.abs(bs - bs_new)))\n",
    "    "
   ]
  },
  {
   "cell_type": "code",
   "execution_count": 15,
   "metadata": {},
   "outputs": [
    {
     "name": "stdout",
     "output_type": "stream",
     "text": [
      "97.4751609942672\n"
     ]
    }
   ],
   "source": [
    "for _ in range(1):\n",
    "    bs = naive.compute_bispectrum(clebsch.precomputed, coefs, 5)\n",
    "    \n",
    "    inverted = -env\n",
    "    coefs_inverted = coef_calc.transform_single([np.array([0, 0, 0, 0]),np.array([0, 0, 0, 0]), inverted], 4, 1)[0]\n",
    "   \n",
    "    bs_new = naive.compute_bispectrum(clebsch.precomputed, coefs_inverted, 5)\n",
    "   \n",
    "    print(np.sum(np.abs(bs - bs_new)))\n",
    "    "
   ]
  },
  {
   "cell_type": "code",
   "execution_count": 16,
   "metadata": {},
   "outputs": [
    {
     "name": "stdout",
     "output_type": "stream",
     "text": [
      "2.2128873982795588e-13\n"
     ]
    }
   ],
   "source": [
    "for _ in range(1):\n",
    "    bs = naive.compute_bispectrum(clebsch.precomputed, coefs, 5, only_even = True)\n",
    "    \n",
    "    inverted = -env\n",
    "    coefs_inverted = coef_calc.transform_single([np.array([0, 0, 0, 0]),np.array([0, 0, 0, 0]), inverted], 4, 1)[0]\n",
    "   \n",
    "    bs_new = naive.compute_bispectrum(clebsch.precomputed, coefs_inverted, 5, only_even = True)\n",
    "   \n",
    "    print(np.sum(np.abs(bs - bs_new)))\n",
    "    "
   ]
  },
  {
   "cell_type": "code",
   "execution_count": null,
   "metadata": {},
   "outputs": [],
   "source": []
  }
 ],
 "metadata": {
  "kernelspec": {
   "display_name": "Python 3",
   "language": "python",
   "name": "python3"
  },
  "language_info": {
   "codemirror_mode": {
    "name": "ipython",
    "version": 3
   },
   "file_extension": ".py",
   "mimetype": "text/x-python",
   "name": "python",
   "nbconvert_exporter": "python",
   "pygments_lexer": "ipython3",
   "version": "3.6.9"
  }
 },
 "nbformat": 4,
 "nbformat_minor": 4
}
