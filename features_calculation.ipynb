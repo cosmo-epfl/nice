{
 "cells": [
  {
   "cell_type": "code",
   "execution_count": 1,
   "metadata": {},
   "outputs": [],
   "source": [
    "import sys\n",
    "sys.path.insert(0, '../')\n",
    "import numpy as np\n",
    "import ase.io as ase_io\n",
    "from ase import Atoms\n",
    "import tqdm\n",
    "from pathos.multiprocessing import ProcessingPool as Pool\n",
    "\n",
    "\n",
    "import pyximport; pyximport.install()\n",
    "import nice_utilities\n",
    "import naive, radial_basis, spherical_coefficients, spherical_harmonics, convert_rascal_coefficients\n",
    "from convert_rascal_coefficients import convert_rascal_coefficients, normalize_by_ps\n",
    "import ClebschGordan, test_utilities"
   ]
  },
  {
   "cell_type": "code",
   "execution_count": null,
   "metadata": {},
   "outputs": [],
   "source": []
  },
  {
   "cell_type": "code",
   "execution_count": 2,
   "metadata": {},
   "outputs": [],
   "source": [
    "def process_structures(structures):\n",
    "    for structure in structures: \n",
    "        structure.cell =[120, 120, 120]\n",
    "        structure.positions += np.asarray((60,60,60))\n",
    "        structure.pbc=True\n",
    "        structure.wrap()"
   ]
  },
  {
   "cell_type": "code",
   "execution_count": 3,
   "metadata": {},
   "outputs": [],
   "source": [
    "structures = ase_io.read('../structures.xyz', index = ':100000')\n",
    "process_structures(structures)"
   ]
  },
  {
   "cell_type": "code",
   "execution_count": 4,
   "metadata": {},
   "outputs": [],
   "source": [
    "R_CUT = 6.3\n",
    "\n",
    "N_MAX = 9\n",
    "L_MAX = 9\n"
   ]
  },
  {
   "cell_type": "code",
   "execution_count": 5,
   "metadata": {},
   "outputs": [],
   "source": [
    "import rascal\n",
    "from rascal.representations import SphericalInvariants as SOAP\n",
    "from rascal.representations import SphericalExpansion as SPH\n",
    "from rascal.neighbourlist.structure_manager import (\n",
    "        mask_center_atoms_by_species, mask_center_atoms_by_id)\n",
    "\n",
    "\n",
    "    \n",
    "    \n",
    "def get_rascal_coefficients(structures, r_cut, n_max, l_max, n_types, normalize = True):\n",
    "    HYPERS = {\n",
    "    'interaction_cutoff': r_cut,\n",
    "    'max_radial': n_max,\n",
    "    'max_angular': l_max,\n",
    "    'gaussian_sigma_constant': 0.05,\n",
    "    'gaussian_sigma_type': 'Constant',\n",
    "    'cutoff_smooth_width': 0.3,\n",
    "    'radial_basis': 'GTO',\n",
    "    #'expansion_by_species_method' : 'environment wise'\n",
    "    }\n",
    "   \n",
    "    \n",
    "    sph = SPH(**HYPERS)\n",
    "    feat = sph.transform(structures).get_features(sph)\n",
    "    res = convert_rascal_coefficients(feat, n_max, n_types, l_max)\n",
    "    \n",
    "    if (normalize):\n",
    "        normalize_by_ps(res)\n",
    "    return np.array(res)"
   ]
  },
  {
   "cell_type": "code",
   "execution_count": 6,
   "metadata": {},
   "outputs": [],
   "source": [
    "def get_rascal_coefficients_parallelized(p, structures, r_cut, n_max, l_max, n_types,\n",
    "                                         normalize = True, task_size = 100):\n",
    "    \n",
    "    tasks = []\n",
    "    for i in range(0, len(structures), task_size):\n",
    "        tasks.append([structures[i : i + task_size], r_cut, n_max, l_max, n_types, normalize])\n",
    "        \n",
    "    def wrapped(task):\n",
    "        return get_rascal_coefficients(*task)\n",
    "    \n",
    "    result = [res for res in tqdm.tqdm(p.imap(wrapped, tasks), total = len(tasks))]\n",
    "    return np.concatenate(result, axis = 0)\n",
    "    "
   ]
  },
  {
   "cell_type": "code",
   "execution_count": null,
   "metadata": {},
   "outputs": [],
   "source": []
  },
  {
   "cell_type": "code",
   "execution_count": 7,
   "metadata": {},
   "outputs": [
    {
     "name": "stderr",
     "output_type": "stream",
     "text": [
      "Process ForkPoolWorker-26:\n",
      "Process ForkPoolWorker-33:\n",
      "Process ForkPoolWorker-22:\n",
      "Process ForkPoolWorker-12:\n",
      "Process ForkPoolWorker-9:\n",
      "Process ForkPoolWorker-42:\n",
      "Process ForkPoolWorker-1:\n",
      "Process ForkPoolWorker-17:\n",
      "Process ForkPoolWorker-29:\n",
      "Process ForkPoolWorker-3:\n",
      "Process ForkPoolWorker-30:\n",
      "Process ForkPoolWorker-31:\n",
      "Process ForkPoolWorker-24:\n",
      "Process ForkPoolWorker-19:\n",
      "Process ForkPoolWorker-43:\n",
      "Process ForkPoolWorker-40:\n",
      "Process ForkPoolWorker-14:\n",
      "Process ForkPoolWorker-6:\n",
      "Process ForkPoolWorker-25:\n",
      "Process ForkPoolWorker-8:\n",
      "Process ForkPoolWorker-44:\n",
      "Process ForkPoolWorker-11:\n",
      "Process ForkPoolWorker-38:\n",
      "Process ForkPoolWorker-21:\n",
      "Process ForkPoolWorker-36:\n",
      "Process ForkPoolWorker-39:\n",
      "Process ForkPoolWorker-28:\n",
      "Process ForkPoolWorker-7:\n",
      "Process ForkPoolWorker-23:\n",
      "Process ForkPoolWorker-10:\n",
      "Process ForkPoolWorker-20:\n",
      "Process ForkPoolWorker-35:\n",
      "Process ForkPoolWorker-16:\n",
      "Process ForkPoolWorker-18:\n",
      "Process ForkPoolWorker-27:\n",
      "Process ForkPoolWorker-4:\n",
      "Process ForkPoolWorker-5:\n",
      "Process ForkPoolWorker-45:\n",
      "Process ForkPoolWorker-34:\n",
      "Process ForkPoolWorker-41:\n",
      "Process ForkPoolWorker-37:\n",
      "Process ForkPoolWorker-15:\n",
      "Process ForkPoolWorker-13:\n",
      "Process ForkPoolWorker-2:\n",
      "Process ForkPoolWorker-32:\n",
      "Traceback (most recent call last):\n",
      "Traceback (most recent call last):\n",
      "Traceback (most recent call last):\n",
      "Traceback (most recent call last):\n",
      "Traceback (most recent call last):\n",
      "Traceback (most recent call last):\n",
      "Traceback (most recent call last):\n",
      "Traceback (most recent call last):\n",
      "Traceback (most recent call last):\n",
      "Traceback (most recent call last):\n",
      "Traceback (most recent call last):\n",
      "Traceback (most recent call last):\n",
      "Traceback (most recent call last):\n",
      "Traceback (most recent call last):\n",
      "Traceback (most recent call last):\n",
      "Traceback (most recent call last):\n",
      "Traceback (most recent call last):\n",
      "Traceback (most recent call last):\n",
      "Traceback (most recent call last):\n",
      "Traceback (most recent call last):\n",
      "Traceback (most recent call last):\n",
      "Traceback (most recent call last):\n",
      "Traceback (most recent call last):\n",
      "Traceback (most recent call last):\n",
      "Traceback (most recent call last):\n",
      "Traceback (most recent call last):\n",
      "Traceback (most recent call last):\n",
      "Traceback (most recent call last):\n",
      "Traceback (most recent call last):\n",
      "  File \"/home/pozdn/.local/lib/python3.6/site-packages/multiprocess/process.py\", line 258, in _bootstrap\n",
      "    self.run()\n",
      "Traceback (most recent call last):\n",
      "Traceback (most recent call last):\n",
      "  File \"/home/pozdn/.local/lib/python3.6/site-packages/multiprocess/process.py\", line 258, in _bootstrap\n",
      "    self.run()\n",
      "Traceback (most recent call last):\n",
      "Traceback (most recent call last):\n",
      "Traceback (most recent call last):\n",
      "Traceback (most recent call last):\n",
      "  File \"/home/pozdn/.local/lib/python3.6/site-packages/multiprocess/process.py\", line 258, in _bootstrap\n",
      "    self.run()\n",
      "Traceback (most recent call last):\n",
      "  File \"/home/pozdn/.local/lib/python3.6/site-packages/multiprocess/process.py\", line 258, in _bootstrap\n",
      "    self.run()\n",
      "  File \"/home/pozdn/.local/lib/python3.6/site-packages/multiprocess/process.py\", line 258, in _bootstrap\n",
      "    self.run()\n",
      "  File \"/home/pozdn/.local/lib/python3.6/site-packages/multiprocess/process.py\", line 258, in _bootstrap\n",
      "    self.run()\n",
      "  File \"/home/pozdn/.local/lib/python3.6/site-packages/multiprocess/process.py\", line 258, in _bootstrap\n",
      "    self.run()\n",
      "  File \"/home/pozdn/.local/lib/python3.6/site-packages/multiprocess/process.py\", line 258, in _bootstrap\n",
      "    self.run()\n",
      "  File \"/home/pozdn/.local/lib/python3.6/site-packages/multiprocess/process.py\", line 258, in _bootstrap\n",
      "    self.run()\n",
      "  File \"/home/pozdn/.local/lib/python3.6/site-packages/multiprocess/process.py\", line 258, in _bootstrap\n",
      "    self.run()\n",
      "  File \"/home/pozdn/.local/lib/python3.6/site-packages/multiprocess/process.py\", line 258, in _bootstrap\n",
      "    self.run()\n",
      "  File \"/home/pozdn/.local/lib/python3.6/site-packages/multiprocess/process.py\", line 258, in _bootstrap\n",
      "    self.run()\n",
      "  File \"/home/pozdn/.local/lib/python3.6/site-packages/multiprocess/process.py\", line 258, in _bootstrap\n",
      "    self.run()\n",
      "  File \"/home/pozdn/.local/lib/python3.6/site-packages/multiprocess/process.py\", line 93, in run\n",
      "    self._target(*self._args, **self._kwargs)\n",
      "  File \"/home/pozdn/.local/lib/python3.6/site-packages/multiprocess/process.py\", line 258, in _bootstrap\n",
      "    self.run()\n",
      "  File \"/home/pozdn/.local/lib/python3.6/site-packages/multiprocess/process.py\", line 258, in _bootstrap\n",
      "    self.run()\n",
      "  File \"/home/pozdn/.local/lib/python3.6/site-packages/multiprocess/process.py\", line 258, in _bootstrap\n",
      "    self.run()\n",
      "  File \"/home/pozdn/.local/lib/python3.6/site-packages/multiprocess/process.py\", line 258, in _bootstrap\n",
      "    self.run()\n",
      "Traceback (most recent call last):\n",
      "  File \"/home/pozdn/.local/lib/python3.6/site-packages/multiprocess/process.py\", line 258, in _bootstrap\n",
      "    self.run()\n",
      "  File \"/home/pozdn/.local/lib/python3.6/site-packages/multiprocess/process.py\", line 258, in _bootstrap\n",
      "    self.run()\n",
      "  File \"/home/pozdn/.local/lib/python3.6/site-packages/multiprocess/process.py\", line 258, in _bootstrap\n",
      "    self.run()\n",
      "  File \"/home/pozdn/.local/lib/python3.6/site-packages/multiprocess/process.py\", line 93, in run\n",
      "    self._target(*self._args, **self._kwargs)\n",
      "Traceback (most recent call last):\n"
     ]
    }
   ],
   "source": [
    "p = Pool(45)"
   ]
  },
  {
   "cell_type": "code",
   "execution_count": 8,
   "metadata": {},
   "outputs": [
    {
     "name": "stderr",
     "output_type": "stream",
     "text": [
      "100%|██████████| 1000/1000 [01:20<00:00, 12.45it/s]\n"
     ]
    },
    {
     "name": "stdout",
     "output_type": "stream",
     "text": [
      "(500000, 18, 10, 19)\n",
      "(100000, 5, 18, 10, 19)\n"
     ]
    }
   ],
   "source": [
    "coefficients = get_rascal_coefficients_parallelized(p, structures, R_CUT, N_MAX, L_MAX, 2)\n",
    "print(coefficients.shape)\n",
    "coefficients = np.reshape(coefficients, [len(structures), -1, coefficients.shape[1],\n",
    "                                         coefficients.shape[2], coefficients.shape[3]])\n",
    "print(coefficients.shape)"
   ]
  },
  {
   "cell_type": "code",
   "execution_count": 9,
   "metadata": {},
   "outputs": [],
   "source": [
    "def get_powerspectrums_paralellized(p, coefficients, l_max):\n",
    "    def get_powerspectrum(coefficients):   \n",
    "        now = []\n",
    "        for j in range(coefficients.shape[0]):\n",
    "            now.append(naive.compute_powerspectrum(coefficients[j], l_max))\n",
    "        return np.array(now)\n",
    "    \n",
    "    res = [el for el in tqdm.tqdm(p.imap(get_powerspectrum, coefficients), total = coefficients.shape[0])]\n",
    "    return np.concatenate(res, axis = 0)"
   ]
  },
  {
   "cell_type": "code",
   "execution_count": 10,
   "metadata": {},
   "outputs": [
    {
     "name": "stderr",
     "output_type": "stream",
     "text": [
      "100%|██████████| 100000/100000 [02:11<00:00, 762.13it/s]\n"
     ]
    },
    {
     "name": "stdout",
     "output_type": "stream",
     "text": [
      "(500000, 1710)\n"
     ]
    }
   ],
   "source": [
    "powerspectrums = get_powerspectrums_paralellized(p, coefficients, L_MAX)\n",
    "print(powerspectrums.shape)"
   ]
  },
  {
   "cell_type": "code",
   "execution_count": 11,
   "metadata": {},
   "outputs": [
    {
     "name": "stdout",
     "output_type": "stream",
     "text": [
      "(100000, 5, 1710)\n"
     ]
    }
   ],
   "source": [
    "powerspectrums = np.reshape(powerspectrums, [len(structures), 5, -1])\n",
    "print(powerspectrums.shape)"
   ]
  },
  {
   "cell_type": "code",
   "execution_count": 12,
   "metadata": {},
   "outputs": [],
   "source": [
    "import pickle\n",
    "np.save(\"ps_9_9_train\", powerspectrums)"
   ]
  },
  {
   "cell_type": "code",
   "execution_count": 8,
   "metadata": {},
   "outputs": [],
   "source": [
    "N_MAX = 5\n",
    "L_MAX = 5"
   ]
  },
  {
   "cell_type": "code",
   "execution_count": 14,
   "metadata": {},
   "outputs": [
    {
     "name": "stderr",
     "output_type": "stream",
     "text": [
      "100%|██████████| 1000/1000 [00:56<00:00, 17.75it/s]\n",
      "  0%|          | 217/100000 [00:00<00:46, 2155.37it/s]"
     ]
    },
    {
     "name": "stdout",
     "output_type": "stream",
     "text": [
      "(500000, 10, 6, 11)\n",
      "(100000, 5, 10, 6, 11)\n"
     ]
    },
    {
     "name": "stderr",
     "output_type": "stream",
     "text": [
      "100%|██████████| 100000/100000 [01:00<00:00, 1665.45it/s]\n"
     ]
    },
    {
     "name": "stdout",
     "output_type": "stream",
     "text": [
      "(100000, 5, 330)\n",
      "(100000, 5, 330)\n"
     ]
    }
   ],
   "source": [
    "coefficients = get_rascal_coefficients_parallelized(p, structures, R_CUT, N_MAX, L_MAX, 2)\n",
    "print(coefficients.shape)\n",
    "coefficients = np.reshape(coefficients, [len(structures), -1, coefficients.shape[1],\n",
    "                                         coefficients.shape[2], coefficients.shape[3]])\n",
    "print(coefficients.shape)\n",
    "\n",
    "\n",
    "powerspectrums = []\n",
    "for i in tqdm.tqdm(range(coefficients.shape[0])):\n",
    "    now = []\n",
    "    for j in range(coefficients.shape[1]):\n",
    "        now.append(naive.compute_powerspectrum(coefficients[i, j], L_MAX))\n",
    "    powerspectrums.append(now)\n",
    "powerspectrums = np.array(powerspectrums)\n",
    "print(powerspectrums.shape)\n",
    "powerspectrums = np.reshape(powerspectrums, [len(structures), 5, -1])\n",
    "print(powerspectrums.shape)\n",
    "\n",
    "import pickle\n",
    "with open(\"ps_5_5_train\", \"wb\") as f:\n",
    "    pickle.dump(powerspectrums, f)"
   ]
  },
  {
   "cell_type": "code",
   "execution_count": 9,
   "metadata": {},
   "outputs": [
    {
     "name": "stderr",
     "output_type": "stream",
     "text": [
      "100%|██████████| 1000/1000 [01:03<00:00, 15.71it/s]\n"
     ]
    },
    {
     "name": "stdout",
     "output_type": "stream",
     "text": [
      "(500000, 10, 6, 11)\n",
      "(100000, 5, 10, 6, 11)\n"
     ]
    }
   ],
   "source": [
    "coefficients = get_rascal_coefficients_parallelized(p, structures, R_CUT, N_MAX, L_MAX, 2)\n",
    "print(coefficients.shape)\n",
    "coefficients = np.reshape(coefficients, [len(structures), -1, coefficients.shape[1],\n",
    "                                         coefficients.shape[2], coefficients.shape[3]])\n",
    "print(coefficients.shape)"
   ]
  },
  {
   "cell_type": "code",
   "execution_count": 10,
   "metadata": {},
   "outputs": [],
   "source": [
    "clebsch = ClebschGordan.ClebschGordan(L_MAX)"
   ]
  },
  {
   "cell_type": "code",
   "execution_count": 11,
   "metadata": {},
   "outputs": [
    {
     "name": "stdout",
     "output_type": "stream",
     "text": [
      "5\n"
     ]
    }
   ],
   "source": [
    "print(L_MAX)"
   ]
  },
  {
   "cell_type": "code",
   "execution_count": 12,
   "metadata": {},
   "outputs": [],
   "source": [
    "clebsch = ClebschGordan.ClebschGordan(L_MAX)\n",
    "def get_bispectrums(task):\n",
    "    clebsch, coefficients = task\n",
    "    now = []\n",
    "    for j in range(coefficients.shape[0]):\n",
    "        now.append(naive.compute_bispectrum(clebsch.precomputed, coefficients[j], 5, only_even = True))\n",
    "    return np.array(now)"
   ]
  },
  {
   "cell_type": "code",
   "execution_count": 13,
   "metadata": {},
   "outputs": [],
   "source": [
    "tasks = [[clebsch, coeff] for coeff in coefficients]"
   ]
  },
  {
   "cell_type": "code",
   "execution_count": 14,
   "metadata": {},
   "outputs": [
    {
     "name": "stderr",
     "output_type": "stream",
     "text": [
      "100%|██████████| 100000/100000 [11:30<00:00, 144.86it/s]\n"
     ]
    },
    {
     "name": "stdout",
     "output_type": "stream",
     "text": [
      "(100000, 5, 15180)\n",
      "(100000, 5, 15180)\n"
     ]
    }
   ],
   "source": [
    "bispectrums = []\n",
    "for res in tqdm.tqdm(p.imap(get_bispectrums, tasks), total = len(structures)):\n",
    "    bispectrums.append(res)\n",
    "bispectrums = np.array(bispectrums)\n",
    "print(bispectrums.shape)\n",
    "bispectrums = np.reshape(bispectrums, [len(structures), 5, -1])\n",
    "print(bispectrums.shape)\n"
   ]
  },
  {
   "cell_type": "code",
   "execution_count": 23,
   "metadata": {},
   "outputs": [
    {
     "name": "stdout",
     "output_type": "stream",
     "text": [
      "(100000, 5, 15180)\n"
     ]
    }
   ],
   "source": [
    "print(bispectrums.shape)"
   ]
  },
  {
   "cell_type": "code",
   "execution_count": 16,
   "metadata": {},
   "outputs": [],
   "source": [
    "def normalize_per_env(features):\n",
    "    self_kernels = np.sum(features * features, axis = 2)\n",
    "    return features / np.sqrt(self_kernels[:, :, np.newaxis])"
   ]
  },
  {
   "cell_type": "code",
   "execution_count": 17,
   "metadata": {},
   "outputs": [],
   "source": [
    "bispectrums = normalize_per_env(bispectrums)"
   ]
  },
  {
   "cell_type": "code",
   "execution_count": 18,
   "metadata": {},
   "outputs": [
    {
     "name": "stdout",
     "output_type": "stream",
     "text": [
      "1\n"
     ]
    }
   ],
   "source": [
    "print(1)"
   ]
  },
  {
   "cell_type": "code",
   "execution_count": 19,
   "metadata": {},
   "outputs": [],
   "source": [
    "from sklearn.decomposition import PCA"
   ]
  },
  {
   "cell_type": "code",
   "execution_count": 20,
   "metadata": {},
   "outputs": [
    {
     "name": "stdout",
     "output_type": "stream",
     "text": [
      "(100000, 15180)\n"
     ]
    }
   ],
   "source": [
    "c_envs = bispectrums[:, 0, :]\n",
    "print(c_envs.shape)"
   ]
  },
  {
   "cell_type": "code",
   "execution_count": 21,
   "metadata": {},
   "outputs": [],
   "source": [
    "import time"
   ]
  },
  {
   "cell_type": "code",
   "execution_count": 24,
   "metadata": {},
   "outputs": [
    {
     "name": "stdout",
     "output_type": "stream",
     "text": [
      "148.56111693382263\n"
     ]
    }
   ],
   "source": [
    "begin = time.time()\n",
    "c_pca = PCA(n_components = 2000)\n",
    "c_pca.fit(c_envs[0:30000])\n",
    "print(time.time() - begin)"
   ]
  },
  {
   "cell_type": "code",
   "execution_count": 26,
   "metadata": {},
   "outputs": [],
   "source": [
    "import pickle\n",
    "with open(\"c_pca\", \"wb\") as f:\n",
    "    pickle.dump(c_pca, f)"
   ]
  },
  {
   "cell_type": "code",
   "execution_count": 27,
   "metadata": {},
   "outputs": [
    {
     "name": "stdout",
     "output_type": "stream",
     "text": [
      "(30000, 15180)\n"
     ]
    }
   ],
   "source": [
    "h_envs = np.concatenate(bispectrums[:7500, 1:, :], axis = 0)\n",
    "print(h_envs.shape)"
   ]
  },
  {
   "cell_type": "code",
   "execution_count": 28,
   "metadata": {},
   "outputs": [
    {
     "name": "stdout",
     "output_type": "stream",
     "text": [
      "145.00989151000977\n"
     ]
    }
   ],
   "source": [
    "begin = time.time()\n",
    "h_pca = PCA(n_components = 2000)\n",
    "h_pca.fit(h_envs)\n",
    "print(time.time() - begin)"
   ]
  },
  {
   "cell_type": "code",
   "execution_count": 30,
   "metadata": {},
   "outputs": [],
   "source": [
    "with open(\"h_pca\", \"wb\") as f:\n",
    "    pickle.dump(h_pca, f)"
   ]
  },
  {
   "cell_type": "code",
   "execution_count": 33,
   "metadata": {},
   "outputs": [],
   "source": [
    "def transform(bispectrums):\n",
    "    c_envs = bispectrums[:, 0, :]\n",
    "    c_envs_transformed = c_pca.transform(c_envs)\n",
    "    h_envs = np.concatenate(bispectrums[:, 1:, :], axis = 0)\n",
    "    h_envs_transformed = h_pca.transform(h_envs)\n",
    "    print(c_envs_transformed.shape)\n",
    "    print(h_envs_transformed.shape)\n",
    "    h_envs_transformed = h_envs_transformed.reshape([bispectrums.shape[0], 4, -1])\n",
    "    print(h_envs_transformed.shape)\n",
    "    bispectrums_transformed = np.concatenate([c_envs_transformed[:, np.newaxis, :], h_envs_transformed], axis = 1)\n",
    "    print(bispectrums_transformed.shape)\n",
    "    return bispectrums_transformed"
   ]
  },
  {
   "cell_type": "code",
   "execution_count": null,
   "metadata": {},
   "outputs": [],
   "source": []
  },
  {
   "cell_type": "code",
   "execution_count": null,
   "metadata": {},
   "outputs": [],
   "source": []
  },
  {
   "cell_type": "code",
   "execution_count": null,
   "metadata": {},
   "outputs": [],
   "source": []
  },
  {
   "cell_type": "code",
   "execution_count": 34,
   "metadata": {},
   "outputs": [
    {
     "name": "stdout",
     "output_type": "stream",
     "text": [
      "(50000, 2000)\n",
      "(200000, 2000)\n",
      "(50000, 4, 2000)\n",
      "(50000, 5, 2000)\n"
     ]
    }
   ],
   "source": [
    "bispectrums_transformed = transform(bispectrums[0:50000])\n",
    "np.save(\"bs_5_5_train_1.npy\", bispectrums_transformed)"
   ]
  },
  {
   "cell_type": "code",
   "execution_count": null,
   "metadata": {},
   "outputs": [],
   "source": [
    "bispectrums_transformed = transform(bispectrums[50000:100000])\n",
    "np.save(\"bs_5_5_train_2.npy\", bispectrums_transformed)"
   ]
  },
  {
   "cell_type": "code",
   "execution_count": 2,
   "metadata": {},
   "outputs": [],
   "source": [
    "import numpy as np"
   ]
  },
  {
   "cell_type": "code",
   "execution_count": 3,
   "metadata": {},
   "outputs": [
    {
     "name": "stdout",
     "output_type": "stream",
     "text": [
      "(100000, 5, 2000)\n"
     ]
    }
   ],
   "source": [
    "first = np.load(\"bs_5_5_train_1.npy\")\n",
    "second = np.load(\"bs_5_5_train_2.npy\")\n",
    "result  = np.concatenate([first, second], axis = 0)\n",
    "print(result.shape)\n",
    "np.save('bs_5_5_train.npy', result)"
   ]
  },
  {
   "cell_type": "code",
   "execution_count": null,
   "metadata": {},
   "outputs": [],
   "source": []
  }
 ],
 "metadata": {
  "kernelspec": {
   "display_name": "Python 3",
   "language": "python",
   "name": "python3"
  },
  "language_info": {
   "codemirror_mode": {
    "name": "ipython",
    "version": 3
   },
   "file_extension": ".py",
   "mimetype": "text/x-python",
   "name": "python",
   "nbconvert_exporter": "python",
   "pygments_lexer": "ipython3",
   "version": "3.6.9"
  }
 },
 "nbformat": 4,
 "nbformat_minor": 4
}
