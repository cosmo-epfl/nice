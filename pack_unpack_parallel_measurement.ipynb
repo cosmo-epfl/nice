{
 "cells": [
  {
   "cell_type": "code",
   "execution_count": 1,
   "metadata": {},
   "outputs": [
    {
     "name": "stdout",
     "output_type": "stream",
     "text": [
      "running build_ext\n",
      "building 'nice.naive' extension\n",
      "creating build\n",
      "creating build/temp.linux-x86_64-3.6\n",
      "creating build/temp.linux-x86_64-3.6/nice\n",
      "x86_64-linux-gnu-gcc -pthread -DNDEBUG -g -fwrapv -O2 -Wall -g -fstack-protector-strong -Wformat -Werror=format-security -Wdate-time -D_FORTIFY_SOURCE=2 -fPIC -I/usr/include/python3.6m -c nice/naive.c -o build/temp.linux-x86_64-3.6/nice/naive.o -O3 -fopenmp\n",
      "creating build/lib.linux-x86_64-3.6\n",
      "creating build/lib.linux-x86_64-3.6/nice\n",
      "x86_64-linux-gnu-gcc -pthread -shared -Wl,-O1 -Wl,-Bsymbolic-functions -Wl,-Bsymbolic-functions -Wl,-z,relro -Wl,-Bsymbolic-functions -Wl,-z,relro -g -fstack-protector-strong -Wformat -Werror=format-security -Wdate-time -D_FORTIFY_SOURCE=2 build/temp.linux-x86_64-3.6/nice/naive.o -o build/lib.linux-x86_64-3.6/nice/naive.cpython-36m-x86_64-linux-gnu.so -fopenmp\n",
      "building 'nice.nice_utilities' extension\n",
      "x86_64-linux-gnu-gcc -pthread -DNDEBUG -g -fwrapv -O2 -Wall -g -fstack-protector-strong -Wformat -Werror=format-security -Wdate-time -D_FORTIFY_SOURCE=2 -fPIC -I/usr/include/python3.6m -c nice/nice_utilities.c -o build/temp.linux-x86_64-3.6/nice/nice_utilities.o -O3 -fopenmp\n",
      "x86_64-linux-gnu-gcc -pthread -shared -Wl,-O1 -Wl,-Bsymbolic-functions -Wl,-Bsymbolic-functions -Wl,-z,relro -Wl,-Bsymbolic-functions -Wl,-z,relro -g -fstack-protector-strong -Wformat -Werror=format-security -Wdate-time -D_FORTIFY_SOURCE=2 build/temp.linux-x86_64-3.6/nice/nice_utilities.o -o build/lib.linux-x86_64-3.6/nice/nice_utilities.cpython-36m-x86_64-linux-gnu.so -fopenmp\n",
      "building 'nice.packing' extension\n",
      "x86_64-linux-gnu-gcc -pthread -DNDEBUG -g -fwrapv -O2 -Wall -g -fstack-protector-strong -Wformat -Werror=format-security -Wdate-time -D_FORTIFY_SOURCE=2 -fPIC -I/usr/include/python3.6m -c nice/packing.c -o build/temp.linux-x86_64-3.6/nice/packing.o -O3 -fopenmp\n",
      "x86_64-linux-gnu-gcc -pthread -shared -Wl,-O1 -Wl,-Bsymbolic-functions -Wl,-Bsymbolic-functions -Wl,-z,relro -Wl,-Bsymbolic-functions -Wl,-z,relro -g -fstack-protector-strong -Wformat -Werror=format-security -Wdate-time -D_FORTIFY_SOURCE=2 build/temp.linux-x86_64-3.6/nice/packing.o -o build/lib.linux-x86_64-3.6/nice/packing.cpython-36m-x86_64-linux-gnu.so -fopenmp\n",
      "building 'nice.radial_basis' extension\n",
      "x86_64-linux-gnu-gcc -pthread -DNDEBUG -g -fwrapv -O2 -Wall -g -fstack-protector-strong -Wformat -Werror=format-security -Wdate-time -D_FORTIFY_SOURCE=2 -fPIC -I/usr/include/python3.6m -c nice/radial_basis.c -o build/temp.linux-x86_64-3.6/nice/radial_basis.o -O3 -fopenmp\n",
      "x86_64-linux-gnu-gcc -pthread -shared -Wl,-O1 -Wl,-Bsymbolic-functions -Wl,-Bsymbolic-functions -Wl,-z,relro -Wl,-Bsymbolic-functions -Wl,-z,relro -g -fstack-protector-strong -Wformat -Werror=format-security -Wdate-time -D_FORTIFY_SOURCE=2 build/temp.linux-x86_64-3.6/nice/radial_basis.o -o build/lib.linux-x86_64-3.6/nice/radial_basis.cpython-36m-x86_64-linux-gnu.so -fopenmp\n",
      "building 'nice.rascal_coefficients' extension\n",
      "x86_64-linux-gnu-gcc -pthread -DNDEBUG -g -fwrapv -O2 -Wall -g -fstack-protector-strong -Wformat -Werror=format-security -Wdate-time -D_FORTIFY_SOURCE=2 -fPIC -I/usr/include/python3.6m -c nice/rascal_coefficients.c -o build/temp.linux-x86_64-3.6/nice/rascal_coefficients.o -O3 -fopenmp\n",
      "x86_64-linux-gnu-gcc -pthread -shared -Wl,-O1 -Wl,-Bsymbolic-functions -Wl,-Bsymbolic-functions -Wl,-z,relro -Wl,-Bsymbolic-functions -Wl,-z,relro -g -fstack-protector-strong -Wformat -Werror=format-security -Wdate-time -D_FORTIFY_SOURCE=2 build/temp.linux-x86_64-3.6/nice/rascal_coefficients.o -o build/lib.linux-x86_64-3.6/nice/rascal_coefficients.cpython-36m-x86_64-linux-gnu.so -fopenmp\n",
      "building 'nice.spherical_coefficients' extension\n",
      "x86_64-linux-gnu-gcc -pthread -DNDEBUG -g -fwrapv -O2 -Wall -g -fstack-protector-strong -Wformat -Werror=format-security -Wdate-time -D_FORTIFY_SOURCE=2 -fPIC -I/usr/include/python3.6m -c nice/spherical_coefficients.c -o build/temp.linux-x86_64-3.6/nice/spherical_coefficients.o -O3 -fopenmp\n",
      "x86_64-linux-gnu-gcc -pthread -shared -Wl,-O1 -Wl,-Bsymbolic-functions -Wl,-Bsymbolic-functions -Wl,-z,relro -Wl,-Bsymbolic-functions -Wl,-z,relro -g -fstack-protector-strong -Wformat -Werror=format-security -Wdate-time -D_FORTIFY_SOURCE=2 build/temp.linux-x86_64-3.6/nice/spherical_coefficients.o -o build/lib.linux-x86_64-3.6/nice/spherical_coefficients.cpython-36m-x86_64-linux-gnu.so -fopenmp\n",
      "building 'nice.spherical_harmonics' extension\n",
      "x86_64-linux-gnu-gcc -pthread -DNDEBUG -g -fwrapv -O2 -Wall -g -fstack-protector-strong -Wformat -Werror=format-security -Wdate-time -D_FORTIFY_SOURCE=2 -fPIC -I/usr/include/python3.6m -c nice/spherical_harmonics.c -o build/temp.linux-x86_64-3.6/nice/spherical_harmonics.o -O3 -fopenmp\n",
      "x86_64-linux-gnu-gcc -pthread -shared -Wl,-O1 -Wl,-Bsymbolic-functions -Wl,-Bsymbolic-functions -Wl,-z,relro -Wl,-Bsymbolic-functions -Wl,-z,relro -g -fstack-protector-strong -Wformat -Werror=format-security -Wdate-time -D_FORTIFY_SOURCE=2 build/temp.linux-x86_64-3.6/nice/spherical_harmonics.o -o build/lib.linux-x86_64-3.6/nice/spherical_harmonics.cpython-36m-x86_64-linux-gnu.so -fopenmp\n",
      "building 'nice.test_parallel' extension\n",
      "x86_64-linux-gnu-gcc -pthread -DNDEBUG -g -fwrapv -O2 -Wall -g -fstack-protector-strong -Wformat -Werror=format-security -Wdate-time -D_FORTIFY_SOURCE=2 -fPIC -I/usr/include/python3.6m -c nice/test_parallel.c -o build/temp.linux-x86_64-3.6/nice/test_parallel.o -O3 -fopenmp\n",
      "x86_64-linux-gnu-gcc -pthread -shared -Wl,-O1 -Wl,-Bsymbolic-functions -Wl,-Bsymbolic-functions -Wl,-z,relro -Wl,-Bsymbolic-functions -Wl,-z,relro -g -fstack-protector-strong -Wformat -Werror=format-security -Wdate-time -D_FORTIFY_SOURCE=2 build/temp.linux-x86_64-3.6/nice/test_parallel.o -o build/lib.linux-x86_64-3.6/nice/test_parallel.cpython-36m-x86_64-linux-gnu.so -fopenmp\n",
      "building 'nice.thresholding' extension\n",
      "x86_64-linux-gnu-gcc -pthread -DNDEBUG -g -fwrapv -O2 -Wall -g -fstack-protector-strong -Wformat -Werror=format-security -Wdate-time -D_FORTIFY_SOURCE=2 -fPIC -I/usr/include/python3.6m -c nice/thresholding.c -o build/temp.linux-x86_64-3.6/nice/thresholding.o -O3 -fopenmp\n",
      "x86_64-linux-gnu-gcc -pthread -shared -Wl,-O1 -Wl,-Bsymbolic-functions -Wl,-Bsymbolic-functions -Wl,-z,relro -Wl,-Bsymbolic-functions -Wl,-z,relro -g -fstack-protector-strong -Wformat -Werror=format-security -Wdate-time -D_FORTIFY_SOURCE=2 build/temp.linux-x86_64-3.6/nice/thresholding.o -o build/lib.linux-x86_64-3.6/nice/thresholding.cpython-36m-x86_64-linux-gnu.so -fopenmp\n",
      "building 'nice.unrolling_individual_pca' extension\n",
      "x86_64-linux-gnu-gcc -pthread -DNDEBUG -g -fwrapv -O2 -Wall -g -fstack-protector-strong -Wformat -Werror=format-security -Wdate-time -D_FORTIFY_SOURCE=2 -fPIC -I/usr/include/python3.6m -c nice/unrolling_individual_pca.c -o build/temp.linux-x86_64-3.6/nice/unrolling_individual_pca.o -O3 -fopenmp\n",
      "x86_64-linux-gnu-gcc -pthread -shared -Wl,-O1 -Wl,-Bsymbolic-functions -Wl,-Bsymbolic-functions -Wl,-z,relro -Wl,-Bsymbolic-functions -Wl,-z,relro -g -fstack-protector-strong -Wformat -Werror=format-security -Wdate-time -D_FORTIFY_SOURCE=2 build/temp.linux-x86_64-3.6/nice/unrolling_individual_pca.o -o build/lib.linux-x86_64-3.6/nice/unrolling_individual_pca.cpython-36m-x86_64-linux-gnu.so -fopenmp\n",
      "building 'nice.unrolling_pca' extension\n",
      "x86_64-linux-gnu-gcc -pthread -DNDEBUG -g -fwrapv -O2 -Wall -g -fstack-protector-strong -Wformat -Werror=format-security -Wdate-time -D_FORTIFY_SOURCE=2 -fPIC -I/usr/include/python3.6m -c nice/unrolling_pca.c -o build/temp.linux-x86_64-3.6/nice/unrolling_pca.o -O3 -fopenmp\n",
      "x86_64-linux-gnu-gcc -pthread -shared -Wl,-O1 -Wl,-Bsymbolic-functions -Wl,-Bsymbolic-functions -Wl,-z,relro -Wl,-Bsymbolic-functions -Wl,-z,relro -g -fstack-protector-strong -Wformat -Werror=format-security -Wdate-time -D_FORTIFY_SOURCE=2 build/temp.linux-x86_64-3.6/nice/unrolling_pca.o -o build/lib.linux-x86_64-3.6/nice/unrolling_pca.cpython-36m-x86_64-linux-gnu.so -fopenmp\n",
      "copying build/lib.linux-x86_64-3.6/nice/naive.cpython-36m-x86_64-linux-gnu.so -> nice\n",
      "copying build/lib.linux-x86_64-3.6/nice/nice_utilities.cpython-36m-x86_64-linux-gnu.so -> nice\n",
      "copying build/lib.linux-x86_64-3.6/nice/packing.cpython-36m-x86_64-linux-gnu.so -> nice\n",
      "copying build/lib.linux-x86_64-3.6/nice/radial_basis.cpython-36m-x86_64-linux-gnu.so -> nice\n"
     ]
    },
    {
     "name": "stdout",
     "output_type": "stream",
     "text": [
      "copying build/lib.linux-x86_64-3.6/nice/rascal_coefficients.cpython-36m-x86_64-linux-gnu.so -> nice\n",
      "copying build/lib.linux-x86_64-3.6/nice/spherical_coefficients.cpython-36m-x86_64-linux-gnu.so -> nice\n",
      "copying build/lib.linux-x86_64-3.6/nice/spherical_harmonics.cpython-36m-x86_64-linux-gnu.so -> nice\n",
      "copying build/lib.linux-x86_64-3.6/nice/test_parallel.cpython-36m-x86_64-linux-gnu.so -> nice\n",
      "copying build/lib.linux-x86_64-3.6/nice/thresholding.cpython-36m-x86_64-linux-gnu.so -> nice\n",
      "copying build/lib.linux-x86_64-3.6/nice/unrolling_individual_pca.cpython-36m-x86_64-linux-gnu.so -> nice\n",
      "copying build/lib.linux-x86_64-3.6/nice/unrolling_pca.cpython-36m-x86_64-linux-gnu.so -> nice\n"
     ]
    }
   ],
   "source": [
    "!rm -r build\n",
    "!python3 setup.py build_ext --inplace"
   ]
  },
  {
   "cell_type": "code",
   "execution_count": 2,
   "metadata": {},
   "outputs": [],
   "source": [
    "import numpy as np\n",
    "from nice.unrolling_individual_pca import pack_dense, unpack_dense\n",
    "import time"
   ]
  },
  {
   "cell_type": "code",
   "execution_count": 3,
   "metadata": {},
   "outputs": [
    {
     "name": "stdout",
     "output_type": "stream",
     "text": [
      "(10000, 10000, 17)\n"
     ]
    }
   ],
   "source": [
    "np.random.seed(0)\n",
    "N_ENVS = 10000\n",
    "L = 8\n",
    "N_FEAT = 10000\n",
    "a = np.random.rand(N_ENVS, N_FEAT, 2 * L + 1)\n",
    "print(a.shape)"
   ]
  },
  {
   "cell_type": "code",
   "execution_count": 4,
   "metadata": {},
   "outputs": [
    {
     "name": "stdout",
     "output_type": "stream",
     "text": [
      "packing:  0.9513816833496094\n",
      "(170000, 10000)\n",
      "unpacking:  0.6490871906280518\n",
      "(10000, 10000, 17)\n",
      "0.0\n"
     ]
    }
   ],
   "source": [
    "#print(b)\n",
    "begin = time.time()\n",
    "b  = pack_dense(a, L, N_FEAT, N_FEAT)\n",
    "print(\"packing: \", time.time() - begin)\n",
    "print(b.shape)\n",
    "begin = time.time()\n",
    "c = unpack_dense(b, N_ENVS, L, N_FEAT)\n",
    "print(\"unpacking: \", time.time() - begin)\n",
    "print(c.shape)\n",
    "#print(a)\n",
    "#print(c)\n",
    "print(np.sum(np.abs(a - c)))"
   ]
  },
  {
   "cell_type": "code",
   "execution_count": 5,
   "metadata": {},
   "outputs": [
    {
     "name": "stdout",
     "output_type": "stream",
     "text": [
      "numpy packing time:  9.627685308456421\n",
      "0.0\n"
     ]
    }
   ],
   "source": [
    "begin = time.time()\n",
    "b_np = np.transpose(a, [0, 2, 1]).reshape([-1, a.shape[1]])\n",
    "print(\"numpy packing time: \", time.time() - begin)\n",
    "print(np.sum(np.abs(b - b_np)))"
   ]
  },
  {
   "cell_type": "code",
   "execution_count": 6,
   "metadata": {},
   "outputs": [
    {
     "name": "stdout",
     "output_type": "stream",
     "text": [
      "NUMBER OF THREADS:  1\n",
      "packing:  9.573766708374023\n",
      "(170000, 10000)\n",
      "unpacking:  9.315922737121582\n",
      "(10000, 10000, 17)\n",
      "0.0\n",
      "NUMBER OF THREADS:  2\n",
      "packing:  3.7028896808624268\n",
      "(170000, 10000)\n",
      "unpacking:  3.687075138092041\n",
      "(10000, 10000, 17)\n",
      "0.0\n",
      "NUMBER OF THREADS:  5\n",
      "packing:  1.8415601253509521\n",
      "(170000, 10000)\n",
      "unpacking:  1.4653632640838623\n",
      "(10000, 10000, 17)\n",
      "0.0\n",
      "NUMBER OF THREADS:  10\n",
      "packing:  1.3602588176727295\n",
      "(170000, 10000)\n",
      "unpacking:  1.3615481853485107\n",
      "(10000, 10000, 17)\n",
      "0.0\n",
      "NUMBER OF THREADS:  20\n",
      "packing:  0.7815852165222168\n",
      "(170000, 10000)\n",
      "unpacking:  0.8944051265716553\n",
      "(10000, 10000, 17)\n",
      "0.0\n",
      "NUMBER OF THREADS:  40\n",
      "packing:  1.1489543914794922\n",
      "(170000, 10000)\n",
      "unpacking:  0.8038980960845947\n",
      "(10000, 10000, 17)\n",
      "0.0\n"
     ]
    }
   ],
   "source": [
    "for num_threads in [1, 2, 5, 10, 20, 40]:\n",
    "    print('NUMBER OF THREADS: ', num_threads)\n",
    "    begin = time.time()\n",
    "    b  = pack_dense(a, L, N_FEAT, N_FEAT, num_threads = num_threads)\n",
    "    print(\"packing: \", time.time() - begin)\n",
    "    print(b.shape)\n",
    "    begin = time.time()\n",
    "    c = unpack_dense(b, N_ENVS, L, N_FEAT, num_threads = num_threads)\n",
    "    print(\"unpacking: \", time.time() - begin)\n",
    "    print(c.shape)\n",
    "    #print(a)\n",
    "    #print(c)\n",
    "    print(np.sum(np.abs(a - c)))"
   ]
  },
  {
   "cell_type": "code",
   "execution_count": 7,
   "metadata": {},
   "outputs": [
    {
     "name": "stdout",
     "output_type": "stream",
     "text": [
      "(100000, 10000, 17)\n"
     ]
    }
   ],
   "source": [
    "np.random.seed(0)\n",
    "N_ENVS = 100000\n",
    "L = 8\n",
    "N_FEAT = 10000\n",
    "a = np.random.rand(N_ENVS, N_FEAT, 2 * L + 1)\n",
    "print(a.shape)"
   ]
  },
  {
   "cell_type": "code",
   "execution_count": 8,
   "metadata": {},
   "outputs": [
    {
     "name": "stdout",
     "output_type": "stream",
     "text": [
      "NUMBER OF THREADS:  1\n",
      "packing:  146.68501448631287\n",
      "(1700000, 10000)\n",
      "unpacking:  184.46228337287903\n",
      "(100000, 10000, 17)\n",
      "0.0\n",
      "NUMBER OF THREADS:  2\n",
      "packing:  35.82693576812744\n",
      "(1700000, 10000)\n",
      "unpacking:  34.416536808013916\n",
      "(100000, 10000, 17)\n",
      "0.0\n",
      "NUMBER OF THREADS:  5\n",
      "packing:  23.590471506118774\n",
      "(1700000, 10000)\n",
      "unpacking:  12.973170280456543\n",
      "(100000, 10000, 17)\n",
      "0.0\n",
      "NUMBER OF THREADS:  10\n",
      "packing:  8.872343063354492\n",
      "(1700000, 10000)\n",
      "unpacking:  7.566669702529907\n",
      "(100000, 10000, 17)\n",
      "0.0\n",
      "NUMBER OF THREADS:  20\n",
      "packing:  8.531863689422607\n",
      "(1700000, 10000)\n",
      "unpacking:  6.689805746078491\n",
      "(100000, 10000, 17)\n",
      "0.0\n",
      "NUMBER OF THREADS:  40\n",
      "packing:  8.104474544525146\n",
      "(1700000, 10000)\n",
      "unpacking:  7.004932165145874\n",
      "(100000, 10000, 17)\n",
      "0.0\n"
     ]
    }
   ],
   "source": [
    "for num_threads in [1, 2, 5, 10, 20, 40]:\n",
    "    print('NUMBER OF THREADS: ', num_threads)\n",
    "    begin = time.time()\n",
    "    b  = pack_dense(a, L, N_FEAT, N_FEAT, num_threads = num_threads)\n",
    "    print(\"packing: \", time.time() - begin)\n",
    "    print(b.shape)\n",
    "    begin = time.time()\n",
    "    c = unpack_dense(b, N_ENVS, L, N_FEAT, num_threads = num_threads)\n",
    "    print(\"unpacking: \", time.time() - begin)\n",
    "    print(c.shape)\n",
    "    #print(a)\n",
    "    #print(c)\n",
    "    print(np.sum(np.abs(a - c)))"
   ]
  },
  {
   "cell_type": "code",
   "execution_count": 9,
   "metadata": {},
   "outputs": [
    {
     "name": "stdout",
     "output_type": "stream",
     "text": [
      "numpy packing time:  88.32395195960999\n",
      "0.0\n"
     ]
    }
   ],
   "source": [
    "begin = time.time()\n",
    "b_np = np.transpose(a, [0, 2, 1]).reshape([-1, a.shape[1]])\n",
    "print(\"numpy packing time: \", time.time() - begin)\n",
    "print(np.sum(np.abs(b - b_np)))"
   ]
  },
  {
   "cell_type": "code",
   "execution_count": null,
   "metadata": {},
   "outputs": [],
   "source": []
  }
 ],
 "metadata": {
  "kernelspec": {
   "display_name": "Python 3",
   "language": "python",
   "name": "python3"
  },
  "language_info": {
   "codemirror_mode": {
    "name": "ipython",
    "version": 3
   },
   "file_extension": ".py",
   "mimetype": "text/x-python",
   "name": "python",
   "nbconvert_exporter": "python",
   "pygments_lexer": "ipython3",
   "version": "3.6.9"
  }
 },
 "nbformat": 4,
 "nbformat_minor": 4
}
